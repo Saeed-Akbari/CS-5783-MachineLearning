{
  "nbformat": 4,
  "nbformat_minor": 0,
  "metadata": {
    "colab": {
      "provenance": [],
      "collapsed_sections": [],
      "authorship_tag": "ABX9TyPukuP7Sx1P+IrESFVPDf4/",
      "include_colab_link": true
    },
    "kernelspec": {
      "name": "python3",
      "display_name": "Python 3"
    },
    "language_info": {
      "name": "python"
    }
  },
  "cells": [
    {
      "cell_type": "markdown",
      "metadata": {
        "id": "view-in-github",
        "colab_type": "text"
      },
      "source": [
        "<a href=\"https://colab.research.google.com/github/Saeed-Akbari/CS5783-MachineLearning/blob/main/Assignment1/problem3.ipynb\" target=\"_parent\"><img src=\"https://colab.research.google.com/assets/colab-badge.svg\" alt=\"Open In Colab\"/></a>"
      ]
    },
    {
      "cell_type": "code",
      "execution_count": null,
      "metadata": {
        "id": "otBQHa4iQDHU"
      },
      "outputs": [],
      "source": [
        "import numpy as np\n",
        "import matplotlib.pyplot as plt"
      ]
    },
    {
      "cell_type": "code",
      "source": [
        "from google.colab import drive\n",
        "drive.mount('/content/drive')"
      ],
      "metadata": {
        "colab": {
          "base_uri": "https://localhost:8080/"
        },
        "id": "vNMwMatGQsei",
        "outputId": "ae8423eb-fae0-43bc-8808-a1a876748f83"
      },
      "execution_count": null,
      "outputs": [
        {
          "output_type": "stream",
          "name": "stdout",
          "text": [
            "Drive already mounted at /content/drive; to attempt to forcibly remount, call drive.mount(\"/content/drive\", force_remount=True).\n"
          ]
        }
      ]
    },
    {
      "cell_type": "code",
      "source": [
        "# Change the path to where you have saved the input files.\n",
        "pathXtrain=\"/content/drive/MyDrive/x_train.npy\"\n",
        "pathYtrain=\"/content/drive/MyDrive/y_train.npy\"\n",
        "pathXtest=\"/content/drive/MyDrive/x_test.npy\"\n",
        "pathYtest=\"/content/drive/MyDrive/y_test.npy\"\n",
        "\n",
        "xtrain = np.load(pathXtrain)\n",
        "ytrain = np.load(pathYtrain)\n",
        "xtest = np.load(pathXtest)\n",
        "ytest = np.load(pathYtest)\n"
      ],
      "metadata": {
        "id": "mMKMeQsAQwUm"
      },
      "execution_count": null,
      "outputs": []
    },
    {
      "cell_type": "code",
      "source": [
        "# Define the locally weighted linear regression model as a class\n",
        "class locallyWeightedLR():\n",
        "    # constructor function for initializing hyperparameter tau (bandwidth) and index of plt.figure(ind)\n",
        "    def __init__(self, tau):\n",
        "        self.tau = tau\n",
        "        self.ind = 1\n",
        "\n",
        "    def fit(self, x0, X, Y):\n",
        "\n",
        "        tau = self.tau\n",
        "        x0 = np.array([1, x0])\n",
        "        X = np.vstack((np.ones(len(X)), X.reshape(len(X)))).T\n",
        "\n",
        "        # weight corresponding to each point\n",
        "        W = self.weightsCal(x0, X, tau)\n",
        "\n",
        "        # parameters theta for each point\n",
        "        theta = np.linalg.pinv(X.T * W @ X) @ X.T * W @ Y\n",
        "\n",
        "        return x0 @ theta\n",
        "\n",
        "    def weightsCal(self, x0, X, tau):\n",
        "        return np.exp(-0.5 * np.sum((X - x0) ** 2, axis=1) / (tau **2))\n",
        "\n",
        "    def plotResults(self, X, Y, path):\n",
        "\n",
        "        s = np.linspace(np.min(X), np.max(X), num=50)\n",
        "        yhat = [self.fit(x0, X, Y) for x0 in s]\n",
        "\n",
        "        plt.figure(self.ind)\n",
        "        self.ind += 1\n",
        "        plt.plot(X, Y, 'o', color = 'blue', label=\"data\")\n",
        "        plt.plot(s, yhat, '*', color = 'orange', label=\"prediction\")\n",
        "        plt.xlabel('Features')\n",
        "        plt.ylabel('Labels')\n",
        "        plt.legend(loc=\"upper left\")\n",
        "        plt.savefig(path)"
      ],
      "metadata": {
        "id": "Q7UceTe8QJan"
      },
      "execution_count": null,
      "outputs": []
    },
    {
      "cell_type": "code",
      "source": [
        "# make an object of the locally weighted linear regression model\n",
        "model = locallyWeightedLR(tau=0.1)"
      ],
      "metadata": {
        "id": "MCZUx0M-QOe2"
      },
      "execution_count": null,
      "outputs": []
    },
    {
      "cell_type": "code",
      "source": [
        "# Change the path to where you want to save the result.\n",
        "path = 'localTraining.png'\n",
        "model.plotResults(xtrain, ytrain, path)"
      ],
      "metadata": {
        "colab": {
          "base_uri": "https://localhost:8080/",
          "height": 279
        },
        "id": "Q2WiQ4V3RYIO",
        "outputId": "2c63abad-3fb8-4eb2-e139-ed988c78ac1e"
      },
      "execution_count": null,
      "outputs": [
        {
          "output_type": "display_data",
          "data": {
            "text/plain": [
              "<Figure size 432x288 with 1 Axes>"
            ],
            "image/png": "[encoded data removed]"
          },
          "metadata": {
            "needs_background": "light"
          }
        }
      ]
    },
    {
      "cell_type": "code",
      "source": [
        "# Change the path to where you want to save the result.\n",
        "path = 'localTest.png'\n",
        "model.plotResults(xtest, ytest, path)"
      ],
      "metadata": {
        "colab": {
          "base_uri": "https://localhost:8080/",
          "height": 279
        },
        "id": "P-5_w-HcRdkb",
        "outputId": "69ecdf9d-1cba-4b9e-a07b-a79f0ce9c5be"
      },
      "execution_count": null,
      "outputs": [
        {
          "output_type": "display_data",
          "data": {
            "text/plain": [
              "<Figure size 432x288 with 1 Axes>"
            ],
            "image/png": "[encoded data removed]"
          },
          "metadata": {
            "needs_background": "light"
          }
        }
      ]
    }
  ]
}