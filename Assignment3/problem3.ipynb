{
  "nbformat": 4,
  "nbformat_minor": 0,
  "metadata": {
    "colab": {
      "provenance": [],
      "collapsed_sections": [],
      "authorship_tag": "ABX9TyPZVzaB5IAU7LBqRE6qmicz",
      "include_colab_link": true
    },
    "kernelspec": {
      "name": "python3",
      "display_name": "Python 3"
    },
    "language_info": {
      "name": "python"
    }
  },
  "cells": [
    {
      "cell_type": "markdown",
      "metadata": {
        "id": "view-in-github",
        "colab_type": "text"
      },
      "source": [
        "<a href=\"https://colab.research.google.com/github/Saeed-Akbari/CS5783-MachineLearning/blob/main/Assignment3/problem3.ipynb\" target=\"_parent\"><img src=\"https://colab.research.google.com/assets/colab-badge.svg\" alt=\"Open In Colab\"/></a>"
      ]
    },
    {
      "cell_type": "markdown",
      "source": [
        "**Part1.** What are the dimensions of the input and the kernel (or filter)? How many parameters are there in the kernel f?\n",
        "\n",
        "Input Size: (C,H,W), Kernel Size\n",
        "C: number of channels,\n",
        "H: height,\n",
        "W: width\n",
        "\n",
        "Input size: (1,6,6),\n",
        "Kernel size: (1,3,3)\n",
        "\n",
        "Number of parameters is $10=(3*3*1+1)*1$"
      ],
      "metadata": {
        "id": "bXSHT4wOdPrk"
      }
    },
    {
      "cell_type": "markdown",
      "source": [
        "**Part2.** What is the output activation map when you apply the convolutional operation using the filter f on the input X without padding?\n",
        "\n",
        "Below cells\n",
        "\n",
        "**Part3.** What is the output when you apply a max-pooling operation on the output from the previous question?\n",
        "\n",
        "Below cells"
      ],
      "metadata": {
        "id": "jRRCs8cheMek"
      }
    },
    {
      "cell_type": "code",
      "execution_count": null,
      "metadata": {
        "id": "OEN2v-8EIqdC"
      },
      "outputs": [],
      "source": [
        "import torch\n",
        "import torch.nn.functional as F"
      ]
    },
    {
      "cell_type": "code",
      "source": [
        "# By using pytorch built-in functions conv2d and MaxPool2d\n",
        "\n",
        "f = torch.Tensor([[[[1, 0, -1], [2, 0, -2], [1, 0, -1]]]])\n",
        "X = torch.Tensor([[[[7, 5, 0, 0, 3, 2], [6, 4, 5, 1, 4, 8], [9, 0, 2, 2, 5, 4], [6, 3, 4, 7, 9, 8], [5, 7, 5, 6, 9, 0], [7, 9, 0, 8, 2, 3]]]])\n",
        "output1 = F.conv2d(X, f)\n",
        "\n",
        "max_pool = torch.nn.MaxPool2d(2)\n",
        "output2 = max_pool(output1)\n",
        "print('The output after applying the filter:')\n",
        "print(output1)\n",
        "print('The Output of max-pooling appleid to the first output:')\n",
        "print(output2)\n",
        "print('Number of parameters:')\n",
        "print((3*3*1+1)*1)"
      ],
      "metadata": {
        "colab": {
          "base_uri": "https://localhost:8080/"
        },
        "id": "gVlYMEtkIv5l",
        "outputId": "0c0fc883-c48f-47ce-e75e-a35d974f3f5c"
      },
      "execution_count": null,
      "outputs": [
        {
          "output_type": "stream",
          "name": "stdout",
          "text": [
            "The output after applying the filter:\n",
            "tensor([[[[ 16.,   9.,  -4., -18.],\n",
            "          [ 17.,  -5., -10., -12.],\n",
            "          [ 11.,  -9., -17.,   2.],\n",
            "          [  9.,  -1., -15.,  16.]]]])\n",
            "The Output of max-pooling appleid to the first output:\n",
            "tensor([[[[17., -4.],\n",
            "          [11., 16.]]]])\n",
            "Number of parameters:\n",
            "10\n"
          ]
        }
      ]
    },
    {
      "cell_type": "code",
      "source": [
        "# Without using pytorch built-in functions conv2d and MaxPool2d\n",
        "\n",
        "f = torch.Tensor([[1, 0, -1], [2, 0, -2], [1, 0, -1]])\n",
        "X = torch.Tensor([[7, 5, 0, 0, 3, 2], [6, 4, 5, 1, 4, 8], [9, 0, 2, 2, 5, 4], [6, 3, 4, 7, 9, 8], [5, 7, 5, 6, 9, 0], [7, 9, 0, 8, 2, 3]])\n",
        "\n",
        "output1 = torch.zeros((4,4))\n",
        "for i in range(4):\n",
        "  for j in range(4):\n",
        "    output1[i,j] = torch.sum(X[i:3+i,j:3+j] * f)\n",
        "\n",
        "output2 = torch.zeros((2,2))\n",
        "for i in range(2):\n",
        "  for j in range(2):\n",
        "    output2[i,j] = torch.max(output1[2*i:2+2*i,2*j:2+2*j])\n",
        "\n",
        "print('The output after applying the filter:')\n",
        "print(output1)\n",
        "print('The Output of max-pooling appleid to the first output:')\n",
        "print(output2)\n",
        "print('Number of parameters:')\n",
        "print((3*3*1+1)*1)"
      ],
      "metadata": {
        "colab": {
          "base_uri": "https://localhost:8080/"
        },
        "id": "5mXrFfPUN2As",
        "outputId": "99499d76-be12-42f8-c19d-befab8632c77"
      },
      "execution_count": null,
      "outputs": [
        {
          "output_type": "stream",
          "name": "stdout",
          "text": [
            "The output after applying the filter:\n",
            "tensor([[ 16.,   9.,  -4., -18.],\n",
            "        [ 17.,  -5., -10., -12.],\n",
            "        [ 11.,  -9., -17.,   2.],\n",
            "        [  9.,  -1., -15.,  16.]])\n",
            "The Output of max-pooling appleid to the first output:\n",
            "tensor([[17., -4.],\n",
            "        [11., 16.]])\n",
            "Number of parameters:\n",
            "10\n"
          ]
        }
      ]
    }
  ]
}