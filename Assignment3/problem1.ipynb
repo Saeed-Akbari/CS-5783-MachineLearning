{
  "nbformat": 4,
  "nbformat_minor": 0,
  "metadata": {
    "colab": {
      "provenance": [],
      "collapsed_sections": [],
      "authorship_tag": "ABX9TyNuzhOe7H94Ik5YVO2yFgoA",
      "include_colab_link": true
    },
    "kernelspec": {
      "name": "python3",
      "display_name": "Python 3"
    },
    "language_info": {
      "name": "python"
    },
    "accelerator": "GPU",
    "gpuClass": "standard"
  },
  "cells": [
    {
      "cell_type": "markdown",
      "metadata": {
        "id": "view-in-github",
        "colab_type": "text"
      },
      "source": [
        "<a href=\"https://colab.research.google.com/github/Saeed-Akbari/CS5783-MachineLearning/blob/main/Assignment3/problem1.ipynb\" target=\"_parent\"><img src=\"https://colab.research.google.com/assets/colab-badge.svg\" alt=\"Open In Colab\"/></a>"
      ]
    },
    {
      "cell_type": "code",
      "execution_count": null,
      "metadata": {
        "id": "ALrkqEbdUWRv"
      },
      "outputs": [],
      "source": [
        "# import required packages.\n",
        "\n",
        "import torch\n",
        "import numpy as np\n",
        "import matplotlib.pyplot as plt\n",
        "\n",
        "import torch.nn.functional as F\n",
        "from  torchvision.datasets import MNIST\n",
        "from torchvision.transforms import ToTensor\n",
        "#from torchvision import datasets, transforms\n",
        "from torchvision.utils import make_grid\n",
        "from torch.utils.data.dataloader import DataLoader\n",
        "#from torch.optim.lr_scheduler import StepLR\n",
        "from torch.utils.data import random_split\n",
        "\n",
        "from torchsummary import summary\n",
        "# from torch.optim.lr_scheduler import OneCycleLR"
      ]
    },
    {
      "cell_type": "code",
      "source": [
        "# This cell is to handle resources, e.g., CPU and GPU.\n",
        "\n",
        "#function to ensure that our code uses the GPU if available, and defaults to using the CPU if it isn't.\n",
        "def get_default_device():\n",
        "    \"\"\"Pick GPU if available, else CPU\"\"\"\n",
        "    if torch.cuda.is_available():\n",
        "        return torch.device('cuda')\n",
        "    else:\n",
        "        return torch.device('cpu')\n",
        "    \n",
        "# a function that can move data and model to a chosen device.    \n",
        "def to_device(data, device):\n",
        "    \"\"\"Move tensor(s) to chosen device\"\"\"\n",
        "    if isinstance(data, (list,tuple)):\n",
        "        return [to_device(x, device) for x in data]\n",
        "    return data.to(device, non_blocking=True)\n",
        "\n",
        "\n",
        "#Finally, we define a DeviceDataLoader class to wrap our existing data loaders\n",
        "#and move data to the selected device, as a batches are accessed.\n",
        "#Interestingly, we don't need to extend an existing class to create a PyTorch\n",
        "#dataloader. \n",
        "#All we need is an __iter__ method to retrieve batches of data, and\n",
        "#an __len__ method to get the number of batches.\n",
        "\n",
        "class DeviceDataLoader():\n",
        "    \"\"\"Wrap a dataloader to move data to a device\"\"\"\n",
        "    def __init__(self, dl, device):\n",
        "        self.dl = dl\n",
        "        self.device = device\n",
        "        \n",
        "    def __iter__(self):\n",
        "        \"\"\"Yield a batch of data after moving it to device\"\"\"\n",
        "        for b in self.dl: \n",
        "            yield to_device(b, self.device)\n",
        "\n",
        "    def __len__(self):\n",
        "        \"\"\"Number of batches\"\"\"\n",
        "        return len(self.dl)"
      ],
      "metadata": {
        "id": "MEUT32pqKneY"
      },
      "execution_count": null,
      "outputs": []
    },
    {
      "cell_type": "code",
      "source": [
        "# This function plots accuracy\n",
        "\n",
        "def plot_scores(history):\n",
        "#     scores = [x['val_score'] for x in history]\n",
        "    acc = [x['val_acc'] for x in history]\n",
        "    plt.plot(acc, '-x')\n",
        "    plt.xlabel('epoch')\n",
        "    plt.ylabel('acc')\n",
        "    plt.title('acc vs. No. of epochs');"
      ],
      "metadata": {
        "id": "7lvDLU6DDfxW"
      },
      "execution_count": null,
      "outputs": []
    },
    {
      "cell_type": "code",
      "source": [
        "# This function plots losses\n",
        "\n",
        "def plot_losses(history):\n",
        "    train_losses = [x.get('train_loss') for x in history]\n",
        "    val_losses = [x['val_loss'] for x in history]\n",
        "    plt.plot(train_losses, '-bx')\n",
        "    plt.plot(val_losses, '-rx')\n",
        "    plt.xlabel('epoch')\n",
        "    plt.ylabel('loss')\n",
        "    plt.legend(['Training', 'Validation'])\n",
        "    plt.title('Loss vs. No. of epochs');"
      ],
      "metadata": {
        "id": "coMjnSzxDjYF"
      },
      "execution_count": null,
      "outputs": []
    },
    {
      "cell_type": "code",
      "source": [
        "# This decorator deactivates the autograd engine (tracking of gradients) to\n",
        "# reduce memory usage and boost computational speed for evaluation phase.\n",
        "@torch.no_grad()\n",
        "def evaluate(model, val_loader):\n",
        "    # batchnorm or dropout layers will work in eval mode instead of training mode\n",
        "    model.eval()\n",
        "    # Calculate loss on data coming from validation set\n",
        "    outputs = [model.validation_step(batch) for batch in val_loader]\n",
        "    return model.validation_epoch_end(outputs)\n",
        "\n",
        "# fit function is for training step\n",
        "def fit(epochs, lr, model, train_loader, val_loader, opt_func):\n",
        "    torch.cuda.empty_cache()\n",
        "    history = []\n",
        "    optimizer = opt_func(model.parameters(), lr)\n",
        "    # scheduler = OneCycleLR(optimizer, lr, epochs=epochs,steps_per_epoch=len(train_loader))\n",
        "\n",
        "    for epoch in range(epochs):\n",
        "        # Training Phase \n",
        "        model.train()\n",
        "        train_losses = []\n",
        "        for batch in train_loader:\n",
        "            # Calculate loss on data coming from training set\n",
        "            loss = model.training_step(batch)\n",
        "            # keep all losses on different batches of training data\n",
        "            train_losses.append(loss)\n",
        "            loss.backward()\n",
        "            optimizer.step()\n",
        "            optimizer.zero_grad()\n",
        "\n",
        "            # scheduler.step()\n",
        "        # Validation phase\n",
        "        result = evaluate(model, val_loader)\n",
        "        result['train_loss'] = torch.stack(train_losses).mean().item()\n",
        "        # model.epoch_end(epoch, result,scheduler.get_lr())\n",
        "        model.epoch_end(epoch, result,lr)\n",
        "        history.append(result)\n",
        "    return history"
      ],
      "metadata": {
        "id": "4oLpVzOBulop"
      },
      "execution_count": null,
      "outputs": []
    },
    {
      "cell_type": "code",
      "source": [
        "# downloading MNIST dataset (both training and test sets)\n",
        "\n",
        "torch.manual_seed(1)\n",
        "\n",
        "dataset = MNIST(root='data/', download=True, train=True, transform=ToTensor())\n",
        "test_dataset = MNIST(root='data/', download=True, train=False, transform=ToTensor())"
      ],
      "metadata": {
        "id": "qlYEs7p_UzNO"
      },
      "execution_count": null,
      "outputs": []
    },
    {
      "cell_type": "code",
      "source": [
        "# calculate accuracy by counting the number of true predictions and dividing it\n",
        "# to the whole number of predictions.\n",
        "def accuracy(outputs, labels):\n",
        "    _, preds = torch.max(outputs, dim=1)\n",
        "    return torch.tensor(torch.sum(preds == labels).item() / len(preds))"
      ],
      "metadata": {
        "id": "NIhGhlhExzaJ"
      },
      "execution_count": null,
      "outputs": []
    },
    {
      "cell_type": "code",
      "source": [
        "# This class is parent for the next class \"MnistModel\".\n",
        "# This class inherits charactristics from \"torch.nn.Module\" class.\n",
        "\n",
        "class MnistModelBase(torch.nn.Module):\n",
        "    # Calculate loss on training set\n",
        "    def training_step(self, batch):\n",
        "        images, targets = batch   # extracting features and labels\n",
        "        out = self(images)        # calculate the output or yhat\n",
        "        loss = F.cross_entropy(out, targets)  # calculate loss function\n",
        "        return loss     # return loss\n",
        "    \n",
        "    # Calculate loss on validation set\n",
        "    def validation_step(self, batch):\n",
        "        images, targets = batch    # extracting features and labels\n",
        "        out = self(images)        # calculate the output or yhat\n",
        "        loss = F.cross_entropy(out, targets)  # Calculate loss\n",
        "        # calculate the accuracy based on the function I already defined in the above cells\n",
        "        acc = accuracy(out, targets)\n",
        "        # return a dictionary including loss and accuracy of validation set\n",
        "        return {'val_loss': loss.detach(), 'val_acc': acc }\n",
        "        \n",
        "    def validation_epoch_end(self, outputs):\n",
        "        batch_losses = [x['val_loss'] for x in outputs]\n",
        "        epoch_loss = torch.stack(batch_losses).mean()   # Combine losses\n",
        "        batch_acc = [x['val_acc'] for x in outputs]\n",
        "        epoch_acc = torch.stack(batch_acc).mean()      # Combine accuracies\n",
        "        return {'val_loss': epoch_loss.item(), 'val_acc': epoch_acc.item()}\n",
        "    \n",
        "    # show some metrics during training\n",
        "    def epoch_end(self, epoch, result,LR):\n",
        "        print(\"Epoch [{}] - LR [{}], train_loss: {:.4f}, val_loss: {:.4f}, val_acc: {:.4f}\".format(\n",
        "            epoch,LR,result['train_loss'], result['val_loss'], result['val_acc']))"
      ],
      "metadata": {
        "id": "zDc5qlO7uKvg"
      },
      "execution_count": null,
      "outputs": []
    },
    {
      "cell_type": "markdown",
      "source": [
        "**Part 1.** A regular CNN where the number of filters in each layer increases as the depth of the network grows i.e., the L th layer will have more filters than the (L-1) th layer.\n",
        "\n",
        "I change batch size, learning rate, and optimizer to compare their effects of accuracy."
      ],
      "metadata": {
        "id": "G8AttzM5i9t6"
      }
    },
    {
      "cell_type": "code",
      "source": [
        "# Hyper parameters\n",
        "\n",
        "batch_size=128      # number of batch size\n",
        "val_size = 10000    # size of the validation set\n",
        "epochs = 20     # number of epochs\n",
        "lr = 0.001      # learning rate\n",
        "opt_func = torch.optim.Adam     # optimizer"
      ],
      "metadata": {
        "id": "tXSknTRzjX4P"
      },
      "execution_count": null,
      "outputs": []
    },
    {
      "cell_type": "code",
      "source": [
        "# This class inherits from \"MnistModelBase\" class.\n",
        "# Layers of the CNN is defined here.\n",
        "\n",
        "class MnistModel1(MnistModelBase):\n",
        "    \"\"\"Feedfoward neural network with 2 hidden layer\"\"\"\n",
        "    def __init__(self):\n",
        "        super().__init__()\n",
        "\n",
        "        # size: (channel-in, channel-out, kernel size)\n",
        "        self.conv1 = torch.nn.Conv2d(1, 4, 3, padding='same')\n",
        "        self.conv2 = torch.nn.Conv2d(4, 8, 3, padding='same')\n",
        "        self.conv3 = torch.nn.Conv2d(8, 12, 3, padding='same')\n",
        "        self.conv4 = torch.nn.Conv2d(12, 16, 3, padding='same')\n",
        "        self.conv5 = torch.nn.Conv2d(16, 20, 3, padding='same')\n",
        "        self.conv6 = torch.nn.Conv2d(20, 24, 3, padding='same')\n",
        "        self.conv7 = torch.nn.Conv2d(24, 26, 3, padding='same')\n",
        "        self.conv8 = torch.nn.Conv2d(26, 28, 3, padding='same')\n",
        "        self.conv9 = torch.nn.Conv2d(28, 30, 3, padding='same')\n",
        "        self.conv10 = torch.nn.Conv2d(30, 32, 3)\n",
        "\n",
        "        self.pool = torch.nn.MaxPool2d(2, 2)\n",
        "\n",
        "        self.relu = torch.nn.ReLU()\n",
        "\n",
        "        self.fc1 = torch.nn.Linear(5408, 100)\n",
        "        self.fc2 = torch.nn.Linear(100, 10)  # 10 classes\n",
        "\n",
        "    def forward(self, xb):\n",
        "\n",
        "        # CNN\n",
        "        x = self.relu(self.conv1(xb))\n",
        "        x = self.relu(self.conv2(x))\n",
        "        x = self.relu(self.conv3(x))\n",
        "        x = self.relu(self.conv4(x))\n",
        "        x = self.relu(self.conv5(x))\n",
        "        x = self.relu(self.conv6(x))\n",
        "        x = self.relu(self.conv7(x))\n",
        "        x = self.relu(self.conv8(x))\n",
        "        x = self.relu(self.conv9(x))\n",
        "        x = self.relu(self.conv10(x))\n",
        "        x = self.pool(x)\n",
        "\n",
        "        # MLP\n",
        "        x = x.view(x.shape[0], -1)\n",
        "\n",
        "        x = self.relu(self.fc1(x))\n",
        "        x = self.fc2(x)\n",
        "\n",
        "        return x"
      ],
      "metadata": {
        "id": "ooXyyZJuuOMi"
      },
      "execution_count": null,
      "outputs": []
    },
    {
      "cell_type": "code",
      "source": [
        "# size of training set is the total size minus the size of val set\n",
        "train_size = len(dataset) - val_size\n",
        "\n",
        "# split dataset between two training and validation sets.\n",
        "train_ds, val_ds = random_split(dataset, [train_size, val_size])"
      ],
      "metadata": {
        "id": "jRx0LvhpVJn3"
      },
      "execution_count": null,
      "outputs": []
    },
    {
      "cell_type": "code",
      "source": [
        "# create three tensors for trainin, validation, and test sets\n",
        "\n",
        "train_loader = DataLoader(train_ds, batch_size, shuffle=True, num_workers=2, pin_memory=True)\n",
        "val_loader = DataLoader(val_ds, batch_size*2, num_workers=2, pin_memory=True)\n",
        "test_loader = DataLoader(test_dataset, batch_size*2, num_workers=2, pin_memory=True)"
      ],
      "metadata": {
        "id": "rzCNeUVKEHUU"
      },
      "execution_count": null,
      "outputs": []
    },
    {
      "cell_type": "code",
      "source": [
        "# This cell calculates min, max, mean, and standard deviation of training set\n",
        "# It shows first training data\n",
        "\n",
        "imgs, lbls = next(iter(train_loader))\n",
        "print(imgs[7].data.shape)\n",
        "print(\"min value\", imgs.data.min())\n",
        "print(\"max value\",imgs.data.max())\n",
        "print(\"Mean\",imgs.data.mean())\n",
        "print(\"Std deviation\",imgs.data.std())\n",
        "plt.imshow(imgs[0].data.reshape((28,28)), cmap=\"gray\")"
      ],
      "metadata": {
        "colab": {
          "base_uri": "https://localhost:8080/",
          "height": 372
        },
        "id": "J-66qeStYmwY",
        "outputId": "1c6160c8-5f5e-4dfc-faa0-ebe0d026f053"
      },
      "execution_count": null,
      "outputs": [
        {
          "output_type": "stream",
          "name": "stdout",
          "text": [
            "torch.Size([1, 28, 28])\n",
            "min value tensor(0.)\n",
            "max value tensor(1.)\n",
            "Mean tensor(0.1345)\n",
            "Std deviation tensor(0.3120)\n"
          ]
        },
        {
          "output_type": "execute_result",
          "data": {
            "text/plain": [
              "<matplotlib.image.AxesImage at 0x7f4a62d8aa10>"
            ]
          },
          "metadata": {},
          "execution_count": 83
        },
        {
          "output_type": "display_data",
          "data": {
            "text/plain": [
              "<Figure size 432x288 with 1 Axes>"
            ],
            "image/png": "[encoded data removed]"
          },
          "metadata": {
            "needs_background": "light"
          }
        }
      ]
    },
    {
      "cell_type": "code",
      "source": [
        "# choose the default device.\n",
        "# It takes GPU if it is available. Otherwise, it takes CPU.\n",
        "device = get_default_device()\n",
        "\n",
        "# move the dataloaders and data to the selected device (either GPU or CPU)\n",
        "# for all training, validation, and test sets.\n",
        "train_loader = DeviceDataLoader(train_loader, device)\n",
        "val_loader = DeviceDataLoader(val_loader, device)\n",
        "test_loader = DeviceDataLoader(test_loader, device)"
      ],
      "metadata": {
        "id": "io-UFEJJudd8"
      },
      "execution_count": null,
      "outputs": []
    },
    {
      "cell_type": "code",
      "source": [
        "# Create model by building an object of MnistModel1 class\n",
        "model1 = MnistModel1()\n",
        "to_device(model1, device)"
      ],
      "metadata": {
        "colab": {
          "base_uri": "https://localhost:8080/"
        },
        "id": "ZY4ld8OxarVP",
        "outputId": "c1504464-6379-4c70-8571-7ace28ed168a"
      },
      "execution_count": null,
      "outputs": [
        {
          "output_type": "execute_result",
          "data": {
            "text/plain": [
              "MnistModel1(\n",
              "  (conv1): Conv2d(1, 4, kernel_size=(3, 3), stride=(1, 1), padding=same)\n",
              "  (conv2): Conv2d(4, 8, kernel_size=(3, 3), stride=(1, 1), padding=same)\n",
              "  (conv3): Conv2d(8, 12, kernel_size=(3, 3), stride=(1, 1), padding=same)\n",
              "  (conv4): Conv2d(12, 16, kernel_size=(3, 3), stride=(1, 1), padding=same)\n",
              "  (conv5): Conv2d(16, 20, kernel_size=(3, 3), stride=(1, 1), padding=same)\n",
              "  (conv6): Conv2d(20, 24, kernel_size=(3, 3), stride=(1, 1), padding=same)\n",
              "  (conv7): Conv2d(24, 26, kernel_size=(3, 3), stride=(1, 1), padding=same)\n",
              "  (conv8): Conv2d(26, 28, kernel_size=(3, 3), stride=(1, 1), padding=same)\n",
              "  (conv9): Conv2d(28, 30, kernel_size=(3, 3), stride=(1, 1), padding=same)\n",
              "  (conv10): Conv2d(30, 32, kernel_size=(3, 3), stride=(1, 1))\n",
              "  (pool): MaxPool2d(kernel_size=2, stride=2, padding=0, dilation=1, ceil_mode=False)\n",
              "  (relu): ReLU()\n",
              "  (fc1): Linear(in_features=5408, out_features=100, bias=True)\n",
              "  (fc2): Linear(in_features=100, out_features=10, bias=True)\n",
              ")"
            ]
          },
          "metadata": {},
          "execution_count": 85
        }
      ]
    },
    {
      "cell_type": "code",
      "source": [
        "# print the summary of the model\n",
        "summary(model1, input_size=(1, 28, 28), batch_size=-1)"
      ],
      "metadata": {
        "colab": {
          "base_uri": "https://localhost:8080/"
        },
        "id": "9Fhp9ALEa9Ag",
        "outputId": "94354c04-4c6e-4a64-f29c-b1c162e734c2"
      },
      "execution_count": null,
      "outputs": [
        {
          "output_type": "stream",
          "name": "stdout",
          "text": [
            "----------------------------------------------------------------\n",
            "        Layer (type)               Output Shape         Param #\n",
            "================================================================\n",
            "            Conv2d-1            [-1, 4, 28, 28]              40\n",
            "              ReLU-2            [-1, 4, 28, 28]               0\n",
            "            Conv2d-3            [-1, 8, 28, 28]             296\n",
            "              ReLU-4            [-1, 8, 28, 28]               0\n",
            "            Conv2d-5           [-1, 12, 28, 28]             876\n",
            "              ReLU-6           [-1, 12, 28, 28]               0\n",
            "            Conv2d-7           [-1, 16, 28, 28]           1,744\n",
            "              ReLU-8           [-1, 16, 28, 28]               0\n",
            "            Conv2d-9           [-1, 20, 28, 28]           2,900\n",
            "             ReLU-10           [-1, 20, 28, 28]               0\n",
            "           Conv2d-11           [-1, 24, 28, 28]           4,344\n",
            "             ReLU-12           [-1, 24, 28, 28]               0\n",
            "           Conv2d-13           [-1, 26, 28, 28]           5,642\n",
            "             ReLU-14           [-1, 26, 28, 28]               0\n",
            "           Conv2d-15           [-1, 28, 28, 28]           6,580\n",
            "             ReLU-16           [-1, 28, 28, 28]               0\n",
            "           Conv2d-17           [-1, 30, 28, 28]           7,590\n",
            "             ReLU-18           [-1, 30, 28, 28]               0\n",
            "           Conv2d-19           [-1, 32, 26, 26]           8,672\n",
            "             ReLU-20           [-1, 32, 26, 26]               0\n",
            "        MaxPool2d-21           [-1, 32, 13, 13]               0\n",
            "           Linear-22                  [-1, 100]         540,900\n",
            "             ReLU-23                  [-1, 100]               0\n",
            "           Linear-24                   [-1, 10]           1,010\n",
            "================================================================\n",
            "Total params: 580,594\n",
            "Trainable params: 580,594\n",
            "Non-trainable params: 0\n",
            "----------------------------------------------------------------\n",
            "Input size (MB): 0.00\n",
            "Forward/backward pass size (MB): 2.38\n",
            "Params size (MB): 2.21\n",
            "Estimated Total Size (MB): 4.60\n",
            "----------------------------------------------------------------\n"
          ]
        }
      ]
    },
    {
      "cell_type": "code",
      "source": [
        "# training the network\n",
        "history1 = [evaluate(model1, val_loader)]\n",
        "history1 += fit(epochs, lr, model1, train_loader, val_loader, opt_func)"
      ],
      "metadata": {
        "colab": {
          "base_uri": "https://localhost:8080/"
        },
        "id": "pmypI3dFbD5B",
        "outputId": "328809d8-526c-4cd7-aaa2-22a7a72ddae6"
      },
      "execution_count": null,
      "outputs": [
        {
          "output_type": "stream",
          "name": "stdout",
          "text": [
            "Epoch [0] - LR [0.001], train_loss: 0.7417, val_loss: 0.1257, val_acc: 0.9635\n",
            "Epoch [1] - LR [0.001], train_loss: 0.0782, val_loss: 0.0790, val_acc: 0.9787\n",
            "Epoch [2] - LR [0.001], train_loss: 0.0542, val_loss: 0.0721, val_acc: 0.9791\n",
            "Epoch [3] - LR [0.001], train_loss: 0.0414, val_loss: 0.0530, val_acc: 0.9835\n",
            "Epoch [4] - LR [0.001], train_loss: 0.0339, val_loss: 0.0480, val_acc: 0.9862\n",
            "Epoch [5] - LR [0.001], train_loss: 0.0278, val_loss: 0.0568, val_acc: 0.9852\n",
            "Epoch [6] - LR [0.001], train_loss: 0.0234, val_loss: 0.0463, val_acc: 0.9875\n",
            "Epoch [7] - LR [0.001], train_loss: 0.0188, val_loss: 0.0480, val_acc: 0.9883\n",
            "Epoch [8] - LR [0.001], train_loss: 0.0166, val_loss: 0.0506, val_acc: 0.9879\n",
            "Epoch [9] - LR [0.001], train_loss: 0.0138, val_loss: 0.0459, val_acc: 0.9881\n",
            "Epoch [10] - LR [0.001], train_loss: 0.0134, val_loss: 0.0481, val_acc: 0.9862\n",
            "Epoch [11] - LR [0.001], train_loss: 0.0113, val_loss: 0.0478, val_acc: 0.9881\n",
            "Epoch [12] - LR [0.001], train_loss: 0.0114, val_loss: 0.0455, val_acc: 0.9870\n",
            "Epoch [13] - LR [0.001], train_loss: 0.0100, val_loss: 0.0510, val_acc: 0.9891\n",
            "Epoch [14] - LR [0.001], train_loss: 0.0085, val_loss: 0.0506, val_acc: 0.9893\n",
            "Epoch [15] - LR [0.001], train_loss: 0.0087, val_loss: 0.0479, val_acc: 0.9892\n",
            "Epoch [16] - LR [0.001], train_loss: 0.0087, val_loss: 0.0540, val_acc: 0.9885\n",
            "Epoch [17] - LR [0.001], train_loss: 0.0070, val_loss: 0.0478, val_acc: 0.9898\n",
            "Epoch [18] - LR [0.001], train_loss: 0.0068, val_loss: 0.0394, val_acc: 0.9902\n",
            "Epoch [19] - LR [0.001], train_loss: 0.0069, val_loss: 0.0483, val_acc: 0.9900\n"
          ]
        }
      ]
    },
    {
      "cell_type": "code",
      "source": [
        "# plot losses\n",
        "plot_losses(history1)"
      ],
      "metadata": {
        "colab": {
          "base_uri": "https://localhost:8080/",
          "height": 295
        },
        "id": "Mw4MUJzGbKEX",
        "outputId": "a6dfa2c4-6456-4765-918d-6de58737acd0"
      },
      "execution_count": null,
      "outputs": [
        {
          "output_type": "display_data",
          "data": {
            "text/plain": [
              "<Figure size 432x288 with 1 Axes>"
            ],
            "image/png": "[encoded data removed]"
          },
          "metadata": {
            "needs_background": "light"
          }
        }
      ]
    },
    {
      "cell_type": "code",
      "source": [
        "# plot accuracy\n",
        "plot_scores(history1)"
      ],
      "metadata": {
        "colab": {
          "base_uri": "https://localhost:8080/",
          "height": 295
        },
        "id": "c8iHuufebVeR",
        "outputId": "a5c52956-7885-4f36-8822-9669c24c3462"
      },
      "execution_count": null,
      "outputs": [
        {
          "output_type": "display_data",
          "data": {
            "text/plain": [
              "<Figure size 432x288 with 1 Axes>"
            ],
            "image/png": "[encoded data removed]"
          },
          "metadata": {
            "needs_background": "light"
          }
        }
      ]
    },
    {
      "cell_type": "code",
      "source": [
        "# loss and accuracy of last epochs\n",
        "print(history1[-1])"
      ],
      "metadata": {
        "colab": {
          "base_uri": "https://localhost:8080/"
        },
        "id": "Zx7sBdEQ9rci",
        "outputId": "d4ad3ed1-ef9f-4dda-b8ce-ac697db898ed"
      },
      "execution_count": null,
      "outputs": [
        {
          "output_type": "stream",
          "name": "stdout",
          "text": [
            "{'val_loss': 0.048270244151353836, 'val_acc': 0.990039050579071, 'train_loss': 0.0069006336852908134}\n"
          ]
        }
      ]
    },
    {
      "cell_type": "markdown",
      "source": [
        "Second set of hyper parameters for Part 1 (increasing batch size)."
      ],
      "metadata": {
        "id": "JMSkhNxQjlvg"
      }
    },
    {
      "cell_type": "code",
      "source": [
        "# Hyper parameters\n",
        "\n",
        "batch_size = 1024      # number of batch size\n",
        "val_size = 10000    # size of the validation set\n",
        "epochs = 20     # number of epochs\n",
        "lr = 0.001      # learning rate\n",
        "opt_func = torch.optim.Adam     # optimizer"
      ],
      "metadata": {
        "id": "mcktN3k7jyAO"
      },
      "execution_count": null,
      "outputs": []
    },
    {
      "cell_type": "code",
      "source": [
        "# create three tensors for trainin, validation, and test sets\n",
        "\n",
        "train_loader = DataLoader(train_ds, batch_size, shuffle=True, num_workers=2, pin_memory=True)\n",
        "val_loader = DataLoader(val_ds, batch_size*2, num_workers=2, pin_memory=True)\n",
        "test_loader = DataLoader(test_dataset, batch_size*2, num_workers=2, pin_memory=True)\n",
        "\n",
        "# move the dataloaders and data to the selected device (either GPU or CPU)\n",
        "# for all training, validation, and test sets.\n",
        "train_loader = DeviceDataLoader(train_loader, device)\n",
        "val_loader = DeviceDataLoader(val_loader, device)\n",
        "test_loader = DeviceDataLoader(test_loader, device)"
      ],
      "metadata": {
        "id": "Wvhx4_igkAEO"
      },
      "execution_count": null,
      "outputs": []
    },
    {
      "cell_type": "code",
      "source": [
        "# training the network\n",
        "model12 = MnistModel1()\n",
        "to_device(model12, device)\n",
        "history12 = [evaluate(model12, val_loader)]\n",
        "history12 += fit(epochs, lr, model12, train_loader, val_loader, opt_func)"
      ],
      "metadata": {
        "colab": {
          "base_uri": "https://localhost:8080/"
        },
        "id": "dyo4esNWkQKP",
        "outputId": "d69ed5b6-ae94-4f2a-c0fd-4c6c8c7525c0"
      },
      "execution_count": null,
      "outputs": [
        {
          "output_type": "stream",
          "name": "stdout",
          "text": [
            "Epoch [0] - LR [0.001], train_loss: 2.3023, val_loss: 2.3023, val_acc: 0.1104\n",
            "Epoch [1] - LR [0.001], train_loss: 2.3013, val_loss: 2.2997, val_acc: 0.1104\n",
            "Epoch [2] - LR [0.001], train_loss: 1.2472, val_loss: 0.3010, val_acc: 0.9079\n",
            "Epoch [3] - LR [0.001], train_loss: 0.2047, val_loss: 0.1650, val_acc: 0.9510\n",
            "Epoch [4] - LR [0.001], train_loss: 0.1206, val_loss: 0.1217, val_acc: 0.9628\n",
            "Epoch [5] - LR [0.001], train_loss: 0.0885, val_loss: 0.0899, val_acc: 0.9702\n",
            "Epoch [6] - LR [0.001], train_loss: 0.0647, val_loss: 0.0715, val_acc: 0.9759\n",
            "Epoch [7] - LR [0.001], train_loss: 0.0520, val_loss: 0.0631, val_acc: 0.9803\n",
            "Epoch [8] - LR [0.001], train_loss: 0.0451, val_loss: 0.0607, val_acc: 0.9812\n",
            "Epoch [9] - LR [0.001], train_loss: 0.0384, val_loss: 0.0579, val_acc: 0.9811\n",
            "Epoch [10] - LR [0.001], train_loss: 0.0324, val_loss: 0.0575, val_acc: 0.9825\n",
            "Epoch [11] - LR [0.001], train_loss: 0.0301, val_loss: 0.0577, val_acc: 0.9829\n",
            "Epoch [12] - LR [0.001], train_loss: 0.0266, val_loss: 0.0601, val_acc: 0.9834\n",
            "Epoch [13] - LR [0.001], train_loss: 0.0236, val_loss: 0.0552, val_acc: 0.9846\n",
            "Epoch [14] - LR [0.001], train_loss: 0.0205, val_loss: 0.0571, val_acc: 0.9854\n",
            "Epoch [15] - LR [0.001], train_loss: 0.0168, val_loss: 0.0554, val_acc: 0.9855\n",
            "Epoch [16] - LR [0.001], train_loss: 0.0144, val_loss: 0.0592, val_acc: 0.9849\n",
            "Epoch [17] - LR [0.001], train_loss: 0.0130, val_loss: 0.0633, val_acc: 0.9851\n",
            "Epoch [18] - LR [0.001], train_loss: 0.0140, val_loss: 0.0622, val_acc: 0.9859\n",
            "Epoch [19] - LR [0.001], train_loss: 0.0112, val_loss: 0.0642, val_acc: 0.9851\n"
          ]
        }
      ]
    },
    {
      "cell_type": "code",
      "source": [
        "# plot losses\n",
        "plot_losses(history12)"
      ],
      "metadata": {
        "id": "q2ZK1qFbkXLh",
        "colab": {
          "base_uri": "https://localhost:8080/",
          "height": 295
        },
        "outputId": "139da2fc-4e67-4109-f13a-6e9ba34bd020"
      },
      "execution_count": null,
      "outputs": [
        {
          "output_type": "display_data",
          "data": {
            "text/plain": [
              "<Figure size 432x288 with 1 Axes>"
            ],
            "image/png": "[encoded data removed]"
          },
          "metadata": {
            "needs_background": "light"
          }
        }
      ]
    },
    {
      "cell_type": "code",
      "source": [
        "# plot accuracy\n",
        "plot_scores(history12)"
      ],
      "metadata": {
        "id": "boqHve4lkXkv",
        "colab": {
          "base_uri": "https://localhost:8080/",
          "height": 295
        },
        "outputId": "1bbe64b7-2567-439f-98e0-2591f4f7d064"
      },
      "execution_count": null,
      "outputs": [
        {
          "output_type": "display_data",
          "data": {
            "text/plain": [
              "<Figure size 432x288 with 1 Axes>"
            ],
            "image/png": "[encoded data removed]"
          },
          "metadata": {
            "needs_background": "light"
          }
        }
      ]
    },
    {
      "cell_type": "code",
      "source": [
        "# Hyper parameters\n",
        "\n",
        "batch_size = 128      # number of batch size\n",
        "val_size = 10000    # size of the validation set\n",
        "epochs = 20     # number of epochs\n",
        "lr = 0.001      # learning rate\n",
        "opt_func = torch.optim.SGD     # optimizer"
      ],
      "metadata": {
        "id": "zFWfbGqRJDPS"
      },
      "execution_count": null,
      "outputs": []
    },
    {
      "cell_type": "code",
      "source": [
        "# create three tensors for trainin, validation, and test sets\n",
        "\n",
        "train_loader = DataLoader(train_ds, batch_size, shuffle=True, num_workers=2, pin_memory=True)\n",
        "val_loader = DataLoader(val_ds, batch_size*2, num_workers=2, pin_memory=True)\n",
        "test_loader = DataLoader(test_dataset, batch_size*2, num_workers=2, pin_memory=True)\n",
        "\n",
        "# move the dataloaders and data to the selected device (either GPU or CPU)\n",
        "# for all training, validation, and test sets.\n",
        "train_loader = DeviceDataLoader(train_loader, device)\n",
        "val_loader = DeviceDataLoader(val_loader, device)\n",
        "test_loader = DeviceDataLoader(test_loader, device)"
      ],
      "metadata": {
        "id": "vJ4R-N3bJIKw"
      },
      "execution_count": null,
      "outputs": []
    },
    {
      "cell_type": "code",
      "source": [
        "# training the network\n",
        "model13 = MnistModel1()\n",
        "to_device(model13, device)\n",
        "history13 = [evaluate(model13, val_loader)]\n",
        "history13 += fit(epochs, lr, model13, train_loader, val_loader, opt_func)"
      ],
      "metadata": {
        "colab": {
          "base_uri": "https://localhost:8080/"
        },
        "id": "g4BSHUbdJLEx",
        "outputId": "4ec22d7d-1235-4f23-d825-839d06240271"
      },
      "execution_count": null,
      "outputs": [
        {
          "output_type": "stream",
          "name": "stdout",
          "text": [
            "Epoch [0] - LR [0.001], train_loss: 2.3036, val_loss: 2.3036, val_acc: 0.1002\n",
            "Epoch [1] - LR [0.001], train_loss: 2.3032, val_loss: 2.3033, val_acc: 0.1002\n",
            "Epoch [2] - LR [0.001], train_loss: 2.3030, val_loss: 2.3031, val_acc: 0.1002\n",
            "Epoch [3] - LR [0.001], train_loss: 2.3028, val_loss: 2.3030, val_acc: 0.1002\n",
            "Epoch [4] - LR [0.001], train_loss: 2.3026, val_loss: 2.3028, val_acc: 0.0978\n",
            "Epoch [5] - LR [0.001], train_loss: 2.3024, val_loss: 2.3027, val_acc: 0.0978\n",
            "Epoch [6] - LR [0.001], train_loss: 2.3022, val_loss: 2.3026, val_acc: 0.0978\n",
            "Epoch [7] - LR [0.001], train_loss: 2.3021, val_loss: 2.3025, val_acc: 0.0978\n",
            "Epoch [8] - LR [0.001], train_loss: 2.3020, val_loss: 2.3024, val_acc: 0.1090\n",
            "Epoch [9] - LR [0.001], train_loss: 2.3019, val_loss: 2.3023, val_acc: 0.1090\n",
            "Epoch [10] - LR [0.001], train_loss: 2.3018, val_loss: 2.3023, val_acc: 0.1090\n",
            "Epoch [11] - LR [0.001], train_loss: 2.3017, val_loss: 2.3022, val_acc: 0.1090\n",
            "Epoch [12] - LR [0.001], train_loss: 2.3017, val_loss: 2.3021, val_acc: 0.1090\n",
            "Epoch [13] - LR [0.001], train_loss: 2.3016, val_loss: 2.3021, val_acc: 0.1090\n",
            "Epoch [14] - LR [0.001], train_loss: 2.3015, val_loss: 2.3021, val_acc: 0.1090\n",
            "Epoch [15] - LR [0.001], train_loss: 2.3015, val_loss: 2.3020, val_acc: 0.1090\n",
            "Epoch [16] - LR [0.001], train_loss: 2.3014, val_loss: 2.3020, val_acc: 0.1090\n",
            "Epoch [17] - LR [0.001], train_loss: 2.3014, val_loss: 2.3020, val_acc: 0.1090\n",
            "Epoch [18] - LR [0.001], train_loss: 2.3014, val_loss: 2.3020, val_acc: 0.1090\n",
            "Epoch [19] - LR [0.001], train_loss: 2.3013, val_loss: 2.3019, val_acc: 0.1090\n"
          ]
        }
      ]
    },
    {
      "cell_type": "code",
      "source": [
        "# plot losses\n",
        "plot_losses(history13)"
      ],
      "metadata": {
        "colab": {
          "base_uri": "https://localhost:8080/",
          "height": 295
        },
        "id": "VSO9DnuHJSmZ",
        "outputId": "41bad755-606b-4208-d7b1-6a8f793fd3e8"
      },
      "execution_count": null,
      "outputs": [
        {
          "output_type": "display_data",
          "data": {
            "text/plain": [
              "<Figure size 432x288 with 1 Axes>"
            ],
            "image/png": "[encoded data removed]"
          },
          "metadata": {
            "needs_background": "light"
          }
        }
      ]
    },
    {
      "cell_type": "code",
      "source": [
        "# plot accuracy\n",
        "plot_scores(history13)"
      ],
      "metadata": {
        "colab": {
          "base_uri": "https://localhost:8080/",
          "height": 295
        },
        "id": "7NrQIXjnJVDw",
        "outputId": "92125a15-3149-4887-d52d-292a9cba8e32"
      },
      "execution_count": null,
      "outputs": [
        {
          "output_type": "display_data",
          "data": {
            "text/plain": [
              "<Figure size 432x288 with 1 Axes>"
            ],
            "image/png": "[encoded data removed]"
          },
          "metadata": {
            "needs_background": "light"
          }
        }
      ]
    },
    {
      "cell_type": "code",
      "source": [
        "# Hyper parameters\n",
        "\n",
        "batch_size = 128      # number of batch size\n",
        "val_size = 10000    # size of the validation set\n",
        "epochs = 20     # number of epochs\n",
        "lr = 0.01      # learning rate\n",
        "opt_func = torch.optim.Adam     # optimizer"
      ],
      "metadata": {
        "id": "E9nGS7MtJktB"
      },
      "execution_count": null,
      "outputs": []
    },
    {
      "cell_type": "code",
      "source": [
        "# training the network\n",
        "model14 = MnistModel1()\n",
        "to_device(model14, device)\n",
        "history14 = [evaluate(model14, val_loader)]\n",
        "history14 += fit(epochs, lr, model14, train_loader, val_loader, opt_func)"
      ],
      "metadata": {
        "colab": {
          "base_uri": "https://localhost:8080/"
        },
        "id": "QuFvfk2xKzW6",
        "outputId": "d8aefdd9-0b5f-49f4-fc2b-7cb99d08a076"
      },
      "execution_count": null,
      "outputs": [
        {
          "output_type": "stream",
          "name": "stdout",
          "text": [
            "Epoch [0] - LR [0.01], train_loss: 2.3052, val_loss: 2.3022, val_acc: 0.1090\n",
            "Epoch [1] - LR [0.01], train_loss: 2.3018, val_loss: 2.3021, val_acc: 0.1090\n",
            "Epoch [2] - LR [0.01], train_loss: 2.3018, val_loss: 2.3027, val_acc: 0.1090\n",
            "Epoch [3] - LR [0.01], train_loss: 2.3019, val_loss: 2.3028, val_acc: 0.1090\n",
            "Epoch [4] - LR [0.01], train_loss: 2.3018, val_loss: 2.3024, val_acc: 0.1034\n",
            "Epoch [5] - LR [0.01], train_loss: 2.3019, val_loss: 2.3026, val_acc: 0.1090\n",
            "Epoch [6] - LR [0.01], train_loss: 2.3018, val_loss: 2.3030, val_acc: 0.1090\n",
            "Epoch [7] - LR [0.01], train_loss: 2.3016, val_loss: 2.3027, val_acc: 0.1090\n",
            "Epoch [8] - LR [0.01], train_loss: 2.3019, val_loss: 2.3023, val_acc: 0.1090\n",
            "Epoch [9] - LR [0.01], train_loss: 2.3019, val_loss: 2.3023, val_acc: 0.1090\n",
            "Epoch [10] - LR [0.01], train_loss: 2.3019, val_loss: 2.3028, val_acc: 0.1090\n",
            "Epoch [11] - LR [0.01], train_loss: 2.3017, val_loss: 2.3028, val_acc: 0.1090\n",
            "Epoch [12] - LR [0.01], train_loss: 2.3018, val_loss: 2.3024, val_acc: 0.1090\n",
            "Epoch [13] - LR [0.01], train_loss: 2.3017, val_loss: 2.3022, val_acc: 0.1090\n",
            "Epoch [14] - LR [0.01], train_loss: 2.3017, val_loss: 2.3029, val_acc: 0.1090\n",
            "Epoch [15] - LR [0.01], train_loss: 2.3020, val_loss: 2.3023, val_acc: 0.1090\n",
            "Epoch [16] - LR [0.01], train_loss: 2.3019, val_loss: 2.3024, val_acc: 0.1090\n",
            "Epoch [17] - LR [0.01], train_loss: 2.3016, val_loss: 2.3024, val_acc: 0.1090\n",
            "Epoch [18] - LR [0.01], train_loss: 2.3019, val_loss: 2.3026, val_acc: 0.1090\n",
            "Epoch [19] - LR [0.01], train_loss: 2.3019, val_loss: 2.3026, val_acc: 0.1090\n"
          ]
        }
      ]
    },
    {
      "cell_type": "code",
      "source": [
        "# plot losses\n",
        "plot_losses(history14)"
      ],
      "metadata": {
        "colab": {
          "base_uri": "https://localhost:8080/",
          "height": 295
        },
        "id": "ElUIqxATOPpz",
        "outputId": "9b2babdb-4e63-4bc5-ab8b-08a58e3a3d8b"
      },
      "execution_count": null,
      "outputs": [
        {
          "output_type": "display_data",
          "data": {
            "text/plain": [
              "<Figure size 432x288 with 1 Axes>"
            ],
            "image/png": "[encoded data removed]"
          },
          "metadata": {
            "needs_background": "light"
          }
        }
      ]
    },
    {
      "cell_type": "code",
      "source": [
        "# plot accuracy\n",
        "plot_scores(history14)"
      ],
      "metadata": {
        "colab": {
          "base_uri": "https://localhost:8080/",
          "height": 295
        },
        "id": "N9SR1uysORWq",
        "outputId": "26be0519-ba6e-465a-bed2-30c4f2cc3e7b"
      },
      "execution_count": null,
      "outputs": [
        {
          "output_type": "display_data",
          "data": {
            "text/plain": [
              "<Figure size 432x288 with 1 Axes>"
            ],
            "image/png": "[encoded data removed]"
          },
          "metadata": {
            "needs_background": "light"
          }
        }
      ]
    },
    {
      "cell_type": "code",
      "source": [
        "# Hyper parameters\n",
        "\n",
        "batch_size = 128      # number of batch size\n",
        "val_size = 10000    # size of the validation set\n",
        "epochs = 20     # number of epochs\n",
        "lr = 0.0001      # learning rate\n",
        "opt_func = torch.optim.Adam     # optimizer"
      ],
      "metadata": {
        "id": "7IjY-q-cPuqE"
      },
      "execution_count": null,
      "outputs": []
    },
    {
      "cell_type": "code",
      "source": [
        "# training the network\n",
        "model15 = MnistModel1()\n",
        "to_device(model15, device)\n",
        "history15 = [evaluate(model15, val_loader)]\n",
        "history15 += fit(epochs, lr, model15, train_loader, val_loader, opt_func)"
      ],
      "metadata": {
        "colab": {
          "base_uri": "https://localhost:8080/"
        },
        "id": "PYz3mVZfPwJz",
        "outputId": "3e5f1fe5-2cff-488a-a484-3b9feda24c3e"
      },
      "execution_count": null,
      "outputs": [
        {
          "output_type": "stream",
          "name": "stdout",
          "text": [
            "Epoch [0] - LR [0.0001], train_loss: 1.9436, val_loss: 0.4500, val_acc: 0.8642\n",
            "Epoch [1] - LR [0.0001], train_loss: 0.3011, val_loss: 0.2124, val_acc: 0.9356\n",
            "Epoch [2] - LR [0.0001], train_loss: 0.1726, val_loss: 0.1464, val_acc: 0.9562\n",
            "Epoch [3] - LR [0.0001], train_loss: 0.1184, val_loss: 0.1111, val_acc: 0.9671\n",
            "Epoch [4] - LR [0.0001], train_loss: 0.0890, val_loss: 0.0892, val_acc: 0.9741\n",
            "Epoch [5] - LR [0.0001], train_loss: 0.0738, val_loss: 0.0812, val_acc: 0.9760\n",
            "Epoch [6] - LR [0.0001], train_loss: 0.0629, val_loss: 0.0698, val_acc: 0.9797\n",
            "Epoch [7] - LR [0.0001], train_loss: 0.0557, val_loss: 0.0646, val_acc: 0.9812\n",
            "Epoch [8] - LR [0.0001], train_loss: 0.0473, val_loss: 0.0652, val_acc: 0.9805\n",
            "Epoch [9] - LR [0.0001], train_loss: 0.0425, val_loss: 0.0590, val_acc: 0.9825\n",
            "Epoch [10] - LR [0.0001], train_loss: 0.0380, val_loss: 0.0558, val_acc: 0.9840\n",
            "Epoch [11] - LR [0.0001], train_loss: 0.0347, val_loss: 0.0540, val_acc: 0.9856\n",
            "Epoch [12] - LR [0.0001], train_loss: 0.0313, val_loss: 0.0549, val_acc: 0.9834\n",
            "Epoch [13] - LR [0.0001], train_loss: 0.0282, val_loss: 0.0548, val_acc: 0.9848\n",
            "Epoch [14] - LR [0.0001], train_loss: 0.0249, val_loss: 0.0536, val_acc: 0.9853\n",
            "Epoch [15] - LR [0.0001], train_loss: 0.0229, val_loss: 0.0601, val_acc: 0.9831\n",
            "Epoch [16] - LR [0.0001], train_loss: 0.0212, val_loss: 0.0542, val_acc: 0.9854\n",
            "Epoch [17] - LR [0.0001], train_loss: 0.0183, val_loss: 0.0531, val_acc: 0.9855\n",
            "Epoch [18] - LR [0.0001], train_loss: 0.0165, val_loss: 0.0500, val_acc: 0.9867\n",
            "Epoch [19] - LR [0.0001], train_loss: 0.0151, val_loss: 0.0544, val_acc: 0.9872\n"
          ]
        }
      ]
    },
    {
      "cell_type": "code",
      "source": [
        "# plot losses\n",
        "plot_losses(history15)"
      ],
      "metadata": {
        "colab": {
          "base_uri": "https://localhost:8080/",
          "height": 295
        },
        "id": "nWz3EVcdPxvz",
        "outputId": "29eaefb4-05c3-4669-b6bb-a657aa3a2e7e"
      },
      "execution_count": null,
      "outputs": [
        {
          "output_type": "display_data",
          "data": {
            "text/plain": [
              "<Figure size 432x288 with 1 Axes>"
            ],
            "image/png": "[encoded data removed]"
          },
          "metadata": {
            "needs_background": "light"
          }
        }
      ]
    },
    {
      "cell_type": "code",
      "source": [
        "# plot accuracy\n",
        "plot_scores(history15)"
      ],
      "metadata": {
        "colab": {
          "base_uri": "https://localhost:8080/",
          "height": 295
        },
        "id": "k04aqRPhPypK",
        "outputId": "2ce5a0df-3f6c-4701-99ea-f46ce433ae56"
      },
      "execution_count": null,
      "outputs": [
        {
          "output_type": "display_data",
          "data": {
            "text/plain": [
              "<Figure size 432x288 with 1 Axes>"
            ],
            "image/png": "[encoded data removed]"
          },
          "metadata": {
            "needs_background": "light"
          }
        }
      ]
    },
    {
      "cell_type": "code",
      "source": [
        "# loss and accuracy of last epochs\n",
        "print(\"batch:128, Opt:Adam, lr:0.001\", history1[-1])\n",
        "print(\"batch:1024, Opt:Adam, lr:0.001\", history12[-1])\n",
        "print()\n",
        "print(\"batch:128, Opt:Adam, lr:0.001\", history1[-1])\n",
        "print(\"batch:128, Opt:SGD, lr:0.001\", history13[-1])\n",
        "print()\n",
        "print(\"batch:128, Opt:Adam, lr:0.001\", history1[-1])\n",
        "print(\"batch:128, Opt:Adam, lr:0.01\", history14[-1])\n",
        "print(\"batch:128, Opt:Adam, lr:0.0001\", history15[-1])"
      ],
      "metadata": {
        "colab": {
          "base_uri": "https://localhost:8080/"
        },
        "id": "fTtAsVYrHh6C",
        "outputId": "45c99b55-9bb7-41b5-d74e-96d044ebd991"
      },
      "execution_count": null,
      "outputs": [
        {
          "output_type": "stream",
          "name": "stdout",
          "text": [
            "batch:128, Opt:Adam, lr:0.001 {'val_loss': 0.048270244151353836, 'val_acc': 0.990039050579071, 'train_loss': 0.0069006336852908134}\n",
            "batch:1024, Opt:Adam, lr:0.001 {'val_loss': 0.06419938057661057, 'val_acc': 0.9851381182670593, 'train_loss': 0.01122220791876316}\n",
            "\n",
            "batch:128, Opt:Adam, lr:0.001 {'val_loss': 0.048270244151353836, 'val_acc': 0.990039050579071, 'train_loss': 0.0069006336852908134}\n",
            "batch:128, Opt:SGD, lr:0.001 {'val_loss': 2.3019444942474365, 'val_acc': 0.10898437350988388, 'train_loss': 2.301318645477295}\n",
            "\n",
            "batch:128, Opt:Adam, lr:0.001 {'val_loss': 0.048270244151353836, 'val_acc': 0.990039050579071, 'train_loss': 0.0069006336852908134}\n",
            "batch:128, Opt:Adam, lr:0.01 {'val_loss': 2.302565336227417, 'val_acc': 0.10898437350988388, 'train_loss': 2.3018505573272705}\n",
            "batch:128, Opt:Adam, lr:0.0001 {'val_loss': 0.054381515830755234, 'val_acc': 0.9872070550918579, 'train_loss': 0.015052048489451408}\n"
          ]
        }
      ]
    },
    {
      "cell_type": "markdown",
      "source": [
        "The best accuracy on the validation set that I got is 0.99 on batch size: 128, optimizer: Adam, and learning rate: 0.001.\n",
        "Increasing batch size from 1028 to 1024 deacreased the accuracy a little. Changing Adam optimizer to stochastic gradient descent changed the acurracy dramatically. Increasing the learning rate from 0.001 to 0.01 also decreased the accuracy dramatilcally. Reducing the learning rate from 0.001 to 0.0001 decrease the accuracy a little since I kept the epoch size same. With more epochs 0.0001 should give better accuracy than 0.001 learning rate. To have better comparison we must train the model on broader range of hyperparameters. Since running the model takes long time and free google colab restricts resource usage, I run the model only on 4 set of hyper parameters."
      ],
      "metadata": {
        "id": "OhvHODXeQyhj"
      }
    },
    {
      "cell_type": "markdown",
      "source": [
        "**Part 2.** An inverted CNN where the number of filters in each layer decreases as the depth of the network grows i.e., the L th layer will have less filters than the (L-1) th layer."
      ],
      "metadata": {
        "id": "fupXofI5jD25"
      }
    },
    {
      "cell_type": "code",
      "source": [
        "# Hyper parameters\n",
        "\n",
        "batch_size=128      # number of batch size\n",
        "val_size = 10000    # size of the validation set\n",
        "epochs = 20     # number of epochs\n",
        "lr = 0.001      # learning rate\n",
        "opt_func = torch.optim.Adam     # optimizer"
      ],
      "metadata": {
        "id": "tR6jcKaiiqcO"
      },
      "execution_count": null,
      "outputs": []
    },
    {
      "cell_type": "code",
      "source": [
        "# This class inheritance from \"MnistModelBase\" class.\n",
        "# Layers of the CNN is defined here.\n",
        "\n",
        "class MnistModel2(MnistModelBase):\n",
        "    \"\"\"Feedfoward neural network with 2 hidden layer\"\"\"\n",
        "    def __init__(self):\n",
        "        super().__init__()\n",
        "\n",
        "        self.conv1 = torch.nn.Conv2d(1, 32, 3, padding='same')  # chnl-in, out, krnl\n",
        "        self.conv2 = torch.nn.Conv2d(32, 30, 3, padding='same')\n",
        "        self.conv3 = torch.nn.Conv2d(30, 28, 3, padding='same')\n",
        "        self.conv4 = torch.nn.Conv2d(28, 26, 3, padding='same')\n",
        "        self.conv5 = torch.nn.Conv2d(26, 24, 3, padding='same')\n",
        "        self.conv6 = torch.nn.Conv2d(24, 20, 3, padding='same')\n",
        "        self.conv7 = torch.nn.Conv2d(20, 16, 3, padding='same')\n",
        "        self.conv8 = torch.nn.Conv2d(16, 12, 3, padding='same')\n",
        "        self.conv9 = torch.nn.Conv2d(12, 8, 3, padding='same')\n",
        "        self.conv10 = torch.nn.Conv2d(8, 4, 3, padding='same')\n",
        "        self.pool = torch.nn.MaxPool2d(2, 2)\n",
        "\n",
        "        self.relu = torch.nn.ReLU()\n",
        "\n",
        "        self.fc1 = torch.nn.Linear(784, 100)\n",
        "        self.fc2 = torch.nn.Linear(100, 10)  # 10 classes\n",
        "\n",
        "    def forward(self, xb):\n",
        "\n",
        "        # CNN\n",
        "        x = self.relu(self.conv1(xb))\n",
        "        x = self.relu(self.conv2(x))\n",
        "        x = self.relu(self.conv3(x))\n",
        "        x = self.relu(self.conv4(x))\n",
        "        x = self.relu(self.conv5(x))\n",
        "        x = self.relu(self.conv6(x))\n",
        "        x = self.relu(self.conv7(x))\n",
        "        x = self.relu(self.conv8(x))\n",
        "        x = self.relu(self.conv9(x))\n",
        "        x = self.relu(self.conv10(x))\n",
        "        x = self.pool(x)\n",
        "\n",
        "        # MLP\n",
        "        x = x.view(x.shape[0], -1)\n",
        "\n",
        "        x = self.relu(self.fc1(x))\n",
        "        x = self.fc2(x)\n",
        "\n",
        "        return x"
      ],
      "metadata": {
        "id": "W3DGNwav-tuB"
      },
      "execution_count": null,
      "outputs": []
    },
    {
      "cell_type": "code",
      "source": [
        "# Model (on GPU)\n",
        "model2 = MnistModel2()\n",
        "to_device(model2, device)"
      ],
      "metadata": {
        "colab": {
          "base_uri": "https://localhost:8080/"
        },
        "id": "YTz_F2OuDskz",
        "outputId": "ad27f686-fb00-4b7c-9d78-a363a6a9656e"
      },
      "execution_count": null,
      "outputs": [
        {
          "output_type": "execute_result",
          "data": {
            "text/plain": [
              "MnistModel2(\n",
              "  (conv1): Conv2d(1, 32, kernel_size=(3, 3), stride=(1, 1), padding=same)\n",
              "  (conv2): Conv2d(32, 30, kernel_size=(3, 3), stride=(1, 1), padding=same)\n",
              "  (conv3): Conv2d(30, 28, kernel_size=(3, 3), stride=(1, 1), padding=same)\n",
              "  (conv4): Conv2d(28, 26, kernel_size=(3, 3), stride=(1, 1), padding=same)\n",
              "  (conv5): Conv2d(26, 24, kernel_size=(3, 3), stride=(1, 1), padding=same)\n",
              "  (conv6): Conv2d(24, 20, kernel_size=(3, 3), stride=(1, 1), padding=same)\n",
              "  (conv7): Conv2d(20, 16, kernel_size=(3, 3), stride=(1, 1), padding=same)\n",
              "  (conv8): Conv2d(16, 12, kernel_size=(3, 3), stride=(1, 1), padding=same)\n",
              "  (conv9): Conv2d(12, 8, kernel_size=(3, 3), stride=(1, 1), padding=same)\n",
              "  (conv10): Conv2d(8, 4, kernel_size=(3, 3), stride=(1, 1), padding=same)\n",
              "  (pool): MaxPool2d(kernel_size=2, stride=2, padding=0, dilation=1, ceil_mode=False)\n",
              "  (relu): ReLU()\n",
              "  (fc1): Linear(in_features=784, out_features=100, bias=True)\n",
              "  (fc2): Linear(in_features=100, out_features=10, bias=True)\n",
              ")"
            ]
          },
          "metadata": {},
          "execution_count": 118
        }
      ]
    },
    {
      "cell_type": "code",
      "source": [
        "# print the summary of the model\n",
        "summary(model2, input_size=(1, 28, 28), batch_size=-1)"
      ],
      "metadata": {
        "colab": {
          "base_uri": "https://localhost:8080/"
        },
        "id": "UPSnADcTD1wh",
        "outputId": "815b8942-e700-42e6-ed50-20b90b55075d"
      },
      "execution_count": null,
      "outputs": [
        {
          "output_type": "stream",
          "name": "stdout",
          "text": [
            "----------------------------------------------------------------\n",
            "        Layer (type)               Output Shape         Param #\n",
            "================================================================\n",
            "            Conv2d-1           [-1, 32, 28, 28]             320\n",
            "              ReLU-2           [-1, 32, 28, 28]               0\n",
            "            Conv2d-3           [-1, 30, 28, 28]           8,670\n",
            "              ReLU-4           [-1, 30, 28, 28]               0\n",
            "            Conv2d-5           [-1, 28, 28, 28]           7,588\n",
            "              ReLU-6           [-1, 28, 28, 28]               0\n",
            "            Conv2d-7           [-1, 26, 28, 28]           6,578\n",
            "              ReLU-8           [-1, 26, 28, 28]               0\n",
            "            Conv2d-9           [-1, 24, 28, 28]           5,640\n",
            "             ReLU-10           [-1, 24, 28, 28]               0\n",
            "           Conv2d-11           [-1, 20, 28, 28]           4,340\n",
            "             ReLU-12           [-1, 20, 28, 28]               0\n",
            "           Conv2d-13           [-1, 16, 28, 28]           2,896\n",
            "             ReLU-14           [-1, 16, 28, 28]               0\n",
            "           Conv2d-15           [-1, 12, 28, 28]           1,740\n",
            "             ReLU-16           [-1, 12, 28, 28]               0\n",
            "           Conv2d-17            [-1, 8, 28, 28]             872\n",
            "             ReLU-18            [-1, 8, 28, 28]               0\n",
            "           Conv2d-19            [-1, 4, 28, 28]             292\n",
            "             ReLU-20            [-1, 4, 28, 28]               0\n",
            "        MaxPool2d-21            [-1, 4, 14, 14]               0\n",
            "           Linear-22                  [-1, 100]          78,500\n",
            "             ReLU-23                  [-1, 100]               0\n",
            "           Linear-24                   [-1, 10]           1,010\n",
            "================================================================\n",
            "Total params: 118,446\n",
            "Trainable params: 118,446\n",
            "Non-trainable params: 0\n",
            "----------------------------------------------------------------\n",
            "Input size (MB): 0.00\n",
            "Forward/backward pass size (MB): 2.40\n",
            "Params size (MB): 0.45\n",
            "Estimated Total Size (MB): 2.85\n",
            "----------------------------------------------------------------\n"
          ]
        }
      ]
    },
    {
      "cell_type": "code",
      "source": [
        "# training the network\n",
        "\n",
        "history2 = [evaluate(model2, val_loader)]\n",
        "history2 += fit(epochs, lr, model2, train_loader, val_loader, opt_func)"
      ],
      "metadata": {
        "colab": {
          "base_uri": "https://localhost:8080/"
        },
        "id": "81x9SuCQEA7x",
        "outputId": "6909ae3e-d802-47a3-bba5-edb8143dd2a2"
      },
      "execution_count": null,
      "outputs": [
        {
          "output_type": "stream",
          "name": "stdout",
          "text": [
            "Epoch [0] - LR [0.001], train_loss: 0.4154, val_loss: 0.1030, val_acc: 0.9686\n",
            "Epoch [1] - LR [0.001], train_loss: 0.0787, val_loss: 0.0715, val_acc: 0.9774\n",
            "Epoch [2] - LR [0.001], train_loss: 0.0581, val_loss: 0.0602, val_acc: 0.9819\n",
            "Epoch [3] - LR [0.001], train_loss: 0.0477, val_loss: 0.0592, val_acc: 0.9824\n",
            "Epoch [4] - LR [0.001], train_loss: 0.0389, val_loss: 0.0588, val_acc: 0.9815\n",
            "Epoch [5] - LR [0.001], train_loss: 0.0342, val_loss: 0.0542, val_acc: 0.9854\n",
            "Epoch [6] - LR [0.001], train_loss: 0.0327, val_loss: 0.0639, val_acc: 0.9821\n",
            "Epoch [7] - LR [0.001], train_loss: 0.0276, val_loss: 0.0618, val_acc: 0.9842\n",
            "Epoch [8] - LR [0.001], train_loss: 0.0256, val_loss: 0.0429, val_acc: 0.9862\n",
            "Epoch [9] - LR [0.001], train_loss: 0.0221, val_loss: 0.0458, val_acc: 0.9877\n",
            "Epoch [10] - LR [0.001], train_loss: 0.0216, val_loss: 0.0492, val_acc: 0.9871\n",
            "Epoch [11] - LR [0.001], train_loss: 0.0177, val_loss: 0.0516, val_acc: 0.9859\n",
            "Epoch [12] - LR [0.001], train_loss: 0.0166, val_loss: 0.0565, val_acc: 0.9867\n",
            "Epoch [13] - LR [0.001], train_loss: 0.0173, val_loss: 0.0802, val_acc: 0.9812\n",
            "Epoch [14] - LR [0.001], train_loss: 0.0174, val_loss: 0.0451, val_acc: 0.9875\n",
            "Epoch [15] - LR [0.001], train_loss: 0.0133, val_loss: 0.0517, val_acc: 0.9868\n",
            "Epoch [16] - LR [0.001], train_loss: 0.0135, val_loss: 0.0492, val_acc: 0.9870\n",
            "Epoch [17] - LR [0.001], train_loss: 0.0112, val_loss: 0.0565, val_acc: 0.9873\n",
            "Epoch [18] - LR [0.001], train_loss: 0.0124, val_loss: 0.0580, val_acc: 0.9877\n",
            "Epoch [19] - LR [0.001], train_loss: 0.0089, val_loss: 0.0526, val_acc: 0.9875\n"
          ]
        }
      ]
    },
    {
      "cell_type": "code",
      "source": [
        "plot_losses(history2)"
      ],
      "metadata": {
        "colab": {
          "base_uri": "https://localhost:8080/",
          "height": 295
        },
        "id": "G51765h0EFSB",
        "outputId": "53718583-d84d-4617-f02a-77e2efe0e764"
      },
      "execution_count": null,
      "outputs": [
        {
          "output_type": "display_data",
          "data": {
            "text/plain": [
              "<Figure size 432x288 with 1 Axes>"
            ],
            "image/png": "[encoded data removed]"
          },
          "metadata": {
            "needs_background": "light"
          }
        }
      ]
    },
    {
      "cell_type": "code",
      "source": [
        "plot_scores(history2)"
      ],
      "metadata": {
        "colab": {
          "base_uri": "https://localhost:8080/",
          "height": 295
        },
        "id": "tFFgRPkzEFrj",
        "outputId": "b84ba851-0e90-4b76-a035-7d2e41b9c57e"
      },
      "execution_count": null,
      "outputs": [
        {
          "output_type": "display_data",
          "data": {
            "text/plain": [
              "<Figure size 432x288 with 1 Axes>"
            ],
            "image/png": "[encoded data removed]"
          },
          "metadata": {
            "needs_background": "light"
          }
        }
      ]
    },
    {
      "cell_type": "code",
      "source": [
        "# loss and accuracy of last epochs\n",
        "print(\"increasing filters\", history1[-1])\n",
        "print(\"decreasing filters\", history2[-1])"
      ],
      "metadata": {
        "colab": {
          "base_uri": "https://localhost:8080/"
        },
        "id": "PGY7mAr1ENln",
        "outputId": "e6d0f309-9138-4491-83be-2fc5d8d443b4"
      },
      "execution_count": null,
      "outputs": [
        {
          "output_type": "stream",
          "name": "stdout",
          "text": [
            "increasing filters {'val_loss': 0.048270244151353836, 'val_acc': 0.990039050579071, 'train_loss': 0.0069006336852908134}\n",
            "decreasing filters {'val_loss': 0.05261586979031563, 'val_acc': 0.987500011920929, 'train_loss': 0.008855897933244705}\n"
          ]
        }
      ]
    },
    {
      "cell_type": "markdown",
      "source": [
        "The result shows that the accuracy on the validation set is higher for the increasing filters case than for the decreasing filters case. To have more reliable conclusion about comparing increasing with decreasing number of filters, we must run the model for broad range of hyperparameters."
      ],
      "metadata": {
        "id": "An6EcmSaTBmd"
      }
    },
    {
      "cell_type": "markdown",
      "source": [
        "**Part 3.** An hour-glass shaped CNN where the number of filters will increase till the L th layer and reduce afterwards."
      ],
      "metadata": {
        "id": "UNf8e8dGjLCn"
      }
    },
    {
      "cell_type": "code",
      "source": [
        "# Hyper parameters\n",
        "\n",
        "batch_size=128      # number of batch size\n",
        "val_size = 10000    # size of the validation set\n",
        "epochs = 20     # number of epochs\n",
        "lr = 0.001      # learning rate\n",
        "opt_func = torch.optim.Adam     # optimizer"
      ],
      "metadata": {
        "id": "UTIWZ43jSlir"
      },
      "execution_count": null,
      "outputs": []
    },
    {
      "cell_type": "code",
      "source": [
        "# This class inheritance from \"MnistModelBase\" class.\n",
        "# Layers of the CNN is defined here.\n",
        "\n",
        "class MnistModel3(MnistModelBase):\n",
        "    \"\"\"Feedfoward neural network with 2 hidden layer\"\"\"\n",
        "    def __init__(self):\n",
        "        super().__init__()\n",
        "\n",
        "        self.conv1 = torch.nn.Conv2d(1, 4, 3, padding='same')  # chnl-in, out, krnl\n",
        "        self.conv2 = torch.nn.Conv2d(4, 8, 3, padding='same')\n",
        "        self.conv3 = torch.nn.Conv2d(8, 16, 3, padding='same')\n",
        "        self.conv4 = torch.nn.Conv2d(16, 32, 3, padding='same')\n",
        "        self.conv5 = torch.nn.Conv2d(32, 64, 3, padding='same')\n",
        "\n",
        "        self.conv6 = torch.nn.Conv2d(64, 32, 3, padding='same')\n",
        "        self.conv7 = torch.nn.Conv2d(32, 16, 3, padding='same')\n",
        "        self.conv8 = torch.nn.Conv2d(16, 8, 3, padding='same')\n",
        "        self.conv9 = torch.nn.Conv2d(8, 4, 3, padding='same')\n",
        "        self.conv10 = torch.nn.Conv2d(4, 1, 3)\n",
        "\n",
        "        self.pool = torch.nn.MaxPool2d(2, 2)\n",
        "\n",
        "        self.relu = torch.nn.ReLU()\n",
        "\n",
        "        self.fc1 = torch.nn.Linear(169, 100)\n",
        "        self.fc2 = torch.nn.Linear(100, 10)  # 10 classes\n",
        "\n",
        "    def forward(self, xb):\n",
        "\n",
        "        # CNN\n",
        "        x = self.relu(self.conv1(xb))\n",
        "        x = self.relu(self.conv2(x))\n",
        "        x = self.relu(self.conv3(x))\n",
        "        x = self.relu(self.conv4(x))\n",
        "        x = self.relu(self.conv5(x))\n",
        "        x = self.relu(self.conv6(x))\n",
        "        x = self.relu(self.conv7(x))\n",
        "        x = self.relu(self.conv8(x))\n",
        "        x = self.relu(self.conv9(x))\n",
        "        x = self.relu(self.conv10(x))\n",
        "        x = self.pool(x)\n",
        "\n",
        "        # MLP\n",
        "        x = x.view(x.shape[0], -1)\n",
        "\n",
        "        x = self.relu(self.fc1(x))\n",
        "        x = self.fc2(x)\n",
        "\n",
        "        return x"
      ],
      "metadata": {
        "id": "5r6tSPYOGWw1"
      },
      "execution_count": null,
      "outputs": []
    },
    {
      "cell_type": "code",
      "source": [
        "# Model (on GPU)\n",
        "model3 = MnistModel3()\n",
        "to_device(model3, device)"
      ],
      "metadata": {
        "colab": {
          "base_uri": "https://localhost:8080/"
        },
        "id": "Yu0iXLU2GavT",
        "outputId": "3d864e61-7de6-4146-c7f5-5d5aeeee7afa"
      },
      "execution_count": null,
      "outputs": [
        {
          "output_type": "execute_result",
          "data": {
            "text/plain": [
              "MnistModel3(\n",
              "  (conv1): Conv2d(1, 4, kernel_size=(3, 3), stride=(1, 1), padding=same)\n",
              "  (conv2): Conv2d(4, 8, kernel_size=(3, 3), stride=(1, 1), padding=same)\n",
              "  (conv3): Conv2d(8, 16, kernel_size=(3, 3), stride=(1, 1), padding=same)\n",
              "  (conv4): Conv2d(16, 32, kernel_size=(3, 3), stride=(1, 1), padding=same)\n",
              "  (conv5): Conv2d(32, 64, kernel_size=(3, 3), stride=(1, 1), padding=same)\n",
              "  (conv6): Conv2d(64, 32, kernel_size=(3, 3), stride=(1, 1), padding=same)\n",
              "  (conv7): Conv2d(32, 16, kernel_size=(3, 3), stride=(1, 1), padding=same)\n",
              "  (conv8): Conv2d(16, 8, kernel_size=(3, 3), stride=(1, 1), padding=same)\n",
              "  (conv9): Conv2d(8, 4, kernel_size=(3, 3), stride=(1, 1), padding=same)\n",
              "  (conv10): Conv2d(4, 1, kernel_size=(3, 3), stride=(1, 1))\n",
              "  (pool): MaxPool2d(kernel_size=2, stride=2, padding=0, dilation=1, ceil_mode=False)\n",
              "  (relu): ReLU()\n",
              "  (fc1): Linear(in_features=169, out_features=100, bias=True)\n",
              "  (fc2): Linear(in_features=100, out_features=10, bias=True)\n",
              ")"
            ]
          },
          "metadata": {},
          "execution_count": 133
        }
      ]
    },
    {
      "cell_type": "code",
      "source": [
        "# print the summary of the model\n",
        "summary(model3, input_size=(1, 28, 28), batch_size=-1)"
      ],
      "metadata": {
        "colab": {
          "base_uri": "https://localhost:8080/"
        },
        "id": "skcaiv9kGe0B",
        "outputId": "3573f809-f6b3-4982-8bfb-19d6a815f2ed"
      },
      "execution_count": null,
      "outputs": [
        {
          "output_type": "stream",
          "name": "stdout",
          "text": [
            "----------------------------------------------------------------\n",
            "        Layer (type)               Output Shape         Param #\n",
            "================================================================\n",
            "            Conv2d-1            [-1, 4, 28, 28]              40\n",
            "              ReLU-2            [-1, 4, 28, 28]               0\n",
            "            Conv2d-3            [-1, 8, 28, 28]             296\n",
            "              ReLU-4            [-1, 8, 28, 28]               0\n",
            "            Conv2d-5           [-1, 16, 28, 28]           1,168\n",
            "              ReLU-6           [-1, 16, 28, 28]               0\n",
            "            Conv2d-7           [-1, 32, 28, 28]           4,640\n",
            "              ReLU-8           [-1, 32, 28, 28]               0\n",
            "            Conv2d-9           [-1, 64, 28, 28]          18,496\n",
            "             ReLU-10           [-1, 64, 28, 28]               0\n",
            "           Conv2d-11           [-1, 32, 28, 28]          18,464\n",
            "             ReLU-12           [-1, 32, 28, 28]               0\n",
            "           Conv2d-13           [-1, 16, 28, 28]           4,624\n",
            "             ReLU-14           [-1, 16, 28, 28]               0\n",
            "           Conv2d-15            [-1, 8, 28, 28]           1,160\n",
            "             ReLU-16            [-1, 8, 28, 28]               0\n",
            "           Conv2d-17            [-1, 4, 28, 28]             292\n",
            "             ReLU-18            [-1, 4, 28, 28]               0\n",
            "           Conv2d-19            [-1, 1, 26, 26]              37\n",
            "             ReLU-20            [-1, 1, 26, 26]               0\n",
            "        MaxPool2d-21            [-1, 1, 13, 13]               0\n",
            "           Linear-22                  [-1, 100]          17,000\n",
            "             ReLU-23                  [-1, 100]               0\n",
            "           Linear-24                   [-1, 10]           1,010\n",
            "================================================================\n",
            "Total params: 67,227\n",
            "Trainable params: 67,227\n",
            "Non-trainable params: 0\n",
            "----------------------------------------------------------------\n",
            "Input size (MB): 0.00\n",
            "Forward/backward pass size (MB): 2.21\n",
            "Params size (MB): 0.26\n",
            "Estimated Total Size (MB): 2.47\n",
            "----------------------------------------------------------------\n"
          ]
        }
      ]
    },
    {
      "cell_type": "code",
      "source": [
        "# traing the model for the third part\n",
        "history3 = [evaluate(model3, val_loader)]\n",
        "history3 += fit(epochs, lr, model3, train_loader, val_loader, opt_func)"
      ],
      "metadata": {
        "colab": {
          "base_uri": "https://localhost:8080/"
        },
        "id": "L5uoG1OtGjWW",
        "outputId": "9ba530de-5c46-4f85-8fe1-81a3ba77f398"
      },
      "execution_count": null,
      "outputs": [
        {
          "output_type": "stream",
          "name": "stdout",
          "text": [
            "Epoch [0] - LR [0.001], train_loss: 0.4662, val_loss: 0.1704, val_acc: 0.9501\n",
            "Epoch [1] - LR [0.001], train_loss: 0.1312, val_loss: 0.1125, val_acc: 0.9664\n",
            "Epoch [2] - LR [0.001], train_loss: 0.0923, val_loss: 0.0984, val_acc: 0.9718\n",
            "Epoch [3] - LR [0.001], train_loss: 0.0739, val_loss: 0.0761, val_acc: 0.9759\n",
            "Epoch [4] - LR [0.001], train_loss: 0.0635, val_loss: 0.0729, val_acc: 0.9787\n",
            "Epoch [5] - LR [0.001], train_loss: 0.0562, val_loss: 0.0652, val_acc: 0.9800\n",
            "Epoch [6] - LR [0.001], train_loss: 0.0490, val_loss: 0.0670, val_acc: 0.9810\n",
            "Epoch [7] - LR [0.001], train_loss: 0.0438, val_loss: 0.0601, val_acc: 0.9822\n",
            "Epoch [8] - LR [0.001], train_loss: 0.0385, val_loss: 0.0569, val_acc: 0.9851\n",
            "Epoch [9] - LR [0.001], train_loss: 0.0362, val_loss: 0.0696, val_acc: 0.9812\n",
            "Epoch [10] - LR [0.001], train_loss: 0.0337, val_loss: 0.0546, val_acc: 0.9855\n",
            "Epoch [11] - LR [0.001], train_loss: 0.0306, val_loss: 0.0652, val_acc: 0.9832\n",
            "Epoch [12] - LR [0.001], train_loss: 0.0300, val_loss: 0.0577, val_acc: 0.9849\n",
            "Epoch [13] - LR [0.001], train_loss: 0.0261, val_loss: 0.0550, val_acc: 0.9860\n",
            "Epoch [14] - LR [0.001], train_loss: 0.0244, val_loss: 0.0611, val_acc: 0.9826\n",
            "Epoch [15] - LR [0.001], train_loss: 0.0226, val_loss: 0.0611, val_acc: 0.9823\n",
            "Epoch [16] - LR [0.001], train_loss: 0.0223, val_loss: 0.0598, val_acc: 0.9852\n",
            "Epoch [17] - LR [0.001], train_loss: 0.0205, val_loss: 0.0551, val_acc: 0.9859\n",
            "Epoch [18] - LR [0.001], train_loss: 0.0178, val_loss: 0.0730, val_acc: 0.9854\n",
            "Epoch [19] - LR [0.001], train_loss: 0.0173, val_loss: 0.0587, val_acc: 0.9864\n"
          ]
        }
      ]
    },
    {
      "cell_type": "code",
      "source": [
        "plot_losses(history3)"
      ],
      "metadata": {
        "colab": {
          "base_uri": "https://localhost:8080/",
          "height": 295
        },
        "id": "hiD5Xf_gGrZC",
        "outputId": "e2dd5b9f-4130-49b5-d0ec-1aa98625422f"
      },
      "execution_count": null,
      "outputs": [
        {
          "output_type": "display_data",
          "data": {
            "text/plain": [
              "<Figure size 432x288 with 1 Axes>"
            ],
            "image/png": "[encoded data removed]"
          },
          "metadata": {
            "needs_background": "light"
          }
        }
      ]
    },
    {
      "cell_type": "code",
      "source": [
        "plot_scores(history3)"
      ],
      "metadata": {
        "colab": {
          "base_uri": "https://localhost:8080/",
          "height": 295
        },
        "id": "9jn0QTKpGtnA",
        "outputId": "8d74571e-81fa-4582-d8d9-3ccd98ebc786"
      },
      "execution_count": null,
      "outputs": [
        {
          "output_type": "display_data",
          "data": {
            "text/plain": [
              "<Figure size 432x288 with 1 Axes>"
            ],
            "image/png": "[encoded data removed]"
          },
          "metadata": {
            "needs_background": "light"
          }
        }
      ]
    },
    {
      "cell_type": "code",
      "source": [
        "print(\"increasing filters\", history1[-1])\n",
        "print(\"decreasing filters\", history2[-1])\n",
        "print(\"increasing and decreasing filters\", history3[-1])"
      ],
      "metadata": {
        "colab": {
          "base_uri": "https://localhost:8080/"
        },
        "id": "UiyVrwfWGtqR",
        "outputId": "f1ebf5b1-a890-4905-aa8f-e3954da9ba5b"
      },
      "execution_count": null,
      "outputs": [
        {
          "output_type": "stream",
          "name": "stdout",
          "text": [
            "increasing filters {'val_loss': 0.048270244151353836, 'val_acc': 0.990039050579071, 'train_loss': 0.0069006336852908134}\n",
            "decreasing filters {'val_loss': 0.05261586979031563, 'val_acc': 0.987500011920929, 'train_loss': 0.008855897933244705}\n",
            "increasing and decreasing filters {'val_loss': 0.058704983443021774, 'val_acc': 0.9864257574081421, 'train_loss': 0.01725153811275959}\n"
          ]
        }
      ]
    },
    {
      "cell_type": "markdown",
      "source": [
        "The results show that the accuracy on the validation set is the highest for the increasing filters and the lowest for the incerasing and decreasing filters. The decreasing filters case is at the second place. Again, to have more reliable conclusion, one must run the models on broad range of hyperparameters."
      ],
      "metadata": {
        "id": "vl4RSIH9UYrF"
      }
    }
  ]
}