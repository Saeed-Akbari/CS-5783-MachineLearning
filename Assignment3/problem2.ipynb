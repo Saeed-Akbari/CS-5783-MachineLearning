{
  "nbformat": 4,
  "nbformat_minor": 0,
  "metadata": {
    "colab": {
      "provenance": [],
      "collapsed_sections": [],
      "authorship_tag": "ABX9TyOCcs4uA14wwmBGt2ZuYUsR",
      "include_colab_link": true
    },
    "kernelspec": {
      "name": "python3",
      "display_name": "Python 3"
    },
    "language_info": {
      "name": "python"
    },
    "accelerator": "GPU",
    "gpuClass": "standard"
  },
  "cells": [
    {
      "cell_type": "markdown",
      "metadata": {
        "id": "view-in-github",
        "colab_type": "text"
      },
      "source": [
        "<a href=\"https://colab.research.google.com/github/Saeed-Akbari/CS5783-MachineLearning/blob/main/Assignment3/problem2.ipynb\" target=\"_parent\"><img src=\"https://colab.research.google.com/assets/colab-badge.svg\" alt=\"Open In Colab\"/></a>"
      ]
    },
    {
      "cell_type": "code",
      "execution_count": 42,
      "metadata": {
        "id": "ALrkqEbdUWRv"
      },
      "outputs": [],
      "source": [
        "# import required packages.\n",
        "\n",
        "import torch\n",
        "import numpy as np\n",
        "import matplotlib.pyplot as plt\n",
        "\n",
        "import torch.nn.functional as F\n",
        "from  torchvision.datasets import CIFAR10\n",
        "from torchvision.transforms import ToTensor\n",
        "#from torchvision import datasets, transforms\n",
        "from torchvision.utils import make_grid\n",
        "from torch.utils.data.dataloader import DataLoader\n",
        "#from torch.optim.lr_scheduler import StepLR\n",
        "from torch.utils.data import random_split\n",
        "\n",
        "from torchsummary import summary"
      ]
    },
    {
      "cell_type": "code",
      "source": [
        "#function to ensure that our code uses the GPU if available, and defaults to using the CPU if it isn't.\n",
        "def get_default_device():\n",
        "    \"\"\"Pick GPU if available, else CPU\"\"\"\n",
        "    if torch.cuda.is_available():\n",
        "        return torch.device('cuda')\n",
        "    else:\n",
        "        return torch.device('cpu')\n",
        "    \n",
        "# a function that can move data and model to a chosen device.    \n",
        "def to_device(data, device):\n",
        "    \"\"\"Move tensor(s) to chosen device\"\"\"\n",
        "    if isinstance(data, (list,tuple)):\n",
        "        return [to_device(x, device) for x in data]\n",
        "    return data.to(device, non_blocking=True)\n",
        "\n",
        "\n",
        "#Finally, we define a DeviceDataLoader class to wrap our existing data loaders\n",
        "#and move data to the selected device, as a batches are accessed.\n",
        "#Interestingly, we don't need to extend an existing class to create a PyTorch\n",
        "#dataloader. \n",
        "#All we need is an __iter__ method to retrieve batches of data, and\n",
        "#an __len__ method to get the number of batches.\n",
        "\n",
        "class DeviceDataLoader():\n",
        "    \"\"\"Wrap a dataloader to move data to a device\"\"\"\n",
        "    def __init__(self, dl, device):\n",
        "        self.dl = dl\n",
        "        self.device = device\n",
        "        \n",
        "    def __iter__(self):\n",
        "        \"\"\"Yield a batch of data after moving it to device\"\"\"\n",
        "        for b in self.dl: \n",
        "            yield to_device(b, self.device)\n",
        "\n",
        "    def __len__(self):\n",
        "        \"\"\"Number of batches\"\"\"\n",
        "        return len(self.dl)"
      ],
      "metadata": {
        "id": "aK95bzVRuWmi"
      },
      "execution_count": 180,
      "outputs": []
    },
    {
      "cell_type": "code",
      "source": [
        "def plot_scores(history):\n",
        "#     scores = [x['val_score'] for x in history]\n",
        "    acc = [x['val_acc'] for x in history]\n",
        "    plt.plot(acc, '-x')\n",
        "    plt.xlabel('epoch')\n",
        "    plt.ylabel('acc')\n",
        "    plt.title('acc vs. No. of epochs');"
      ],
      "metadata": {
        "id": "7lvDLU6DDfxW"
      },
      "execution_count": 181,
      "outputs": []
    },
    {
      "cell_type": "code",
      "source": [
        "def plot_losses(history):\n",
        "    train_losses = [x.get('train_loss') for x in history]\n",
        "    val_losses = [x['val_loss'] for x in history]\n",
        "    plt.plot(train_losses, '-bx')\n",
        "    plt.plot(val_losses, '-rx')\n",
        "    plt.xlabel('epoch')\n",
        "    plt.ylabel('loss')\n",
        "    plt.legend(['Training', 'Validation'])\n",
        "    plt.title('Loss vs. No. of epochs');"
      ],
      "metadata": {
        "id": "coMjnSzxDjYF"
      },
      "execution_count": 182,
      "outputs": []
    },
    {
      "cell_type": "code",
      "source": [
        "# It deactivates the autograd engine (tracking of gradients) to\n",
        "# reduce memory usage and boost computational speed.\n",
        "@torch.no_grad()\n",
        "def evaluate(model, val_loader):\n",
        "    # batchnorm or dropout layers will work in eval mode instead of training mode\n",
        "    model.eval()\n",
        "    # Calculate loss on data coming from validation set\n",
        "    outputs = [model.validation_step(batch) for batch in val_loader]\n",
        "    return model.validation_epoch_end(outputs)\n",
        "\n",
        "def fit(epochs, lr, model, train_loader, val_loader, opt_func):\n",
        "    torch.cuda.empty_cache()\n",
        "    history = []\n",
        "    optimizer = opt_func(model.parameters(), lr)\n",
        "    # scheduler = OneCycleLR(optimizer, lr, epochs=epochs,steps_per_epoch=len(train_loader))\n",
        "\n",
        "    for epoch in range(epochs):\n",
        "        # Training Phase \n",
        "        model.train()\n",
        "        train_losses = []\n",
        "        for batch in train_loader:\n",
        "            # Calculate loss on data coming from training set\n",
        "            loss = model.training_step(batch)\n",
        "            # keep all losses on different batches of training data\n",
        "            train_losses.append(loss)\n",
        "            loss.backward()\n",
        "            optimizer.step()\n",
        "            optimizer.zero_grad()\n",
        "\n",
        "            # scheduler.step()\n",
        "        # Validation phase\n",
        "        result = evaluate(model, val_loader)\n",
        "        result['train_loss'] = torch.stack(train_losses).mean().item()\n",
        "        # model.epoch_end(epoch, result,scheduler.get_lr())\n",
        "        model.epoch_end(epoch, result,lr)\n",
        "        history.append(result)\n",
        "    return history"
      ],
      "metadata": {
        "id": "4oLpVzOBulop"
      },
      "execution_count": 183,
      "outputs": []
    },
    {
      "cell_type": "code",
      "source": [
        "# downloading CIFAR10 dataset (both training and test sets)\n",
        "\n",
        "torch.manual_seed(1)\n",
        "\n",
        "dataset = CIFAR10(root='data/', download=True, train=True, transform=ToTensor())\n",
        "test_dataset = CIFAR10(root='data/', download=True, train=False, transform=ToTensor())"
      ],
      "metadata": {
        "id": "qlYEs7p_UzNO",
        "colab": {
          "base_uri": "https://localhost:8080/"
        },
        "outputId": "15b374f5-5c13-4581-92bc-c85c6a186a2b"
      },
      "execution_count": 184,
      "outputs": [
        {
          "output_type": "stream",
          "name": "stdout",
          "text": [
            "Files already downloaded and verified\n",
            "Files already downloaded and verified\n"
          ]
        }
      ]
    },
    {
      "cell_type": "code",
      "source": [
        "# calculate accuracy by counting the number of true predictions and dividing it\n",
        "# to the whole number of predictions.\n",
        "def accuracy(outputs, labels):\n",
        "    _, preds = torch.max(outputs, dim=1)\n",
        "    return torch.tensor(torch.sum(preds == labels).item() / len(preds))"
      ],
      "metadata": {
        "id": "NIhGhlhExzaJ"
      },
      "execution_count": 185,
      "outputs": []
    },
    {
      "cell_type": "code",
      "source": [
        "# This class is parent for the next class \"MnistModel\".\n",
        "# This class ingeritance from \"torch.nn.Module\" class.\n",
        "\n",
        "class MnistModelBase(torch.nn.Module):\n",
        "    # Calculate loss on training set\n",
        "    def training_step(self, batch):\n",
        "        images, targets = batch   # extracting features and labels\n",
        "        out = self(images)        # calculate the output or yhat\n",
        "        loss = F.cross_entropy(out, targets)  # calculate loss function\n",
        "        return loss     # return loss\n",
        "    \n",
        "    # Calculate loss on validation set\n",
        "    def validation_step(self, batch):\n",
        "        images, targets = batch    # extracting features and labels\n",
        "        out = self(images)        # calculate the output or yhat\n",
        "        loss = F.cross_entropy(out, targets)  # Calculate loss\n",
        "        # calculate the accuracy based on the function I already defined in the above cells\n",
        "        acc = accuracy(out, targets)\n",
        "        # return a dictionary including loss and accuracy of validation set\n",
        "        return {'val_loss': loss.detach(), 'val_acc': acc }\n",
        "        \n",
        "    def validation_epoch_end(self, outputs):\n",
        "        batch_losses = [x['val_loss'] for x in outputs]\n",
        "        epoch_loss = torch.stack(batch_losses).mean()   # Combine losses\n",
        "        batch_acc = [x['val_acc'] for x in outputs]\n",
        "        epoch_acc = torch.stack(batch_acc).mean()      # Combine accuracies\n",
        "        return {'val_loss': epoch_loss.item(), 'val_acc': epoch_acc.item()}\n",
        "    \n",
        "    # show some metrics during training\n",
        "    def epoch_end(self, epoch, result,LR):\n",
        "        print(\"Epoch [{}] - LR [{}], train_loss: {:.4f}, val_loss: {:.4f}, val_acc: {:.4f}\".format(\n",
        "            epoch,LR,result['train_loss'], result['val_loss'], result['val_acc']))"
      ],
      "metadata": {
        "id": "zDc5qlO7uKvg"
      },
      "execution_count": 186,
      "outputs": []
    },
    {
      "cell_type": "code",
      "source": [
        "# This class inheritance from \"MnistModelBase\" class.\n",
        "# Layers of the CNN is defined here.\n",
        "\n",
        "class MnistModel1(MnistModelBase):\n",
        "    \"\"\"Feedfoward neural network with 2 hidden layer\"\"\"\n",
        "    def __init__(self):\n",
        "        super().__init__()\n",
        "\n",
        "        self.conv1 = torch.nn.Conv2d(3, 6, 5, stride=1, padding='same')  # chnl-in, out, krnl\n",
        "        self.conv2 = torch.nn.Conv2d(6, 16, 5, stride=1, padding='same')\n",
        "        self.conv3 = torch.nn.Conv2d(16, 120, 5, stride=1, padding='same')\n",
        "\n",
        "        self.pool = torch.nn.MaxPool2d(2, stride=2)\n",
        "\n",
        "        self.relu = torch.nn.ReLU()\n",
        "\n",
        "        #self.fc1 = torch.nn.Linear(120, 60)\n",
        "        self.fc1 = torch.nn.Linear(7680, 128)\n",
        "        self.fc2 = torch.nn.Linear(128, 10)  # 10 classes\n",
        "        self.softmax = torch.nn.Softmax()\n",
        "\n",
        "    def forward(self, xb):\n",
        "\n",
        "        # CNN\n",
        "        x = self.relu(self.conv1(xb))\n",
        "        x = self.pool(x)\n",
        "\n",
        "        x = self.relu(self.conv2(x))\n",
        "        x = self.pool(x)\n",
        "\n",
        "        x = self.relu(self.conv3(x))\n",
        "\n",
        "        # MLP\n",
        "        x = x.view(x.shape[0], -1)\n",
        "\n",
        "        x = self.relu(self.fc1(x))\n",
        "        x = self.fc2(x)\n",
        "\n",
        "        return x"
      ],
      "metadata": {
        "id": "ooXyyZJuuOMi"
      },
      "execution_count": 187,
      "outputs": []
    },
    {
      "cell_type": "code",
      "source": [
        "# Hyper parameters\n",
        "\n",
        "batch_size=128      # number of batch size\n",
        "val_size = 10000    # size of the validation set\n",
        "epochs = 25     # number of epochs\n",
        "lr = 0.001      # learning rate\n",
        "opt = torch.optim.Adam     # optimizer"
      ],
      "metadata": {
        "id": "XM8Cu835XArF"
      },
      "execution_count": 204,
      "outputs": []
    },
    {
      "cell_type": "code",
      "source": [
        "# size of training set is the total size minus the size of val set\n",
        "train_size = len(dataset) - val_size\n",
        "\n",
        "# split dataset between two training and validation sets.\n",
        "train_ds, val_ds = random_split(dataset, [train_size, val_size])"
      ],
      "metadata": {
        "id": "jRx0LvhpVJn3"
      },
      "execution_count": 205,
      "outputs": []
    },
    {
      "cell_type": "code",
      "source": [
        "# create three tensors for trainin, validation, and test sets\n",
        "\n",
        "train_loader = DataLoader(train_ds, batch_size, shuffle=True, num_workers=2, pin_memory=True)\n",
        "val_loader = DataLoader(val_ds, batch_size*2, num_workers=2, pin_memory=True)\n",
        "test_loader = DataLoader(test_dataset, batch_size*2, num_workers=2, pin_memory=True)"
      ],
      "metadata": {
        "id": "rzCNeUVKEHUU"
      },
      "execution_count": 206,
      "outputs": []
    },
    {
      "cell_type": "code",
      "source": [
        "# This cell calculates min, max, mean, and standard deviation of training set\n",
        "# It shows first training data\n",
        "   \n",
        "imgs, lbls = next(iter(train_loader))\n",
        "print(imgs[7].data.shape)\n",
        "img = make_grid(imgs[0])\n",
        "npimg = img.numpy()\n",
        "plt.imshow(np.transpose(npimg, (1, 2, 0)))"
      ],
      "metadata": {
        "colab": {
          "base_uri": "https://localhost:8080/",
          "height": 302
        },
        "id": "J-66qeStYmwY",
        "outputId": "610cf785-3f98-4036-b9af-10a22de472b7"
      },
      "execution_count": 54,
      "outputs": [
        {
          "output_type": "stream",
          "name": "stdout",
          "text": [
            "torch.Size([3, 32, 32])\n"
          ]
        },
        {
          "output_type": "execute_result",
          "data": {
            "text/plain": [
              "<matplotlib.image.AxesImage at 0x7f687a11b650>"
            ]
          },
          "metadata": {},
          "execution_count": 54
        },
        {
          "output_type": "display_data",
          "data": {
            "text/plain": [
              "<Figure size 432x288 with 1 Axes>"
            ],
            "image/png": "[encoded data removed]"
          },
          "metadata": {
            "needs_background": "light"
          }
        }
      ]
    },
    {
      "cell_type": "code",
      "source": [
        "# choose the default device.\n",
        "# It takes GPU if it is available. Otherwise, it takes CPU.\n",
        "device = get_default_device()\n",
        "\n",
        "# move the dataloaders and data to the selected device (either GPU or CPU)\n",
        "# for all training, validation, and test sets.\n",
        "train_loader = DeviceDataLoader(train_loader, device)\n",
        "val_loader = DeviceDataLoader(val_loader, device)\n",
        "test_loader = DeviceDataLoader(test_loader, device)"
      ],
      "metadata": {
        "id": "io-UFEJJudd8"
      },
      "execution_count": 207,
      "outputs": []
    },
    {
      "cell_type": "code",
      "source": [
        "# Model (on GPU)\n",
        "model1 = MnistModel1()\n",
        "to_device(model1, device)"
      ],
      "metadata": {
        "colab": {
          "base_uri": "https://localhost:8080/"
        },
        "id": "ZY4ld8OxarVP",
        "outputId": "1cb4d5d0-487a-49e5-b840-e9b45b901ce2"
      },
      "execution_count": 56,
      "outputs": [
        {
          "output_type": "execute_result",
          "data": {
            "text/plain": [
              "MnistModel1(\n",
              "  (conv1): Conv2d(3, 6, kernel_size=(5, 5), stride=(1, 1), padding=same)\n",
              "  (conv2): Conv2d(6, 16, kernel_size=(5, 5), stride=(1, 1), padding=same)\n",
              "  (conv3): Conv2d(16, 120, kernel_size=(5, 5), stride=(1, 1), padding=same)\n",
              "  (pool): MaxPool2d(kernel_size=2, stride=2, padding=0, dilation=1, ceil_mode=False)\n",
              "  (relu): ReLU()\n",
              "  (fc1): Linear(in_features=7680, out_features=128, bias=True)\n",
              "  (fc2): Linear(in_features=128, out_features=10, bias=True)\n",
              "  (softmax): Softmax(dim=None)\n",
              ")"
            ]
          },
          "metadata": {},
          "execution_count": 56
        }
      ]
    },
    {
      "cell_type": "code",
      "source": [
        "# print the summary of the model\n",
        "summary(model1, input_size=(3, 32, 32), batch_size=-1)"
      ],
      "metadata": {
        "colab": {
          "base_uri": "https://localhost:8080/"
        },
        "id": "9Fhp9ALEa9Ag",
        "outputId": "b128fec1-fe95-440c-e5c9-3ba7b0415ec5"
      },
      "execution_count": 57,
      "outputs": [
        {
          "output_type": "stream",
          "name": "stdout",
          "text": [
            "----------------------------------------------------------------\n",
            "        Layer (type)               Output Shape         Param #\n",
            "================================================================\n",
            "            Conv2d-1            [-1, 6, 32, 32]             456\n",
            "              ReLU-2            [-1, 6, 32, 32]               0\n",
            "         MaxPool2d-3            [-1, 6, 16, 16]               0\n",
            "            Conv2d-4           [-1, 16, 16, 16]           2,416\n",
            "              ReLU-5           [-1, 16, 16, 16]               0\n",
            "         MaxPool2d-6             [-1, 16, 8, 8]               0\n",
            "            Conv2d-7            [-1, 120, 8, 8]          48,120\n",
            "              ReLU-8            [-1, 120, 8, 8]               0\n",
            "            Linear-9                  [-1, 128]         983,168\n",
            "             ReLU-10                  [-1, 128]               0\n",
            "           Linear-11                   [-1, 10]           1,290\n",
            "================================================================\n",
            "Total params: 1,035,450\n",
            "Trainable params: 1,035,450\n",
            "Non-trainable params: 0\n",
            "----------------------------------------------------------------\n",
            "Input size (MB): 0.01\n",
            "Forward/backward pass size (MB): 0.29\n",
            "Params size (MB): 3.95\n",
            "Estimated Total Size (MB): 4.26\n",
            "----------------------------------------------------------------\n"
          ]
        }
      ]
    },
    {
      "cell_type": "code",
      "source": [
        "history1 = [evaluate(model1, val_loader)]\n",
        "history1 += fit(epochs, lr, model1, train_loader, val_loader, opt)"
      ],
      "metadata": {
        "colab": {
          "base_uri": "https://localhost:8080/"
        },
        "id": "pmypI3dFbD5B",
        "outputId": "63f8afcf-f488-4f57-a6d9-b8797c0355a9"
      },
      "execution_count": 58,
      "outputs": [
        {
          "output_type": "stream",
          "name": "stdout",
          "text": [
            "Epoch [0] - LR [0.001], train_loss: 1.7449, val_loss: 1.5144, val_acc: 0.4437\n",
            "Epoch [1] - LR [0.001], train_loss: 1.4013, val_loss: 1.3468, val_acc: 0.5146\n",
            "Epoch [2] - LR [0.001], train_loss: 1.2336, val_loss: 1.2229, val_acc: 0.5573\n",
            "Epoch [3] - LR [0.001], train_loss: 1.1138, val_loss: 1.1275, val_acc: 0.5998\n",
            "Epoch [4] - LR [0.001], train_loss: 1.0221, val_loss: 1.0530, val_acc: 0.6258\n",
            "Epoch [5] - LR [0.001], train_loss: 0.9265, val_loss: 0.9955, val_acc: 0.6453\n",
            "Epoch [6] - LR [0.001], train_loss: 0.8634, val_loss: 0.9707, val_acc: 0.6540\n",
            "Epoch [7] - LR [0.001], train_loss: 0.7967, val_loss: 0.9746, val_acc: 0.6553\n",
            "Epoch [8] - LR [0.001], train_loss: 0.7286, val_loss: 0.9315, val_acc: 0.6785\n",
            "Epoch [9] - LR [0.001], train_loss: 0.6691, val_loss: 0.9822, val_acc: 0.6624\n",
            "Epoch [10] - LR [0.001], train_loss: 0.6087, val_loss: 0.9463, val_acc: 0.6839\n",
            "Epoch [11] - LR [0.001], train_loss: 0.5470, val_loss: 0.9828, val_acc: 0.6752\n",
            "Epoch [12] - LR [0.001], train_loss: 0.4934, val_loss: 1.0006, val_acc: 0.6825\n",
            "Epoch [13] - LR [0.001], train_loss: 0.4277, val_loss: 0.9900, val_acc: 0.6897\n",
            "Epoch [14] - LR [0.001], train_loss: 0.3739, val_loss: 1.0621, val_acc: 0.6842\n",
            "Epoch [15] - LR [0.001], train_loss: 0.3182, val_loss: 1.1207, val_acc: 0.6853\n",
            "Epoch [16] - LR [0.001], train_loss: 0.2720, val_loss: 1.2378, val_acc: 0.6854\n",
            "Epoch [17] - LR [0.001], train_loss: 0.2183, val_loss: 1.3222, val_acc: 0.6749\n",
            "Epoch [18] - LR [0.001], train_loss: 0.1814, val_loss: 1.3749, val_acc: 0.6755\n",
            "Epoch [19] - LR [0.001], train_loss: 0.1620, val_loss: 1.5437, val_acc: 0.6659\n",
            "Epoch [20] - LR [0.001], train_loss: 0.1283, val_loss: 1.6458, val_acc: 0.6791\n",
            "Epoch [21] - LR [0.001], train_loss: 0.1042, val_loss: 1.7422, val_acc: 0.6815\n",
            "Epoch [22] - LR [0.001], train_loss: 0.0867, val_loss: 1.8313, val_acc: 0.6636\n",
            "Epoch [23] - LR [0.001], train_loss: 0.0992, val_loss: 1.8844, val_acc: 0.6655\n",
            "Epoch [24] - LR [0.001], train_loss: 0.0697, val_loss: 2.0040, val_acc: 0.6691\n"
          ]
        }
      ]
    },
    {
      "cell_type": "code",
      "source": [
        "plot_losses(history1)"
      ],
      "metadata": {
        "colab": {
          "base_uri": "https://localhost:8080/",
          "height": 295
        },
        "id": "Mw4MUJzGbKEX",
        "outputId": "794d46ea-dadd-494b-c4ae-783da574e45e"
      },
      "execution_count": 59,
      "outputs": [
        {
          "output_type": "display_data",
          "data": {
            "text/plain": [
              "<Figure size 432x288 with 1 Axes>"
            ],
            "image/png": "[encoded data removed]"
          },
          "metadata": {
            "needs_background": "light"
          }
        }
      ]
    },
    {
      "cell_type": "code",
      "source": [
        "plot_scores(history1)"
      ],
      "metadata": {
        "colab": {
          "base_uri": "https://localhost:8080/",
          "height": 295
        },
        "id": "c8iHuufebVeR",
        "outputId": "b4190118-de40-4c01-83ac-7baa64ae027a"
      },
      "execution_count": 60,
      "outputs": [
        {
          "output_type": "display_data",
          "data": {
            "text/plain": [
              "<Figure size 432x288 with 1 Axes>"
            ],
            "image/png": "[encoded data removed]"
          },
          "metadata": {
            "needs_background": "light"
          }
        }
      ]
    },
    {
      "cell_type": "code",
      "source": [
        "# loss and accuracy of last epochs\n",
        "print(history1[-1])"
      ],
      "metadata": {
        "colab": {
          "base_uri": "https://localhost:8080/"
        },
        "id": "Zx7sBdEQ9rci",
        "outputId": "76fcef2c-7c4d-4870-afd6-d664c8d2daf3"
      },
      "execution_count": 61,
      "outputs": [
        {
          "output_type": "stream",
          "name": "stdout",
          "text": [
            "{'val_loss': 2.0039925575256348, 'val_acc': 0.669140636920929, 'train_loss': 0.06971785426139832}\n"
          ]
        }
      ]
    },
    {
      "cell_type": "code",
      "source": [
        "# Hyper parameters\n",
        "\n",
        "batch_size=128      # number of batch size\n",
        "val_size = 10000    # size of the validation set\n",
        "epochs = 25     # number of epochs\n",
        "lr = 0.001      # learning rate\n",
        "opt = torch.optim.SGD     # optimizer"
      ],
      "metadata": {
        "id": "vlU_09kRa4wO"
      },
      "execution_count": 62,
      "outputs": []
    },
    {
      "cell_type": "code",
      "source": [
        "# training the network\n",
        "model2 = MnistModel1()\n",
        "to_device(model2, device)\n",
        "history2 = [evaluate(model2, val_loader)]\n",
        "history2 += fit(epochs, lr, model2, train_loader, val_loader, opt)"
      ],
      "metadata": {
        "colab": {
          "base_uri": "https://localhost:8080/"
        },
        "id": "_rOqTeW1bcBm",
        "outputId": "c765062e-aa74-40b0-d0c3-80389ec73ef0"
      },
      "execution_count": 63,
      "outputs": [
        {
          "output_type": "stream",
          "name": "stdout",
          "text": [
            "Epoch [0] - LR [0.001], train_loss: 2.3038, val_loss: 2.3042, val_acc: 0.0980\n",
            "Epoch [1] - LR [0.001], train_loss: 2.3035, val_loss: 2.3039, val_acc: 0.0979\n",
            "Epoch [2] - LR [0.001], train_loss: 2.3032, val_loss: 2.3037, val_acc: 0.0982\n",
            "Epoch [3] - LR [0.001], train_loss: 2.3030, val_loss: 2.3034, val_acc: 0.0989\n",
            "Epoch [4] - LR [0.001], train_loss: 2.3028, val_loss: 2.3032, val_acc: 0.0996\n",
            "Epoch [5] - LR [0.001], train_loss: 2.3026, val_loss: 2.3030, val_acc: 0.1001\n",
            "Epoch [6] - LR [0.001], train_loss: 2.3024, val_loss: 2.3028, val_acc: 0.1006\n",
            "Epoch [7] - LR [0.001], train_loss: 2.3023, val_loss: 2.3027, val_acc: 0.1009\n",
            "Epoch [8] - LR [0.001], train_loss: 2.3021, val_loss: 2.3025, val_acc: 0.1022\n",
            "Epoch [9] - LR [0.001], train_loss: 2.3019, val_loss: 2.3023, val_acc: 0.1062\n",
            "Epoch [10] - LR [0.001], train_loss: 2.3017, val_loss: 2.3021, val_acc: 0.1093\n",
            "Epoch [11] - LR [0.001], train_loss: 2.3015, val_loss: 2.3018, val_acc: 0.1103\n",
            "Epoch [12] - LR [0.001], train_loss: 2.3013, val_loss: 2.3016, val_acc: 0.1115\n",
            "Epoch [13] - LR [0.001], train_loss: 2.3010, val_loss: 2.3013, val_acc: 0.1161\n",
            "Epoch [14] - LR [0.001], train_loss: 2.3007, val_loss: 2.3010, val_acc: 0.1218\n",
            "Epoch [15] - LR [0.001], train_loss: 2.3004, val_loss: 2.3006, val_acc: 0.1278\n",
            "Epoch [16] - LR [0.001], train_loss: 2.2999, val_loss: 2.3001, val_acc: 0.1354\n",
            "Epoch [17] - LR [0.001], train_loss: 2.2995, val_loss: 2.2996, val_acc: 0.1454\n",
            "Epoch [18] - LR [0.001], train_loss: 2.2989, val_loss: 2.2990, val_acc: 0.1560\n",
            "Epoch [19] - LR [0.001], train_loss: 2.2983, val_loss: 2.2983, val_acc: 0.1641\n",
            "Epoch [20] - LR [0.001], train_loss: 2.2976, val_loss: 2.2976, val_acc: 0.1648\n",
            "Epoch [21] - LR [0.001], train_loss: 2.2968, val_loss: 2.2967, val_acc: 0.1688\n",
            "Epoch [22] - LR [0.001], train_loss: 2.2959, val_loss: 2.2957, val_acc: 0.1693\n",
            "Epoch [23] - LR [0.001], train_loss: 2.2948, val_loss: 2.2945, val_acc: 0.1697\n",
            "Epoch [24] - LR [0.001], train_loss: 2.2935, val_loss: 2.2930, val_acc: 0.1697\n"
          ]
        }
      ]
    },
    {
      "cell_type": "code",
      "source": [
        "# plot losses\n",
        "plot_losses(history2)"
      ],
      "metadata": {
        "colab": {
          "base_uri": "https://localhost:8080/",
          "height": 295
        },
        "id": "juhEaCd0bjuN",
        "outputId": "585c10f5-c6a9-4eb4-ffed-481a2c0de1e4"
      },
      "execution_count": 64,
      "outputs": [
        {
          "output_type": "display_data",
          "data": {
            "text/plain": [
              "<Figure size 432x288 with 1 Axes>"
            ],
            "image/png": "[encoded data removed]"
          },
          "metadata": {
            "needs_background": "light"
          }
        }
      ]
    },
    {
      "cell_type": "code",
      "source": [
        "plot_scores(history2)"
      ],
      "metadata": {
        "colab": {
          "base_uri": "https://localhost:8080/",
          "height": 295
        },
        "id": "xbjGRfuYb_vJ",
        "outputId": "14aa379b-69ba-4fd3-f251-0d25fe10e736"
      },
      "execution_count": 66,
      "outputs": [
        {
          "output_type": "display_data",
          "data": {
            "text/plain": [
              "<Figure size 432x288 with 1 Axes>"
            ],
            "image/png": "[encoded data removed]"
          },
          "metadata": {
            "needs_background": "light"
          }
        }
      ]
    },
    {
      "cell_type": "code",
      "source": [
        "# loss and accuracy of last epochs\n",
        "print(history2[-1])"
      ],
      "metadata": {
        "colab": {
          "base_uri": "https://localhost:8080/"
        },
        "id": "jWoAHCgDblPR",
        "outputId": "6c680f54-c008-46af-815a-1e01b64fa865"
      },
      "execution_count": 65,
      "outputs": [
        {
          "output_type": "stream",
          "name": "stdout",
          "text": [
            "{'val_loss': 2.2929904460906982, 'val_acc': 0.16972656548023224, 'train_loss': 2.293541669845581}\n"
          ]
        }
      ]
    },
    {
      "cell_type": "code",
      "source": [
        "# Hyper parameters\n",
        "\n",
        "batch_size=128      # number of batch size\n",
        "val_size = 10000    # size of the validation set\n",
        "epochs = 25     # number of epochs\n",
        "lr = 0.01      # learning rate\n",
        "opt = torch.optim.Adam     # optimizer"
      ],
      "metadata": {
        "id": "WfCu3bsZbzCv"
      },
      "execution_count": 67,
      "outputs": []
    },
    {
      "cell_type": "code",
      "source": [
        "# training the network\n",
        "model3 = MnistModel1()\n",
        "to_device(model3, device)\n",
        "history3 = [evaluate(model3, val_loader)]\n",
        "history3 += fit(epochs, lr, model3, train_loader, val_loader, opt)"
      ],
      "metadata": {
        "colab": {
          "base_uri": "https://localhost:8080/"
        },
        "id": "MTrShQcXb0KQ",
        "outputId": "4b96f452-e8f3-42af-cf3e-591f6c7b289b"
      },
      "execution_count": 68,
      "outputs": [
        {
          "output_type": "stream",
          "name": "stdout",
          "text": [
            "Epoch [0] - LR [0.01], train_loss: 2.3357, val_loss: 2.3034, val_acc: 0.0976\n",
            "Epoch [1] - LR [0.01], train_loss: 2.3033, val_loss: 2.3040, val_acc: 0.0993\n",
            "Epoch [2] - LR [0.01], train_loss: 2.3033, val_loss: 2.3038, val_acc: 0.0978\n",
            "Epoch [3] - LR [0.01], train_loss: 2.3032, val_loss: 2.3027, val_acc: 0.0971\n",
            "Epoch [4] - LR [0.01], train_loss: 2.3034, val_loss: 2.3028, val_acc: 0.0993\n",
            "Epoch [5] - LR [0.01], train_loss: 2.3033, val_loss: 2.3033, val_acc: 0.0967\n",
            "Epoch [6] - LR [0.01], train_loss: 2.3032, val_loss: 2.3036, val_acc: 0.0971\n",
            "Epoch [7] - LR [0.01], train_loss: 2.3035, val_loss: 2.3036, val_acc: 0.0953\n",
            "Epoch [8] - LR [0.01], train_loss: 2.3032, val_loss: 2.3037, val_acc: 0.0976\n",
            "Epoch [9] - LR [0.01], train_loss: 2.3032, val_loss: 2.3044, val_acc: 0.0967\n",
            "Epoch [10] - LR [0.01], train_loss: 2.3032, val_loss: 2.3034, val_acc: 0.0993\n",
            "Epoch [11] - LR [0.01], train_loss: 2.3032, val_loss: 2.3036, val_acc: 0.0993\n",
            "Epoch [12] - LR [0.01], train_loss: 2.3034, val_loss: 2.3039, val_acc: 0.0978\n",
            "Epoch [13] - LR [0.01], train_loss: 2.3031, val_loss: 2.3050, val_acc: 0.0978\n",
            "Epoch [14] - LR [0.01], train_loss: 2.3033, val_loss: 2.3047, val_acc: 0.0971\n",
            "Epoch [15] - LR [0.01], train_loss: 2.3031, val_loss: 2.3047, val_acc: 0.0976\n",
            "Epoch [16] - LR [0.01], train_loss: 2.3034, val_loss: 2.3041, val_acc: 0.0953\n",
            "Epoch [17] - LR [0.01], train_loss: 2.3030, val_loss: 2.3035, val_acc: 0.1039\n",
            "Epoch [18] - LR [0.01], train_loss: 2.3034, val_loss: 2.3038, val_acc: 0.0978\n",
            "Epoch [19] - LR [0.01], train_loss: 2.3034, val_loss: 2.3027, val_acc: 0.0967\n",
            "Epoch [20] - LR [0.01], train_loss: 2.3034, val_loss: 2.3038, val_acc: 0.1009\n",
            "Epoch [21] - LR [0.01], train_loss: 2.3032, val_loss: 2.3034, val_acc: 0.0978\n",
            "Epoch [22] - LR [0.01], train_loss: 2.3034, val_loss: 2.3046, val_acc: 0.0953\n",
            "Epoch [23] - LR [0.01], train_loss: 2.3033, val_loss: 2.3031, val_acc: 0.1009\n",
            "Epoch [24] - LR [0.01], train_loss: 2.3032, val_loss: 2.3033, val_acc: 0.0976\n"
          ]
        }
      ]
    },
    {
      "cell_type": "code",
      "source": [
        "# plot losses\n",
        "plot_losses(history3)"
      ],
      "metadata": {
        "colab": {
          "base_uri": "https://localhost:8080/",
          "height": 295
        },
        "id": "x0_ShDWNb09m",
        "outputId": "f6b331d2-de0a-4555-e2e5-e7ff4abe42c1"
      },
      "execution_count": 69,
      "outputs": [
        {
          "output_type": "display_data",
          "data": {
            "text/plain": [
              "<Figure size 432x288 with 1 Axes>"
            ],
            "image/png": "[encoded data removed]"
          },
          "metadata": {
            "needs_background": "light"
          }
        }
      ]
    },
    {
      "cell_type": "code",
      "source": [
        "plot_scores(history3)"
      ],
      "metadata": {
        "colab": {
          "base_uri": "https://localhost:8080/",
          "height": 295
        },
        "id": "pbo3hWfeb_F_",
        "outputId": "b97b1787-bdde-406d-f5b6-4c324cdc3c6f"
      },
      "execution_count": 70,
      "outputs": [
        {
          "output_type": "display_data",
          "data": {
            "text/plain": [
              "<Figure size 432x288 with 1 Axes>"
            ],
            "image/png": "[encoded data removed]"
          },
          "metadata": {
            "needs_background": "light"
          }
        }
      ]
    },
    {
      "cell_type": "code",
      "source": [
        "# loss and accuracy of last epochs\n",
        "print(history3[-1])"
      ],
      "metadata": {
        "colab": {
          "base_uri": "https://localhost:8080/"
        },
        "id": "PSe6fOI7b10G",
        "outputId": "588fa737-84e6-48d7-ccb3-48defb0ad981"
      },
      "execution_count": 71,
      "outputs": [
        {
          "output_type": "stream",
          "name": "stdout",
          "text": [
            "{'val_loss': 2.303316116333008, 'val_acc': 0.09755859524011612, 'train_loss': 2.3031842708587646}\n"
          ]
        }
      ]
    },
    {
      "cell_type": "code",
      "source": [
        "# Hyper parameters\n",
        "\n",
        "batch_size=128      # number of batch size\n",
        "val_size = 10000    # size of the validation set\n",
        "epochs = 25     # number of epochs\n",
        "lr = 0.0001      # learning rate\n",
        "opt = torch.optim.Adam     # optimizer"
      ],
      "metadata": {
        "id": "mNKXC6NncG5_"
      },
      "execution_count": 72,
      "outputs": []
    },
    {
      "cell_type": "code",
      "source": [
        "# training the network\n",
        "model4 = MnistModel1()\n",
        "to_device(model4, device)\n",
        "history4 = [evaluate(model4, val_loader)]\n",
        "history4 += fit(epochs, lr, model4, train_loader, val_loader, opt)"
      ],
      "metadata": {
        "colab": {
          "base_uri": "https://localhost:8080/"
        },
        "id": "OzZF8cq2cLUv",
        "outputId": "6acb2bfb-3564-48ae-e19f-9d90ad3629ec"
      },
      "execution_count": 73,
      "outputs": [
        {
          "output_type": "stream",
          "name": "stdout",
          "text": [
            "Epoch [0] - LR [0.0001], train_loss: 2.0431, val_loss: 1.8829, val_acc: 0.3002\n",
            "Epoch [1] - LR [0.0001], train_loss: 1.7797, val_loss: 1.7298, val_acc: 0.3669\n",
            "Epoch [2] - LR [0.0001], train_loss: 1.6656, val_loss: 1.6290, val_acc: 0.4034\n",
            "Epoch [3] - LR [0.0001], train_loss: 1.5936, val_loss: 1.5759, val_acc: 0.4248\n",
            "Epoch [4] - LR [0.0001], train_loss: 1.5422, val_loss: 1.5394, val_acc: 0.4381\n",
            "Epoch [5] - LR [0.0001], train_loss: 1.5018, val_loss: 1.4963, val_acc: 0.4540\n",
            "Epoch [6] - LR [0.0001], train_loss: 1.4655, val_loss: 1.4893, val_acc: 0.4628\n",
            "Epoch [7] - LR [0.0001], train_loss: 1.4367, val_loss: 1.4418, val_acc: 0.4813\n",
            "Epoch [8] - LR [0.0001], train_loss: 1.4086, val_loss: 1.4282, val_acc: 0.4821\n",
            "Epoch [9] - LR [0.0001], train_loss: 1.3844, val_loss: 1.3901, val_acc: 0.4949\n",
            "Epoch [10] - LR [0.0001], train_loss: 1.3588, val_loss: 1.3824, val_acc: 0.4994\n",
            "Epoch [11] - LR [0.0001], train_loss: 1.3372, val_loss: 1.3546, val_acc: 0.5131\n",
            "Epoch [12] - LR [0.0001], train_loss: 1.3212, val_loss: 1.3524, val_acc: 0.5127\n",
            "Epoch [13] - LR [0.0001], train_loss: 1.2988, val_loss: 1.3249, val_acc: 0.5229\n",
            "Epoch [14] - LR [0.0001], train_loss: 1.2783, val_loss: 1.3103, val_acc: 0.5338\n",
            "Epoch [15] - LR [0.0001], train_loss: 1.2631, val_loss: 1.3006, val_acc: 0.5339\n",
            "Epoch [16] - LR [0.0001], train_loss: 1.2455, val_loss: 1.2832, val_acc: 0.5419\n",
            "Epoch [17] - LR [0.0001], train_loss: 1.2303, val_loss: 1.2778, val_acc: 0.5399\n",
            "Epoch [18] - LR [0.0001], train_loss: 1.2123, val_loss: 1.2596, val_acc: 0.5495\n",
            "Epoch [19] - LR [0.0001], train_loss: 1.1971, val_loss: 1.2542, val_acc: 0.5450\n",
            "Epoch [20] - LR [0.0001], train_loss: 1.1819, val_loss: 1.2582, val_acc: 0.5469\n",
            "Epoch [21] - LR [0.0001], train_loss: 1.1719, val_loss: 1.2238, val_acc: 0.5601\n",
            "Epoch [22] - LR [0.0001], train_loss: 1.1555, val_loss: 1.2100, val_acc: 0.5678\n",
            "Epoch [23] - LR [0.0001], train_loss: 1.1393, val_loss: 1.2046, val_acc: 0.5706\n",
            "Epoch [24] - LR [0.0001], train_loss: 1.1287, val_loss: 1.1862, val_acc: 0.5743\n"
          ]
        }
      ]
    },
    {
      "cell_type": "code",
      "source": [
        "# plot losses\n",
        "plot_losses(history4)"
      ],
      "metadata": {
        "colab": {
          "base_uri": "https://localhost:8080/",
          "height": 295
        },
        "id": "OpGP2wyucMXW",
        "outputId": "1f9a09e2-411a-4d29-e606-dcebcaef9fd8"
      },
      "execution_count": 74,
      "outputs": [
        {
          "output_type": "display_data",
          "data": {
            "text/plain": [
              "<Figure size 432x288 with 1 Axes>"
            ],
            "image/png": "[encoded data removed]"
          },
          "metadata": {
            "needs_background": "light"
          }
        }
      ]
    },
    {
      "cell_type": "code",
      "source": [
        "plot_scores(history4)"
      ],
      "metadata": {
        "colab": {
          "base_uri": "https://localhost:8080/",
          "height": 295
        },
        "id": "CrcDesxJcNIu",
        "outputId": "5047b673-a96d-46f8-883a-8fe036b40d78"
      },
      "execution_count": 75,
      "outputs": [
        {
          "output_type": "display_data",
          "data": {
            "text/plain": [
              "<Figure size 432x288 with 1 Axes>"
            ],
            "image/png": "[encoded data removed]"
          },
          "metadata": {
            "needs_background": "light"
          }
        }
      ]
    },
    {
      "cell_type": "code",
      "source": [
        "# loss and accuracy of last epochs\n",
        "print(history4[-1])"
      ],
      "metadata": {
        "colab": {
          "base_uri": "https://localhost:8080/"
        },
        "id": "L0_JJYLgcPPn",
        "outputId": "fce3eea9-2cfe-4ab8-e0f1-fd39884838b7"
      },
      "execution_count": 76,
      "outputs": [
        {
          "output_type": "stream",
          "name": "stdout",
          "text": [
            "{'val_loss': 1.1861525774002075, 'val_acc': 0.5743163824081421, 'train_loss': 1.1286729574203491}\n"
          ]
        }
      ]
    },
    {
      "cell_type": "code",
      "source": [
        "# Hyper parameters\n",
        "\n",
        "batch_size=128      # number of batch size\n",
        "val_size = 10000    # size of the validation set\n",
        "epochs = 40     # number of epochs\n",
        "lr = 0.0001      # learning rate\n",
        "opt = torch.optim.Adam     # optimizer"
      ],
      "metadata": {
        "id": "oF_lrOtPcW9p"
      },
      "execution_count": 79,
      "outputs": []
    },
    {
      "cell_type": "code",
      "source": [
        "# training the network\n",
        "model5 = MnistModel1()\n",
        "to_device(model5, device)\n",
        "history5 = [evaluate(model5, val_loader)]\n",
        "history5 += fit(epochs, lr, model5, train_loader, val_loader, opt)"
      ],
      "metadata": {
        "colab": {
          "base_uri": "https://localhost:8080/"
        },
        "id": "kMjUoJomcXkF",
        "outputId": "bc3bcbb5-0e2f-4c26-e262-c351c71257e3"
      },
      "execution_count": 80,
      "outputs": [
        {
          "output_type": "stream",
          "name": "stdout",
          "text": [
            "Epoch [0] - LR [0.0001], train_loss: 2.0295, val_loss: 1.8679, val_acc: 0.3218\n",
            "Epoch [1] - LR [0.0001], train_loss: 1.7775, val_loss: 1.7105, val_acc: 0.3850\n",
            "Epoch [2] - LR [0.0001], train_loss: 1.6669, val_loss: 1.6284, val_acc: 0.4029\n",
            "Epoch [3] - LR [0.0001], train_loss: 1.5997, val_loss: 1.5703, val_acc: 0.4265\n",
            "Epoch [4] - LR [0.0001], train_loss: 1.5435, val_loss: 1.5209, val_acc: 0.4489\n",
            "Epoch [5] - LR [0.0001], train_loss: 1.4926, val_loss: 1.4778, val_acc: 0.4626\n",
            "Epoch [6] - LR [0.0001], train_loss: 1.4529, val_loss: 1.4637, val_acc: 0.4699\n",
            "Epoch [7] - LR [0.0001], train_loss: 1.4217, val_loss: 1.4340, val_acc: 0.4886\n",
            "Epoch [8] - LR [0.0001], train_loss: 1.3946, val_loss: 1.4092, val_acc: 0.4889\n",
            "Epoch [9] - LR [0.0001], train_loss: 1.3713, val_loss: 1.3886, val_acc: 0.4970\n",
            "Epoch [10] - LR [0.0001], train_loss: 1.3521, val_loss: 1.3569, val_acc: 0.5157\n",
            "Epoch [11] - LR [0.0001], train_loss: 1.3297, val_loss: 1.3697, val_acc: 0.5070\n",
            "Epoch [12] - LR [0.0001], train_loss: 1.3102, val_loss: 1.3146, val_acc: 0.5326\n",
            "Epoch [13] - LR [0.0001], train_loss: 1.2905, val_loss: 1.3100, val_acc: 0.5338\n",
            "Epoch [14] - LR [0.0001], train_loss: 1.2768, val_loss: 1.2954, val_acc: 0.5422\n",
            "Epoch [15] - LR [0.0001], train_loss: 1.2574, val_loss: 1.2856, val_acc: 0.5438\n",
            "Epoch [16] - LR [0.0001], train_loss: 1.2412, val_loss: 1.2728, val_acc: 0.5439\n",
            "Epoch [17] - LR [0.0001], train_loss: 1.2252, val_loss: 1.2558, val_acc: 0.5527\n",
            "Epoch [18] - LR [0.0001], train_loss: 1.2134, val_loss: 1.2414, val_acc: 0.5562\n",
            "Epoch [19] - LR [0.0001], train_loss: 1.1939, val_loss: 1.2416, val_acc: 0.5604\n",
            "Epoch [20] - LR [0.0001], train_loss: 1.1810, val_loss: 1.2217, val_acc: 0.5639\n",
            "Epoch [21] - LR [0.0001], train_loss: 1.1679, val_loss: 1.2241, val_acc: 0.5646\n",
            "Epoch [22] - LR [0.0001], train_loss: 1.1496, val_loss: 1.2125, val_acc: 0.5700\n",
            "Epoch [23] - LR [0.0001], train_loss: 1.1407, val_loss: 1.1860, val_acc: 0.5776\n",
            "Epoch [24] - LR [0.0001], train_loss: 1.1235, val_loss: 1.2266, val_acc: 0.5672\n",
            "Epoch [25] - LR [0.0001], train_loss: 1.1182, val_loss: 1.2267, val_acc: 0.5643\n",
            "Epoch [26] - LR [0.0001], train_loss: 1.1010, val_loss: 1.1823, val_acc: 0.5818\n",
            "Epoch [27] - LR [0.0001], train_loss: 1.0896, val_loss: 1.1608, val_acc: 0.5921\n",
            "Epoch [28] - LR [0.0001], train_loss: 1.0758, val_loss: 1.1630, val_acc: 0.5889\n",
            "Epoch [29] - LR [0.0001], train_loss: 1.0644, val_loss: 1.1408, val_acc: 0.5924\n",
            "Epoch [30] - LR [0.0001], train_loss: 1.0535, val_loss: 1.1635, val_acc: 0.5873\n",
            "Epoch [31] - LR [0.0001], train_loss: 1.0416, val_loss: 1.1362, val_acc: 0.5994\n",
            "Epoch [32] - LR [0.0001], train_loss: 1.0326, val_loss: 1.1275, val_acc: 0.6034\n",
            "Epoch [33] - LR [0.0001], train_loss: 1.0193, val_loss: 1.1096, val_acc: 0.6073\n",
            "Epoch [34] - LR [0.0001], train_loss: 1.0091, val_loss: 1.1087, val_acc: 0.6085\n",
            "Epoch [35] - LR [0.0001], train_loss: 0.9965, val_loss: 1.1080, val_acc: 0.6060\n",
            "Epoch [36] - LR [0.0001], train_loss: 0.9854, val_loss: 1.0952, val_acc: 0.6122\n",
            "Epoch [37] - LR [0.0001], train_loss: 0.9762, val_loss: 1.0992, val_acc: 0.6140\n",
            "Epoch [38] - LR [0.0001], train_loss: 0.9693, val_loss: 1.0919, val_acc: 0.6101\n",
            "Epoch [39] - LR [0.0001], train_loss: 0.9572, val_loss: 1.0906, val_acc: 0.6171\n"
          ]
        }
      ]
    },
    {
      "cell_type": "code",
      "source": [
        "# plot losses\n",
        "plot_losses(history5)"
      ],
      "metadata": {
        "colab": {
          "base_uri": "https://localhost:8080/",
          "height": 295
        },
        "id": "-FFXGb8fcYQ4",
        "outputId": "8f3660b6-8e2a-4fd3-a3e5-9a0114242156"
      },
      "execution_count": 81,
      "outputs": [
        {
          "output_type": "display_data",
          "data": {
            "text/plain": [
              "<Figure size 432x288 with 1 Axes>"
            ],
            "image/png": "[encoded data removed]"
          },
          "metadata": {
            "needs_background": "light"
          }
        }
      ]
    },
    {
      "cell_type": "code",
      "source": [
        "plot_scores(history5)"
      ],
      "metadata": {
        "colab": {
          "base_uri": "https://localhost:8080/",
          "height": 295
        },
        "id": "LdpIcUmWcZKn",
        "outputId": "6c798478-9e0b-4221-a97d-8620e054a74a"
      },
      "execution_count": 82,
      "outputs": [
        {
          "output_type": "display_data",
          "data": {
            "text/plain": [
              "<Figure size 432x288 with 1 Axes>"
            ],
            "image/png": "[encoded data removed]"
          },
          "metadata": {
            "needs_background": "light"
          }
        }
      ]
    },
    {
      "cell_type": "code",
      "source": [
        "# loss and accuracy of last epochs\n",
        "print(history5[-1])"
      ],
      "metadata": {
        "colab": {
          "base_uri": "https://localhost:8080/"
        },
        "id": "NqmpQqg5cZ_e",
        "outputId": "7bbab6b0-fd26-446a-94a2-62585c1a5102"
      },
      "execution_count": 83,
      "outputs": [
        {
          "output_type": "stream",
          "name": "stdout",
          "text": [
            "{'val_loss': 1.0906273126602173, 'val_acc': 0.6170898675918579, 'train_loss': 0.9572048783302307}\n"
          ]
        }
      ]
    },
    {
      "cell_type": "markdown",
      "source": [
        "**1. What is the effect of learning rate on the training process? Which performed best?**\n",
        "The LeNet model is trained for three different learning rates. The below cell shows the accuracy for these three learning rates. Bigger learning rate $0.01$ gives poor accuracy around $0.097$ on the validation set. The learning rate $0.001$ gives a little bit better accuracy than $0.0001$ for the epoch number $25$. Increasing the epoch number from $25$ to $40$ for learning rate $0.0001$ shows that higher epoch number give better accuracy."
      ],
      "metadata": {
        "id": "GT3p31kXz5_f"
      }
    },
    {
      "cell_type": "code",
      "source": [
        "print(\"lr:0.001, epoch:25\", history1[-1])\n",
        "print(\"lr:0.01, epoch:25\", history3[-1])\n",
        "print(\"lr:0.0001, epoch:25\", history4[-1])\n",
        "print(\"lr:0.0001, epoch:40\", history5[-1])"
      ],
      "metadata": {
        "colab": {
          "base_uri": "https://localhost:8080/"
        },
        "id": "5v_rowlQz8dw",
        "outputId": "2073708b-00c1-4473-bcb6-edcbfb66058e"
      },
      "execution_count": 136,
      "outputs": [
        {
          "output_type": "stream",
          "name": "stdout",
          "text": [
            "lr:0.001, epoch:25 {'val_loss': 2.0039925575256348, 'val_acc': 0.669140636920929, 'train_loss': 0.06971785426139832}\n",
            "lr:0.01, epoch:25 {'val_loss': 2.303316116333008, 'val_acc': 0.09755859524011612, 'train_loss': 2.3031842708587646}\n",
            "lr:0.0001, epoch:25 {'val_loss': 1.1861525774002075, 'val_acc': 0.5743163824081421, 'train_loss': 1.1286729574203491}\n",
            "lr:0.0001, epoch:40 {'val_loss': 1.0906273126602173, 'val_acc': 0.6170898675918579, 'train_loss': 0.9572048783302307}\n"
          ]
        }
      ]
    },
    {
      "cell_type": "code",
      "source": [
        "# Hyper parameters\n",
        "\n",
        "batch_size = 512      # number of batch size\n",
        "val_size = 10000    # size of the validation set\n",
        "epochs = 25     # number of epochs\n",
        "lr = 0.001      # learning rate\n",
        "opt = torch.optim.Adam     # optimizer"
      ],
      "metadata": {
        "id": "vphbsEuCjGzq"
      },
      "execution_count": 84,
      "outputs": []
    },
    {
      "cell_type": "code",
      "source": [
        "# create three tensors for trainin, validation, and test sets\n",
        "\n",
        "train_loader2 = DataLoader(train_ds, batch_size, shuffle=True, num_workers=2, pin_memory=True)\n",
        "val_loader2 = DataLoader(val_ds, batch_size*2, num_workers=2, pin_memory=True)\n",
        "test_loader2 = DataLoader(test_dataset, batch_size*2, num_workers=2, pin_memory=True)\n",
        "\n",
        "# choose the default device.\n",
        "# It takes GPU if it is available. Otherwise, it takes CPU.\n",
        "device2 = get_default_device()\n",
        "\n",
        "# move the dataloaders and data to the selected device (either GPU or CPU)\n",
        "# for all training, validation, and test sets.\n",
        "train_loader2 = DeviceDataLoader(train_loader2, device2)\n",
        "val_loader2 = DeviceDataLoader(val_loader2, device2)\n",
        "test_loader2 = DeviceDataLoader(test_loader2, device2)"
      ],
      "metadata": {
        "id": "HYdYRDivjZlh"
      },
      "execution_count": 85,
      "outputs": []
    },
    {
      "cell_type": "code",
      "source": [
        "model6 = MnistModel1()\n",
        "to_device(model6, device2)\n",
        "\n",
        "history6 = [evaluate(model6, val_loader2)]\n",
        "history6 += fit(epochs, lr, model6, train_loader2, val_loader2, opt)"
      ],
      "metadata": {
        "colab": {
          "base_uri": "https://localhost:8080/"
        },
        "id": "Nyls6ht4j4gB",
        "outputId": "8df6fe89-3123-4d1c-d712-02c10ae30d2b"
      },
      "execution_count": 87,
      "outputs": [
        {
          "output_type": "stream",
          "name": "stdout",
          "text": [
            "Epoch [0] - LR [0.001], train_loss: 1.8815, val_loss: 1.6834, val_acc: 0.3842\n",
            "Epoch [1] - LR [0.001], train_loss: 1.5657, val_loss: 1.5133, val_acc: 0.4471\n",
            "Epoch [2] - LR [0.001], train_loss: 1.4416, val_loss: 2.0833, val_acc: 0.3252\n",
            "Epoch [3] - LR [0.001], train_loss: 1.4154, val_loss: 1.3736, val_acc: 0.5050\n",
            "Epoch [4] - LR [0.001], train_loss: 1.3001, val_loss: 1.3286, val_acc: 0.5182\n",
            "Epoch [5] - LR [0.001], train_loss: 1.2327, val_loss: 1.2727, val_acc: 0.5443\n",
            "Epoch [6] - LR [0.001], train_loss: 1.1853, val_loss: 1.2156, val_acc: 0.5581\n",
            "Epoch [7] - LR [0.001], train_loss: 1.1359, val_loss: 1.2488, val_acc: 0.5537\n",
            "Epoch [8] - LR [0.001], train_loss: 1.0954, val_loss: 1.2831, val_acc: 0.5503\n",
            "Epoch [9] - LR [0.001], train_loss: 1.0587, val_loss: 1.1405, val_acc: 0.5926\n",
            "Epoch [10] - LR [0.001], train_loss: 1.0061, val_loss: 1.1222, val_acc: 0.6015\n",
            "Epoch [11] - LR [0.001], train_loss: 0.9583, val_loss: 1.0956, val_acc: 0.6109\n",
            "Epoch [12] - LR [0.001], train_loss: 0.9275, val_loss: 1.0614, val_acc: 0.6276\n",
            "Epoch [13] - LR [0.001], train_loss: 0.9039, val_loss: 1.1070, val_acc: 0.6091\n",
            "Epoch [14] - LR [0.001], train_loss: 0.8596, val_loss: 1.0964, val_acc: 0.6149\n",
            "Epoch [15] - LR [0.001], train_loss: 0.8318, val_loss: 1.0573, val_acc: 0.6359\n",
            "Epoch [16] - LR [0.001], train_loss: 0.7887, val_loss: 1.0399, val_acc: 0.6411\n",
            "Epoch [17] - LR [0.001], train_loss: 0.7527, val_loss: 1.0613, val_acc: 0.6346\n",
            "Epoch [18] - LR [0.001], train_loss: 0.7230, val_loss: 1.0912, val_acc: 0.6314\n",
            "Epoch [19] - LR [0.001], train_loss: 0.6780, val_loss: 1.0636, val_acc: 0.6414\n",
            "Epoch [20] - LR [0.001], train_loss: 0.6494, val_loss: 1.1085, val_acc: 0.6324\n",
            "Epoch [21] - LR [0.001], train_loss: 0.6142, val_loss: 1.1408, val_acc: 0.6270\n",
            "Epoch [22] - LR [0.001], train_loss: 0.5796, val_loss: 1.0604, val_acc: 0.6413\n",
            "Epoch [23] - LR [0.001], train_loss: 0.5359, val_loss: 1.1132, val_acc: 0.6450\n",
            "Epoch [24] - LR [0.001], train_loss: 0.5028, val_loss: 1.0962, val_acc: 0.6493\n"
          ]
        }
      ]
    },
    {
      "cell_type": "code",
      "source": [
        "# plot losses\n",
        "plot_losses(history6)"
      ],
      "metadata": {
        "colab": {
          "base_uri": "https://localhost:8080/",
          "height": 295
        },
        "id": "7FKr_rOFkDWw",
        "outputId": "087ba8eb-9063-4fb3-894e-ed7724375338"
      },
      "execution_count": 88,
      "outputs": [
        {
          "output_type": "display_data",
          "data": {
            "text/plain": [
              "<Figure size 432x288 with 1 Axes>"
            ],
            "image/png": "[encoded data removed]"
          },
          "metadata": {
            "needs_background": "light"
          }
        }
      ]
    },
    {
      "cell_type": "code",
      "source": [
        "plot_scores(history6)"
      ],
      "metadata": {
        "colab": {
          "base_uri": "https://localhost:8080/",
          "height": 295
        },
        "id": "QLeIxvbIkEuA",
        "outputId": "2e4cf510-32ef-47fa-b190-8e7eb67c56f3"
      },
      "execution_count": 89,
      "outputs": [
        {
          "output_type": "display_data",
          "data": {
            "text/plain": [
              "<Figure size 432x288 with 1 Axes>"
            ],
            "image/png": "[encoded data removed]"
          },
          "metadata": {
            "needs_background": "light"
          }
        }
      ]
    },
    {
      "cell_type": "code",
      "source": [
        "# loss and accuracy of last epochs\n",
        "print(history6[-1])"
      ],
      "metadata": {
        "colab": {
          "base_uri": "https://localhost:8080/"
        },
        "id": "bbPG1mFskF4c",
        "outputId": "d9bfa10d-379f-44c6-c597-23019bb4a5c9"
      },
      "execution_count": 90,
      "outputs": [
        {
          "output_type": "stream",
          "name": "stdout",
          "text": [
            "{'val_loss': 1.0961675643920898, 'val_acc': 0.6492606401443481, 'train_loss': 0.5028433203697205}\n"
          ]
        }
      ]
    },
    {
      "cell_type": "code",
      "source": [
        "# Hyper parameters\n",
        "\n",
        "batch_size = 16      # number of batch size\n",
        "val_size = 10000    # size of the validation set\n",
        "epochs = 25     # number of epochs\n",
        "lr = 0.001      # learning rate\n",
        "opt = torch.optim.Adam     # optimizer"
      ],
      "metadata": {
        "id": "vgY8bRswkSDZ"
      },
      "execution_count": 91,
      "outputs": []
    },
    {
      "cell_type": "code",
      "source": [
        "# create three tensors for trainin, validation, and test sets\n",
        "\n",
        "train_loader3 = DataLoader(train_ds, batch_size, shuffle=True, num_workers=2, pin_memory=True)\n",
        "val_loader3 = DataLoader(val_ds, batch_size*2, num_workers=2, pin_memory=True)\n",
        "test_loader3 = DataLoader(test_dataset, batch_size*2, num_workers=2, pin_memory=True)\n",
        "\n",
        "# choose the default device.\n",
        "# It takes GPU if it is available. Otherwise, it takes CPU.\n",
        "device3 = get_default_device()\n",
        "\n",
        "# move the dataloaders and data to the selected device (either GPU or CPU)\n",
        "# for all training, validation, and test sets.\n",
        "train_loader3 = DeviceDataLoader(train_loader3, device3)\n",
        "val_loader3 = DeviceDataLoader(val_loader3, device3)\n",
        "test_loader3 = DeviceDataLoader(test_loader3, device3)"
      ],
      "metadata": {
        "id": "6TaGFBr2kVFq"
      },
      "execution_count": 92,
      "outputs": []
    },
    {
      "cell_type": "code",
      "source": [
        "model7 = MnistModel1()\n",
        "to_device(model7, device3)\n",
        "\n",
        "history7 = [evaluate(model7, val_loader3)]\n",
        "history7 += fit(epochs, lr, model7, train_loader3, val_loader3, opt)"
      ],
      "metadata": {
        "colab": {
          "base_uri": "https://localhost:8080/"
        },
        "id": "YLAjlZzQkc9Z",
        "outputId": "2980f389-5ca3-4703-fd51-17b717b80298"
      },
      "execution_count": 93,
      "outputs": [
        {
          "output_type": "stream",
          "name": "stdout",
          "text": [
            "Epoch [0] - LR [0.001], train_loss: 1.5747, val_loss: 1.3322, val_acc: 0.5209\n",
            "Epoch [1] - LR [0.001], train_loss: 1.2021, val_loss: 1.1943, val_acc: 0.5729\n",
            "Epoch [2] - LR [0.001], train_loss: 1.0161, val_loss: 1.1005, val_acc: 0.6121\n",
            "Epoch [3] - LR [0.001], train_loss: 0.8721, val_loss: 1.0973, val_acc: 0.6183\n",
            "Epoch [4] - LR [0.001], train_loss: 0.7337, val_loss: 1.0646, val_acc: 0.6422\n",
            "Epoch [5] - LR [0.001], train_loss: 0.5992, val_loss: 1.1372, val_acc: 0.6400\n",
            "Epoch [6] - LR [0.001], train_loss: 0.4745, val_loss: 1.2672, val_acc: 0.6344\n",
            "Epoch [7] - LR [0.001], train_loss: 0.3726, val_loss: 1.4041, val_acc: 0.6300\n",
            "Epoch [8] - LR [0.001], train_loss: 0.2988, val_loss: 1.6227, val_acc: 0.6295\n",
            "Epoch [9] - LR [0.001], train_loss: 0.2448, val_loss: 1.8153, val_acc: 0.6200\n",
            "Epoch [10] - LR [0.001], train_loss: 0.2030, val_loss: 1.9532, val_acc: 0.6165\n",
            "Epoch [11] - LR [0.001], train_loss: 0.1898, val_loss: 2.2637, val_acc: 0.6080\n",
            "Epoch [12] - LR [0.001], train_loss: 0.1657, val_loss: 2.3620, val_acc: 0.6061\n",
            "Epoch [13] - LR [0.001], train_loss: 0.1640, val_loss: 2.4767, val_acc: 0.6117\n",
            "Epoch [14] - LR [0.001], train_loss: 0.1516, val_loss: 2.5566, val_acc: 0.6157\n",
            "Epoch [15] - LR [0.001], train_loss: 0.1427, val_loss: 2.7736, val_acc: 0.6078\n",
            "Epoch [16] - LR [0.001], train_loss: 0.1357, val_loss: 2.9103, val_acc: 0.6075\n",
            "Epoch [17] - LR [0.001], train_loss: 0.1278, val_loss: 2.9681, val_acc: 0.6054\n",
            "Epoch [18] - LR [0.001], train_loss: 0.1304, val_loss: 2.8476, val_acc: 0.6156\n",
            "Epoch [19] - LR [0.001], train_loss: 0.1187, val_loss: 3.1042, val_acc: 0.6081\n",
            "Epoch [20] - LR [0.001], train_loss: 0.1298, val_loss: 3.1256, val_acc: 0.6018\n",
            "Epoch [21] - LR [0.001], train_loss: 0.1117, val_loss: 3.1217, val_acc: 0.6109\n",
            "Epoch [22] - LR [0.001], train_loss: 0.1135, val_loss: 3.3988, val_acc: 0.6031\n",
            "Epoch [23] - LR [0.001], train_loss: 0.1094, val_loss: 3.2954, val_acc: 0.6094\n",
            "Epoch [24] - LR [0.001], train_loss: 0.1078, val_loss: 3.6544, val_acc: 0.6103\n"
          ]
        }
      ]
    },
    {
      "cell_type": "code",
      "source": [
        "# plot losses\n",
        "plot_losses(history7)"
      ],
      "metadata": {
        "colab": {
          "base_uri": "https://localhost:8080/",
          "height": 295
        },
        "id": "oZg4XpJCknTY",
        "outputId": "7e8fce06-3116-4046-d029-833fbbaa588e"
      },
      "execution_count": 94,
      "outputs": [
        {
          "output_type": "display_data",
          "data": {
            "text/plain": [
              "<Figure size 432x288 with 1 Axes>"
            ],
            "image/png": "[encoded data removed]"
          },
          "metadata": {
            "needs_background": "light"
          }
        }
      ]
    },
    {
      "cell_type": "code",
      "source": [
        "plot_scores(history7)"
      ],
      "metadata": {
        "colab": {
          "base_uri": "https://localhost:8080/",
          "height": 295
        },
        "id": "r-Ln2RM4koZ1",
        "outputId": "9047ea78-2cc0-4f6b-ee04-769b3cd120f1"
      },
      "execution_count": 95,
      "outputs": [
        {
          "output_type": "display_data",
          "data": {
            "text/plain": [
              "<Figure size 432x288 with 1 Axes>"
            ],
            "image/png": "[encoded data removed]"
          },
          "metadata": {
            "needs_background": "light"
          }
        }
      ]
    },
    {
      "cell_type": "code",
      "source": [
        "# loss and accuracy of last epochs\n",
        "print(history7[-1])"
      ],
      "metadata": {
        "colab": {
          "base_uri": "https://localhost:8080/"
        },
        "id": "ksvD7b41kpYp",
        "outputId": "40e4b676-97c0-403a-eb69-8ac56c3c7c42"
      },
      "execution_count": 96,
      "outputs": [
        {
          "output_type": "stream",
          "name": "stdout",
          "text": [
            "{'val_loss': 3.65442156791687, 'val_acc': 0.6103234887123108, 'train_loss': 0.10778572410345078}\n"
          ]
        }
      ]
    },
    {
      "cell_type": "markdown",
      "source": [
        "**2. What is the effect of batch size on the training process? Which performed best?**\n",
        "The model is trained with three different batch sizes. A batch size:$128$ gives the best performance with the accuracy on the validation set around $0.669$. Increasing the batch size to $512$ causes the accuracy on the validation set to be a little bit lower around $0.649$. The batch size $16$ gives poor accuracy around $0.61$."
      ],
      "metadata": {
        "id": "z5M-dmPx0gGP"
      }
    },
    {
      "cell_type": "code",
      "source": [
        "print(\"batch size:128\", history1[-1])\n",
        "print(\"batch size:512\", history6[-1])\n",
        "print(\"batch size:16\", history7[-1])"
      ],
      "metadata": {
        "colab": {
          "base_uri": "https://localhost:8080/"
        },
        "id": "nfBOhtbB0i5J",
        "outputId": "6865a7cf-53fb-4752-d2f7-bdd6f7720992"
      },
      "execution_count": 137,
      "outputs": [
        {
          "output_type": "stream",
          "name": "stdout",
          "text": [
            "batch size:128 {'val_loss': 2.0039925575256348, 'val_acc': 0.669140636920929, 'train_loss': 0.06971785426139832}\n",
            "batch size:512 {'val_loss': 1.0961675643920898, 'val_acc': 0.6492606401443481, 'train_loss': 0.5028433203697205}\n",
            "batch size:16 {'val_loss': 3.65442156791687, 'val_acc': 0.6103234887123108, 'train_loss': 0.10778572410345078}\n"
          ]
        }
      ]
    },
    {
      "cell_type": "code",
      "source": [
        "# Hyper parameters\n",
        "\n",
        "batch_size=128      # number of batch size\n",
        "val_size = 10000    # size of the validation set\n",
        "epochs = 25     # number of epochs\n",
        "lr = 0.001      # learning rate\n",
        "opt = torch.optim.Adam     # optimizer"
      ],
      "metadata": {
        "id": "fckXVsQFoMdk"
      },
      "execution_count": 97,
      "outputs": []
    },
    {
      "cell_type": "code",
      "source": [
        "# This class inheritance from \"MnistModelBase\" class.\n",
        "# Layers of the CNN is defined here.\n",
        "\n",
        "class MnistModel2(MnistModelBase):\n",
        "\n",
        "    def __init__(self):\n",
        "        super().__init__()\n",
        "        self.conv1 = torch.nn.Sequential(\n",
        "            torch.nn.Conv2d(in_channels = 3, out_channels = 16, kernel_size=3),\n",
        "            torch.nn.ReLU(),\n",
        "            torch.nn.BatchNorm2d(16),\n",
        "            torch.nn.Dropout2d(0.1),\n",
        "\n",
        "            torch.nn.Conv2d(16, 16, 3),\n",
        "            torch.nn.ReLU(),\n",
        "            torch.nn.BatchNorm2d(16),\n",
        "            torch.nn.Dropout2d(0.1),\n",
        "\n",
        "            torch.nn.Conv2d(16, 32, 3),\n",
        "            torch.nn.ReLU(),\n",
        "            torch.nn.BatchNorm2d(32),\n",
        "            torch.nn.Dropout2d(0.1),\n",
        "        )\n",
        "\n",
        "        # translation layer\n",
        "        self.trans1 = torch.nn.Sequential(\n",
        "            torch.nn.Conv2d(32, 20, 1),\n",
        "            torch.nn.ReLU(),\n",
        "            torch.nn.BatchNorm2d(20),\n",
        "\n",
        "\n",
        "            # RF - 14x14\n",
        "            torch.nn.MaxPool2d(2, 2),\n",
        "        )\n",
        "\n",
        "        self.conv2 = torch.nn.Sequential(\n",
        "            \n",
        "            torch.nn.Conv2d(20,20,3,padding=1),\n",
        "            torch.nn.ReLU(),\n",
        "            torch.nn.BatchNorm2d(20),\n",
        "            torch.nn.Dropout2d(0.1),\n",
        "\n",
        "            torch.nn.Conv2d(20,16,3),\n",
        "            torch.nn.ReLU(),\n",
        "            torch.nn.BatchNorm2d(16),\n",
        "            torch.nn.Dropout2d(0.1),\n",
        "\n",
        "            torch.nn.Conv2d(16, 16, 3),\n",
        "            torch.nn.ReLU(),\n",
        "            torch.nn.BatchNorm2d(16),\n",
        "            torch.nn.Dropout2d(0.1),\n",
        "        ) \n",
        "\n",
        "         \n",
        "        self.conv3 = torch.nn.Sequential(\n",
        "            torch.nn.Conv2d(16,16,3),\n",
        "            torch.nn.ReLU(),\n",
        "            torch.nn.BatchNorm2d(16),\n",
        "            torch.nn.Dropout2d(0.1),\n",
        "        )   \n",
        "\n",
        "        # GAP Layer\n",
        "        self.avg_pool = torch.nn.Sequential(\n",
        "            # # RF - 22x22\n",
        "            torch.nn.AvgPool2d(5)\n",
        "        )   ## output_size=1  \n",
        "\n",
        "        self.conv4 = torch.nn.Sequential(\n",
        "  \n",
        "            torch.nn.Conv2d(16,10,1),\n",
        "\n",
        "        )  \n",
        "\n",
        "        \n",
        "    def forward(self, xb):\n",
        "        x = self.conv1(xb)\n",
        "        x = self.trans1(x)\n",
        "        x = self.conv2(x)\n",
        "        x = self.conv3(x)\n",
        "        x = self.avg_pool(x)\n",
        "        x = self.conv4(x)\n",
        "\n",
        "        x = x.view(-1, 10)\n",
        "        return x"
      ],
      "metadata": {
        "id": "fCef8XtqoRsS"
      },
      "execution_count": 111,
      "outputs": []
    },
    {
      "cell_type": "code",
      "source": [
        "model8 = MnistModel2()\n",
        "to_device(model8, device)"
      ],
      "metadata": {
        "colab": {
          "base_uri": "https://localhost:8080/"
        },
        "id": "bh2NU_5qohgS",
        "outputId": "42ae0025-82c9-4936-ce6e-a0f3c1ca28f7"
      },
      "execution_count": 112,
      "outputs": [
        {
          "output_type": "execute_result",
          "data": {
            "text/plain": [
              "MnistModel2(\n",
              "  (conv1): Sequential(\n",
              "    (0): Conv2d(3, 16, kernel_size=(3, 3), stride=(1, 1))\n",
              "    (1): ReLU()\n",
              "    (2): BatchNorm2d(16, eps=1e-05, momentum=0.1, affine=True, track_running_stats=True)\n",
              "    (3): Dropout2d(p=0.1, inplace=False)\n",
              "    (4): Conv2d(16, 16, kernel_size=(3, 3), stride=(1, 1))\n",
              "    (5): ReLU()\n",
              "    (6): BatchNorm2d(16, eps=1e-05, momentum=0.1, affine=True, track_running_stats=True)\n",
              "    (7): Dropout2d(p=0.1, inplace=False)\n",
              "    (8): Conv2d(16, 32, kernel_size=(3, 3), stride=(1, 1))\n",
              "    (9): ReLU()\n",
              "    (10): BatchNorm2d(32, eps=1e-05, momentum=0.1, affine=True, track_running_stats=True)\n",
              "    (11): Dropout2d(p=0.1, inplace=False)\n",
              "  )\n",
              "  (trans1): Sequential(\n",
              "    (0): Conv2d(32, 20, kernel_size=(1, 1), stride=(1, 1))\n",
              "    (1): ReLU()\n",
              "    (2): BatchNorm2d(20, eps=1e-05, momentum=0.1, affine=True, track_running_stats=True)\n",
              "    (3): MaxPool2d(kernel_size=2, stride=2, padding=0, dilation=1, ceil_mode=False)\n",
              "  )\n",
              "  (conv2): Sequential(\n",
              "    (0): Conv2d(20, 20, kernel_size=(3, 3), stride=(1, 1), padding=(1, 1))\n",
              "    (1): ReLU()\n",
              "    (2): BatchNorm2d(20, eps=1e-05, momentum=0.1, affine=True, track_running_stats=True)\n",
              "    (3): Dropout2d(p=0.1, inplace=False)\n",
              "    (4): Conv2d(20, 16, kernel_size=(3, 3), stride=(1, 1))\n",
              "    (5): ReLU()\n",
              "    (6): BatchNorm2d(16, eps=1e-05, momentum=0.1, affine=True, track_running_stats=True)\n",
              "    (7): Dropout2d(p=0.1, inplace=False)\n",
              "    (8): Conv2d(16, 16, kernel_size=(3, 3), stride=(1, 1))\n",
              "    (9): ReLU()\n",
              "    (10): BatchNorm2d(16, eps=1e-05, momentum=0.1, affine=True, track_running_stats=True)\n",
              "    (11): Dropout2d(p=0.1, inplace=False)\n",
              "  )\n",
              "  (conv3): Sequential(\n",
              "    (0): Conv2d(16, 16, kernel_size=(3, 3), stride=(1, 1))\n",
              "    (1): ReLU()\n",
              "    (2): BatchNorm2d(16, eps=1e-05, momentum=0.1, affine=True, track_running_stats=True)\n",
              "    (3): Dropout2d(p=0.1, inplace=False)\n",
              "  )\n",
              "  (avg_pool): Sequential(\n",
              "    (0): AvgPool2d(kernel_size=5, stride=5, padding=0)\n",
              "  )\n",
              "  (conv4): Sequential(\n",
              "    (0): Conv2d(16, 10, kernel_size=(1, 1), stride=(1, 1))\n",
              "  )\n",
              ")"
            ]
          },
          "metadata": {},
          "execution_count": 112
        }
      ]
    },
    {
      "cell_type": "code",
      "source": [
        "# print the summary of the model\n",
        "summary(model8, input_size=(3, 32, 32), batch_size=-1)"
      ],
      "metadata": {
        "colab": {
          "base_uri": "https://localhost:8080/"
        },
        "id": "9ey90hukopCC",
        "outputId": "c80ab4b6-0006-403f-b81b-8fd32f2dce15"
      },
      "execution_count": 113,
      "outputs": [
        {
          "output_type": "stream",
          "name": "stdout",
          "text": [
            "----------------------------------------------------------------\n",
            "        Layer (type)               Output Shape         Param #\n",
            "================================================================\n",
            "            Conv2d-1           [-1, 16, 30, 30]             448\n",
            "              ReLU-2           [-1, 16, 30, 30]               0\n",
            "       BatchNorm2d-3           [-1, 16, 30, 30]              32\n",
            "         Dropout2d-4           [-1, 16, 30, 30]               0\n",
            "            Conv2d-5           [-1, 16, 28, 28]           2,320\n",
            "              ReLU-6           [-1, 16, 28, 28]               0\n",
            "       BatchNorm2d-7           [-1, 16, 28, 28]              32\n",
            "         Dropout2d-8           [-1, 16, 28, 28]               0\n",
            "            Conv2d-9           [-1, 32, 26, 26]           4,640\n",
            "             ReLU-10           [-1, 32, 26, 26]               0\n",
            "      BatchNorm2d-11           [-1, 32, 26, 26]              64\n",
            "        Dropout2d-12           [-1, 32, 26, 26]               0\n",
            "           Conv2d-13           [-1, 20, 26, 26]             660\n",
            "             ReLU-14           [-1, 20, 26, 26]               0\n",
            "      BatchNorm2d-15           [-1, 20, 26, 26]              40\n",
            "        MaxPool2d-16           [-1, 20, 13, 13]               0\n",
            "           Conv2d-17           [-1, 20, 13, 13]           3,620\n",
            "             ReLU-18           [-1, 20, 13, 13]               0\n",
            "      BatchNorm2d-19           [-1, 20, 13, 13]              40\n",
            "        Dropout2d-20           [-1, 20, 13, 13]               0\n",
            "           Conv2d-21           [-1, 16, 11, 11]           2,896\n",
            "             ReLU-22           [-1, 16, 11, 11]               0\n",
            "      BatchNorm2d-23           [-1, 16, 11, 11]              32\n",
            "        Dropout2d-24           [-1, 16, 11, 11]               0\n",
            "           Conv2d-25             [-1, 16, 9, 9]           2,320\n",
            "             ReLU-26             [-1, 16, 9, 9]               0\n",
            "      BatchNorm2d-27             [-1, 16, 9, 9]              32\n",
            "        Dropout2d-28             [-1, 16, 9, 9]               0\n",
            "           Conv2d-29             [-1, 16, 7, 7]           2,320\n",
            "             ReLU-30             [-1, 16, 7, 7]               0\n",
            "      BatchNorm2d-31             [-1, 16, 7, 7]              32\n",
            "        Dropout2d-32             [-1, 16, 7, 7]               0\n",
            "        AvgPool2d-33             [-1, 16, 1, 1]               0\n",
            "           Conv2d-34             [-1, 10, 1, 1]             170\n",
            "================================================================\n",
            "Total params: 19,698\n",
            "Trainable params: 19,698\n",
            "Non-trainable params: 0\n",
            "----------------------------------------------------------------\n",
            "Input size (MB): 0.01\n",
            "Forward/backward pass size (MB): 2.04\n",
            "Params size (MB): 0.08\n",
            "Estimated Total Size (MB): 2.13\n",
            "----------------------------------------------------------------\n"
          ]
        }
      ]
    },
    {
      "cell_type": "code",
      "source": [
        "history8 = [evaluate(model8, val_loader)]\n",
        "history8 += fit(epochs, lr, model8, train_loader, val_loader, opt)"
      ],
      "metadata": {
        "colab": {
          "base_uri": "https://localhost:8080/"
        },
        "id": "fcYtMQA_oqpz",
        "outputId": "50406ecd-b747-410d-eac4-0cf2c7d3b080"
      },
      "execution_count": 114,
      "outputs": [
        {
          "output_type": "stream",
          "name": "stdout",
          "text": [
            "Epoch [0] - LR [0.001], train_loss: 1.8196, val_loss: 1.5359, val_acc: 0.4412\n",
            "Epoch [1] - LR [0.001], train_loss: 1.5113, val_loss: 1.3291, val_acc: 0.5191\n",
            "Epoch [2] - LR [0.001], train_loss: 1.3859, val_loss: 1.2443, val_acc: 0.5533\n",
            "Epoch [3] - LR [0.001], train_loss: 1.3033, val_loss: 1.1479, val_acc: 0.5826\n",
            "Epoch [4] - LR [0.001], train_loss: 1.2628, val_loss: 1.1127, val_acc: 0.5939\n",
            "Epoch [5] - LR [0.001], train_loss: 1.2257, val_loss: 1.0828, val_acc: 0.6093\n",
            "Epoch [6] - LR [0.001], train_loss: 1.1978, val_loss: 1.0498, val_acc: 0.6189\n",
            "Epoch [7] - LR [0.001], train_loss: 1.1732, val_loss: 1.0276, val_acc: 0.6304\n",
            "Epoch [8] - LR [0.001], train_loss: 1.1519, val_loss: 1.0026, val_acc: 0.6408\n",
            "Epoch [9] - LR [0.001], train_loss: 1.1320, val_loss: 1.0254, val_acc: 0.6312\n",
            "Epoch [10] - LR [0.001], train_loss: 1.1161, val_loss: 0.9803, val_acc: 0.6495\n",
            "Epoch [11] - LR [0.001], train_loss: 1.1040, val_loss: 0.9867, val_acc: 0.6518\n",
            "Epoch [12] - LR [0.001], train_loss: 1.0845, val_loss: 0.9652, val_acc: 0.6545\n",
            "Epoch [13] - LR [0.001], train_loss: 1.0710, val_loss: 0.9666, val_acc: 0.6539\n",
            "Epoch [14] - LR [0.001], train_loss: 1.0690, val_loss: 0.9230, val_acc: 0.6664\n",
            "Epoch [15] - LR [0.001], train_loss: 1.0531, val_loss: 0.9184, val_acc: 0.6658\n",
            "Epoch [16] - LR [0.001], train_loss: 1.0506, val_loss: 0.9017, val_acc: 0.6771\n",
            "Epoch [17] - LR [0.001], train_loss: 1.0374, val_loss: 0.9000, val_acc: 0.6783\n",
            "Epoch [18] - LR [0.001], train_loss: 1.0358, val_loss: 0.9354, val_acc: 0.6621\n",
            "Epoch [19] - LR [0.001], train_loss: 1.0242, val_loss: 0.9151, val_acc: 0.6752\n",
            "Epoch [20] - LR [0.001], train_loss: 1.0219, val_loss: 0.9146, val_acc: 0.6780\n",
            "Epoch [21] - LR [0.001], train_loss: 1.0117, val_loss: 0.8917, val_acc: 0.6811\n",
            "Epoch [22] - LR [0.001], train_loss: 1.0110, val_loss: 0.8852, val_acc: 0.6853\n",
            "Epoch [23] - LR [0.001], train_loss: 1.0111, val_loss: 0.8707, val_acc: 0.6860\n",
            "Epoch [24] - LR [0.001], train_loss: 1.0013, val_loss: 0.8710, val_acc: 0.6904\n"
          ]
        }
      ]
    },
    {
      "cell_type": "code",
      "source": [
        "# plot losses\n",
        "plot_losses(history8)"
      ],
      "metadata": {
        "colab": {
          "base_uri": "https://localhost:8080/",
          "height": 295
        },
        "id": "zeR4VEPlo3w9",
        "outputId": "9c2456dc-1554-4807-8843-bd22be6b3a8f"
      },
      "execution_count": 115,
      "outputs": [
        {
          "output_type": "display_data",
          "data": {
            "text/plain": [
              "<Figure size 432x288 with 1 Axes>"
            ],
            "image/png": "[encoded data removed]"
          },
          "metadata": {
            "needs_background": "light"
          }
        }
      ]
    },
    {
      "cell_type": "code",
      "source": [
        "plot_scores(history8)"
      ],
      "metadata": {
        "colab": {
          "base_uri": "https://localhost:8080/",
          "height": 295
        },
        "id": "FDzqcAxro5LU",
        "outputId": "8cbb50ea-0d4d-4b38-d7de-afe153abae0f"
      },
      "execution_count": 116,
      "outputs": [
        {
          "output_type": "display_data",
          "data": {
            "text/plain": [
              "<Figure size 432x288 with 1 Axes>"
            ],
            "image/png": "[encoded data removed]"
          },
          "metadata": {
            "needs_background": "light"
          }
        }
      ]
    },
    {
      "cell_type": "code",
      "source": [
        "# loss and accuracy of last epochs\n",
        "print(history8[-1])"
      ],
      "metadata": {
        "colab": {
          "base_uri": "https://localhost:8080/"
        },
        "id": "Duuan7s4o6ni",
        "outputId": "73b02f22-e7d2-4e43-9af7-40b0d5236737"
      },
      "execution_count": 117,
      "outputs": [
        {
          "output_type": "stream",
          "name": "stdout",
          "text": [
            "{'val_loss': 0.8709522485733032, 'val_acc': 0.6904296875, 'train_loss': 1.0012873411178589}\n"
          ]
        }
      ]
    },
    {
      "cell_type": "code",
      "source": [
        "# Hyper parameters\n",
        "\n",
        "batch_size=128      # number of batch size\n",
        "val_size = 10000    # size of the validation set\n",
        "epochs = 25     # number of epochs\n",
        "lr = 0.001      # learning rate\n",
        "opt = torch.optim.Adam     # optimizer"
      ],
      "metadata": {
        "id": "Z2e-Tztis5FG"
      },
      "execution_count": 118,
      "outputs": []
    },
    {
      "cell_type": "code",
      "source": [
        "# This class inheritance from \"MnistModelBase\" class.\n",
        "# Layers of the CNN is defined here.\n",
        "\n",
        "class MnistModel3(MnistModelBase):\n",
        "\n",
        "    def __init__(self):\n",
        "        super().__init__()\n",
        "\n",
        "        self.conv1 = torch.nn.Sequential(\n",
        "            torch.nn.Conv2d(in_channels = 3, out_channels = 32, padding='same', kernel_size=3),\n",
        "            torch.nn.ReLU(),\n",
        "            torch.nn.BatchNorm2d(32),\n",
        "\n",
        "            torch.nn.Conv2d(32, 32, 3, padding='same'),\n",
        "            torch.nn.ReLU(),\n",
        "            torch.nn.BatchNorm2d(32),\n",
        "            torch.nn.MaxPool2d(2, 2),\n",
        "            torch.nn.Dropout2d(0.2),\n",
        "        )\n",
        "\n",
        "\n",
        "        self.conv2 = torch.nn.Sequential(\n",
        "            torch.nn.Conv2d(32, 64, padding='same', kernel_size=3),\n",
        "            torch.nn.ReLU(),\n",
        "            torch.nn.BatchNorm2d(64),\n",
        "\n",
        "            torch.nn.Conv2d(64, 64, 3, padding='same'),\n",
        "            torch.nn.ReLU(),\n",
        "            torch.nn.BatchNorm2d(64),\n",
        "            torch.nn.MaxPool2d(2, 2),\n",
        "            torch.nn.Dropout2d(0.3),\n",
        "        )\n",
        "\n",
        "\n",
        "        self.conv3 = torch.nn.Sequential(\n",
        "            torch.nn.Conv2d(64, 128, padding='same', kernel_size=3),\n",
        "            torch.nn.ReLU(),\n",
        "            torch.nn.BatchNorm2d(128),\n",
        "\n",
        "            torch.nn.Conv2d(128, 128, 3, padding='same'),\n",
        "            torch.nn.ReLU(),\n",
        "            torch.nn.BatchNorm2d(128),\n",
        "            torch.nn.MaxPool2d(2, 2),\n",
        "            torch.nn.Dropout2d(0.4),\n",
        "        )\n",
        "\n",
        "\n",
        "        self.fc = torch.nn.Sequential(\n",
        "            torch.nn.Linear(2048, 512),\n",
        "            torch.nn.Linear(512, 64),\n",
        "            torch.nn.Linear(64, 10),  # 10 classes\n",
        "        )\n",
        "\n",
        "        \n",
        "    def forward(self, xb):\n",
        "        x = self.conv1(xb)\n",
        "        x = self.conv2(x)\n",
        "        x = self.conv3(x)\n",
        "\n",
        "        x = x.view(x.shape[0], -1)\n",
        "        x = self.fc(x)\n",
        "\n",
        "        return x"
      ],
      "metadata": {
        "id": "RAuRHdcQs7KM"
      },
      "execution_count": 128,
      "outputs": []
    },
    {
      "cell_type": "code",
      "source": [
        "model9 = MnistModel3()\n",
        "to_device(model9, device)"
      ],
      "metadata": {
        "colab": {
          "base_uri": "https://localhost:8080/"
        },
        "id": "LiVUSXfvs_Om",
        "outputId": "b176d549-9013-4073-dff7-e9cbd91d5ecb"
      },
      "execution_count": 129,
      "outputs": [
        {
          "output_type": "execute_result",
          "data": {
            "text/plain": [
              "MnistModel3(\n",
              "  (conv1): Sequential(\n",
              "    (0): Conv2d(3, 32, kernel_size=(3, 3), stride=(1, 1), padding=same)\n",
              "    (1): ReLU()\n",
              "    (2): BatchNorm2d(32, eps=1e-05, momentum=0.1, affine=True, track_running_stats=True)\n",
              "    (3): Conv2d(32, 32, kernel_size=(3, 3), stride=(1, 1), padding=same)\n",
              "    (4): ReLU()\n",
              "    (5): BatchNorm2d(32, eps=1e-05, momentum=0.1, affine=True, track_running_stats=True)\n",
              "    (6): MaxPool2d(kernel_size=2, stride=2, padding=0, dilation=1, ceil_mode=False)\n",
              "    (7): Dropout2d(p=0.2, inplace=False)\n",
              "  )\n",
              "  (conv2): Sequential(\n",
              "    (0): Conv2d(32, 64, kernel_size=(3, 3), stride=(1, 1), padding=same)\n",
              "    (1): ReLU()\n",
              "    (2): BatchNorm2d(64, eps=1e-05, momentum=0.1, affine=True, track_running_stats=True)\n",
              "    (3): Conv2d(64, 64, kernel_size=(3, 3), stride=(1, 1), padding=same)\n",
              "    (4): ReLU()\n",
              "    (5): BatchNorm2d(64, eps=1e-05, momentum=0.1, affine=True, track_running_stats=True)\n",
              "    (6): MaxPool2d(kernel_size=2, stride=2, padding=0, dilation=1, ceil_mode=False)\n",
              "    (7): Dropout2d(p=0.3, inplace=False)\n",
              "  )\n",
              "  (conv3): Sequential(\n",
              "    (0): Conv2d(64, 128, kernel_size=(3, 3), stride=(1, 1), padding=same)\n",
              "    (1): ReLU()\n",
              "    (2): BatchNorm2d(128, eps=1e-05, momentum=0.1, affine=True, track_running_stats=True)\n",
              "    (3): Conv2d(128, 128, kernel_size=(3, 3), stride=(1, 1), padding=same)\n",
              "    (4): ReLU()\n",
              "    (5): BatchNorm2d(128, eps=1e-05, momentum=0.1, affine=True, track_running_stats=True)\n",
              "    (6): MaxPool2d(kernel_size=2, stride=2, padding=0, dilation=1, ceil_mode=False)\n",
              "    (7): Dropout2d(p=0.4, inplace=False)\n",
              "  )\n",
              "  (fc): Sequential(\n",
              "    (0): Linear(in_features=2048, out_features=512, bias=True)\n",
              "    (1): Linear(in_features=512, out_features=64, bias=True)\n",
              "    (2): Linear(in_features=64, out_features=10, bias=True)\n",
              "  )\n",
              ")"
            ]
          },
          "metadata": {},
          "execution_count": 129
        }
      ]
    },
    {
      "cell_type": "code",
      "source": [
        "# print the summary of the model\n",
        "summary(model9, input_size=(3, 32, 32), batch_size=-1)"
      ],
      "metadata": {
        "colab": {
          "base_uri": "https://localhost:8080/"
        },
        "id": "GmwkxRyQtILd",
        "outputId": "169493bf-23fe-436f-ec56-75b83b44db17"
      },
      "execution_count": 130,
      "outputs": [
        {
          "output_type": "stream",
          "name": "stdout",
          "text": [
            "----------------------------------------------------------------\n",
            "        Layer (type)               Output Shape         Param #\n",
            "================================================================\n",
            "            Conv2d-1           [-1, 32, 32, 32]             896\n",
            "              ReLU-2           [-1, 32, 32, 32]               0\n",
            "       BatchNorm2d-3           [-1, 32, 32, 32]              64\n",
            "            Conv2d-4           [-1, 32, 32, 32]           9,248\n",
            "              ReLU-5           [-1, 32, 32, 32]               0\n",
            "       BatchNorm2d-6           [-1, 32, 32, 32]              64\n",
            "         MaxPool2d-7           [-1, 32, 16, 16]               0\n",
            "         Dropout2d-8           [-1, 32, 16, 16]               0\n",
            "            Conv2d-9           [-1, 64, 16, 16]          18,496\n",
            "             ReLU-10           [-1, 64, 16, 16]               0\n",
            "      BatchNorm2d-11           [-1, 64, 16, 16]             128\n",
            "           Conv2d-12           [-1, 64, 16, 16]          36,928\n",
            "             ReLU-13           [-1, 64, 16, 16]               0\n",
            "      BatchNorm2d-14           [-1, 64, 16, 16]             128\n",
            "        MaxPool2d-15             [-1, 64, 8, 8]               0\n",
            "        Dropout2d-16             [-1, 64, 8, 8]               0\n",
            "           Conv2d-17            [-1, 128, 8, 8]          73,856\n",
            "             ReLU-18            [-1, 128, 8, 8]               0\n",
            "      BatchNorm2d-19            [-1, 128, 8, 8]             256\n",
            "           Conv2d-20            [-1, 128, 8, 8]         147,584\n",
            "             ReLU-21            [-1, 128, 8, 8]               0\n",
            "      BatchNorm2d-22            [-1, 128, 8, 8]             256\n",
            "        MaxPool2d-23            [-1, 128, 4, 4]               0\n",
            "        Dropout2d-24            [-1, 128, 4, 4]               0\n",
            "           Linear-25                  [-1, 512]       1,049,088\n",
            "           Linear-26                   [-1, 64]          32,832\n",
            "           Linear-27                   [-1, 10]             650\n",
            "================================================================\n",
            "Total params: 1,370,474\n",
            "Trainable params: 1,370,474\n",
            "Non-trainable params: 0\n",
            "----------------------------------------------------------------\n",
            "Input size (MB): 0.01\n",
            "Forward/backward pass size (MB): 2.85\n",
            "Params size (MB): 5.23\n",
            "Estimated Total Size (MB): 8.09\n",
            "----------------------------------------------------------------\n"
          ]
        }
      ]
    },
    {
      "cell_type": "code",
      "source": [
        "history9 = [evaluate(model9, val_loader)]\n",
        "history9 += fit(epochs, lr, model9, train_loader, val_loader, opt)"
      ],
      "metadata": {
        "colab": {
          "base_uri": "https://localhost:8080/"
        },
        "id": "Y99zf_N4tP1M",
        "outputId": "9878892a-6f0c-45af-9abf-7eed6a11c402"
      },
      "execution_count": 131,
      "outputs": [
        {
          "output_type": "stream",
          "name": "stdout",
          "text": [
            "Epoch [0] - LR [0.001], train_loss: 1.5701, val_loss: 1.1936, val_acc: 0.5705\n",
            "Epoch [1] - LR [0.001], train_loss: 1.1355, val_loss: 1.0168, val_acc: 0.6348\n",
            "Epoch [2] - LR [0.001], train_loss: 0.9431, val_loss: 0.8308, val_acc: 0.7094\n",
            "Epoch [3] - LR [0.001], train_loss: 0.8365, val_loss: 0.7838, val_acc: 0.7295\n",
            "Epoch [4] - LR [0.001], train_loss: 0.7558, val_loss: 0.7058, val_acc: 0.7512\n",
            "Epoch [5] - LR [0.001], train_loss: 0.7105, val_loss: 0.6627, val_acc: 0.7708\n",
            "Epoch [6] - LR [0.001], train_loss: 0.6581, val_loss: 0.6677, val_acc: 0.7683\n",
            "Epoch [7] - LR [0.001], train_loss: 0.6211, val_loss: 0.6206, val_acc: 0.7860\n",
            "Epoch [8] - LR [0.001], train_loss: 0.5888, val_loss: 0.6039, val_acc: 0.7979\n",
            "Epoch [9] - LR [0.001], train_loss: 0.5521, val_loss: 0.6553, val_acc: 0.7792\n",
            "Epoch [10] - LR [0.001], train_loss: 0.5287, val_loss: 0.5980, val_acc: 0.8053\n",
            "Epoch [11] - LR [0.001], train_loss: 0.5129, val_loss: 0.5717, val_acc: 0.8100\n",
            "Epoch [12] - LR [0.001], train_loss: 0.4867, val_loss: 0.6217, val_acc: 0.7980\n",
            "Epoch [13] - LR [0.001], train_loss: 0.4622, val_loss: 0.5651, val_acc: 0.8126\n",
            "Epoch [14] - LR [0.001], train_loss: 0.4510, val_loss: 0.5698, val_acc: 0.8093\n",
            "Epoch [15] - LR [0.001], train_loss: 0.4364, val_loss: 0.5549, val_acc: 0.8176\n",
            "Epoch [16] - LR [0.001], train_loss: 0.4178, val_loss: 0.5790, val_acc: 0.8144\n",
            "Epoch [17] - LR [0.001], train_loss: 0.4026, val_loss: 0.5715, val_acc: 0.8172\n",
            "Epoch [18] - LR [0.001], train_loss: 0.3928, val_loss: 0.5581, val_acc: 0.8196\n",
            "Epoch [19] - LR [0.001], train_loss: 0.3859, val_loss: 0.5566, val_acc: 0.8195\n",
            "Epoch [20] - LR [0.001], train_loss: 0.3675, val_loss: 0.5725, val_acc: 0.8220\n",
            "Epoch [21] - LR [0.001], train_loss: 0.3577, val_loss: 0.5572, val_acc: 0.8228\n",
            "Epoch [22] - LR [0.001], train_loss: 0.3540, val_loss: 0.5629, val_acc: 0.8229\n",
            "Epoch [23] - LR [0.001], train_loss: 0.3377, val_loss: 0.5819, val_acc: 0.8207\n",
            "Epoch [24] - LR [0.001], train_loss: 0.3344, val_loss: 0.5931, val_acc: 0.8182\n"
          ]
        }
      ]
    },
    {
      "cell_type": "code",
      "source": [
        "# plot losses\n",
        "plot_losses(history9)"
      ],
      "metadata": {
        "colab": {
          "base_uri": "https://localhost:8080/",
          "height": 295
        },
        "id": "OJS7VYqrtUL0",
        "outputId": "44a1b4d5-91ff-4a30-ee7f-adfbf87e4dc4"
      },
      "execution_count": 132,
      "outputs": [
        {
          "output_type": "display_data",
          "data": {
            "text/plain": [
              "<Figure size 432x288 with 1 Axes>"
            ],
            "image/png": "[encoded data removed]"
          },
          "metadata": {
            "needs_background": "light"
          }
        }
      ]
    },
    {
      "cell_type": "code",
      "source": [
        "plot_scores(history9)"
      ],
      "metadata": {
        "colab": {
          "base_uri": "https://localhost:8080/",
          "height": 295
        },
        "id": "WSA3mJt2tVJD",
        "outputId": "b665bdb7-ce22-476e-87e1-adc94c655975"
      },
      "execution_count": 133,
      "outputs": [
        {
          "output_type": "display_data",
          "data": {
            "text/plain": [
              "<Figure size 432x288 with 1 Axes>"
            ],
            "image/png": "[encoded data removed]"
          },
          "metadata": {
            "needs_background": "light"
          }
        }
      ]
    },
    {
      "cell_type": "code",
      "source": [
        "# loss and accuracy of last epochs\n",
        "print(history9[-1])"
      ],
      "metadata": {
        "colab": {
          "base_uri": "https://localhost:8080/"
        },
        "id": "XyYTB2pztVLq",
        "outputId": "f5c1e06d-b56b-4a4e-922f-4ed7ada2c06d"
      },
      "execution_count": 134,
      "outputs": [
        {
          "output_type": "stream",
          "name": "stdout",
          "text": [
            "{'val_loss': 0.5931171178817749, 'val_acc': 0.818164050579071, 'train_loss': 0.33438849449157715}\n"
          ]
        }
      ]
    },
    {
      "cell_type": "markdown",
      "source": [
        "**3. Try different hyperparameters to obtain the best accuracy on the test set. What is your best performance and what were the hyperparameters?**\n",
        "\n",
        "I have trained LeNet model with different learning rate, batch size, optimizer. \n",
        "I got the best performance for the batch size:$128$, learning rate:$0.001$, optimizer:Adam with the accuracy around $0.669$.\n",
        "I have also trained model with different kernel size, number of kernels and with adding batch normalization layers and drop out layers. The model with new architecture give the accuracy around $0.818$."
      ],
      "metadata": {
        "id": "fd-IU4cGxaj9"
      }
    },
    {
      "cell_type": "code",
      "source": [
        "# Hyper parameters\n",
        "\n",
        "batch_size=128      # number of batch size\n",
        "val_size = 10000    # size of the validation set\n",
        "epochs = 25     # number of epochs\n",
        "lr = 0.001      # learning rate\n",
        "opt = torch.optim.Adam     # optimizer"
      ],
      "metadata": {
        "id": "MHs0iAkp25xw"
      },
      "execution_count": 213,
      "outputs": []
    },
    {
      "cell_type": "code",
      "source": [
        "# This class inheritance from \"MnistModelBase\" class.\n",
        "# Layers of the CNN is defined here.\n",
        "\n",
        "class CifarModelMLP(MnistModelBase):\n",
        "    def __init__(self):\n",
        "        super().__init__()\n",
        "\n",
        "        self.relu = torch.nn.ReLU()\n",
        "\n",
        "        self.fc1 = torch.nn.Linear(3072, 6)\n",
        "        self.fc2 = torch.nn.Linear(6, 16)\n",
        "        self.fc3 = torch.nn.Linear(16, 120)\n",
        "        self.fc4 = torch.nn.Linear(120, 84)\n",
        "        self.fc5 = torch.nn.Linear(84, 10)\n",
        "\n",
        "    def forward(self, xb):\n",
        "\n",
        "        # MLP\n",
        "        x = xb.view(xb.shape[0], -1)\n",
        "\n",
        "        x = self.relu(self.fc1(x))\n",
        "        x = self.relu(self.fc2(x))\n",
        "        x = self.relu(self.fc3(x))\n",
        "        x = self.relu(self.fc4(x))\n",
        "        x = self.fc5(x)\n",
        "\n",
        "        return x"
      ],
      "metadata": {
        "id": "lxizBN7T3GpO"
      },
      "execution_count": 214,
      "outputs": []
    },
    {
      "cell_type": "code",
      "source": [
        "# create three tensors for trainin, validation, and test sets\n",
        "\n",
        "train_loader5 = DataLoader(train_ds, batch_size, shuffle=True, num_workers=0, pin_memory=True)\n",
        "val_loader5 = DataLoader(val_ds, batch_size*2, num_workers=0, pin_memory=True)\n",
        "test_loader5 = DataLoader(test_dataset, batch_size*2, num_workers=0, pin_memory=True)\n",
        "\n",
        "device5 = get_default_device()\n",
        "\n",
        "train_loader5 = DeviceDataLoader(train_loader5, device5)\n",
        "val_loader5 = DeviceDataLoader(val_loader5, device5)\n",
        "test_loader5 = DeviceDataLoader(test_loader5, device5)"
      ],
      "metadata": {
        "id": "jVoC10M9HIUL"
      },
      "execution_count": 215,
      "outputs": []
    },
    {
      "cell_type": "code",
      "source": [
        "model10 = CifarModelMLP()\n",
        "to_device(model10, device5)"
      ],
      "metadata": {
        "colab": {
          "base_uri": "https://localhost:8080/"
        },
        "id": "pQnApneo3I2f",
        "outputId": "6b543cf1-16cf-4c46-ca03-e62d6e5fc20d"
      },
      "execution_count": 216,
      "outputs": [
        {
          "output_type": "execute_result",
          "data": {
            "text/plain": [
              "CifarModelMLP(\n",
              "  (relu): ReLU()\n",
              "  (fc1): Linear(in_features=3072, out_features=6, bias=True)\n",
              "  (fc2): Linear(in_features=6, out_features=16, bias=True)\n",
              "  (fc3): Linear(in_features=16, out_features=120, bias=True)\n",
              "  (fc4): Linear(in_features=120, out_features=84, bias=True)\n",
              "  (fc5): Linear(in_features=84, out_features=10, bias=True)\n",
              ")"
            ]
          },
          "metadata": {},
          "execution_count": 216
        }
      ]
    },
    {
      "cell_type": "code",
      "source": [
        "# print the summary of the model\n",
        "summary(model10, input_size=(3, 32, 32), batch_size=-1)"
      ],
      "metadata": {
        "colab": {
          "base_uri": "https://localhost:8080/"
        },
        "id": "Q2gnqOMV3MSf",
        "outputId": "f400d7de-af3e-4151-f37e-4de6aa45fe82"
      },
      "execution_count": 217,
      "outputs": [
        {
          "output_type": "stream",
          "name": "stdout",
          "text": [
            "----------------------------------------------------------------\n",
            "        Layer (type)               Output Shape         Param #\n",
            "================================================================\n",
            "            Linear-1                    [-1, 6]          18,438\n",
            "              ReLU-2                    [-1, 6]               0\n",
            "            Linear-3                   [-1, 16]             112\n",
            "              ReLU-4                   [-1, 16]               0\n",
            "            Linear-5                  [-1, 120]           2,040\n",
            "              ReLU-6                  [-1, 120]               0\n",
            "            Linear-7                   [-1, 84]          10,164\n",
            "              ReLU-8                   [-1, 84]               0\n",
            "            Linear-9                   [-1, 10]             850\n",
            "================================================================\n",
            "Total params: 31,604\n",
            "Trainable params: 31,604\n",
            "Non-trainable params: 0\n",
            "----------------------------------------------------------------\n",
            "Input size (MB): 0.01\n",
            "Forward/backward pass size (MB): 0.00\n",
            "Params size (MB): 0.12\n",
            "Estimated Total Size (MB): 0.14\n",
            "----------------------------------------------------------------\n"
          ]
        }
      ]
    },
    {
      "cell_type": "code",
      "source": [
        "history10 = [evaluate(model10, val_loader5)]\n",
        "history10 += fit(epochs, lr, model10, train_loader5, val_loader5, opt)"
      ],
      "metadata": {
        "colab": {
          "base_uri": "https://localhost:8080/"
        },
        "id": "pKq5waLQ3Oiv",
        "outputId": "bfbee126-ccee-42cd-e4fd-8b9ed97e7390"
      },
      "execution_count": 218,
      "outputs": [
        {
          "output_type": "stream",
          "name": "stdout",
          "text": [
            "Epoch [0] - LR [0.001], train_loss: 2.1240, val_loss: 2.0869, val_acc: 0.1794\n",
            "Epoch [1] - LR [0.001], train_loss: 2.0720, val_loss: 2.0639, val_acc: 0.1854\n",
            "Epoch [2] - LR [0.001], train_loss: 2.0627, val_loss: 2.0581, val_acc: 0.1870\n",
            "Epoch [3] - LR [0.001], train_loss: 2.0606, val_loss: 2.0653, val_acc: 0.1879\n",
            "Epoch [4] - LR [0.001], train_loss: 2.0542, val_loss: 2.0511, val_acc: 0.1878\n",
            "Epoch [5] - LR [0.001], train_loss: 2.0549, val_loss: 2.0599, val_acc: 0.1899\n",
            "Epoch [6] - LR [0.001], train_loss: 2.0541, val_loss: 2.0690, val_acc: 0.1875\n",
            "Epoch [7] - LR [0.001], train_loss: 2.0487, val_loss: 2.0507, val_acc: 0.1896\n",
            "Epoch [8] - LR [0.001], train_loss: 2.0477, val_loss: 2.0651, val_acc: 0.1877\n",
            "Epoch [9] - LR [0.001], train_loss: 2.0537, val_loss: 2.0448, val_acc: 0.1892\n",
            "Epoch [10] - LR [0.001], train_loss: 2.0525, val_loss: 2.0498, val_acc: 0.1884\n",
            "Epoch [11] - LR [0.001], train_loss: 2.0466, val_loss: 2.0625, val_acc: 0.1866\n",
            "Epoch [12] - LR [0.001], train_loss: 2.0463, val_loss: 2.0438, val_acc: 0.1884\n",
            "Epoch [13] - LR [0.001], train_loss: 2.0458, val_loss: 2.0461, val_acc: 0.1876\n",
            "Epoch [14] - LR [0.001], train_loss: 2.0462, val_loss: 2.0423, val_acc: 0.1900\n",
            "Epoch [15] - LR [0.001], train_loss: 2.0428, val_loss: 2.0557, val_acc: 0.1825\n",
            "Epoch [16] - LR [0.001], train_loss: 2.0430, val_loss: 2.0430, val_acc: 0.1862\n",
            "Epoch [17] - LR [0.001], train_loss: 2.0409, val_loss: 2.0504, val_acc: 0.1884\n",
            "Epoch [18] - LR [0.001], train_loss: 2.0509, val_loss: 2.0683, val_acc: 0.1836\n",
            "Epoch [19] - LR [0.001], train_loss: 2.0506, val_loss: 2.0431, val_acc: 0.1880\n",
            "Epoch [20] - LR [0.001], train_loss: 2.0426, val_loss: 2.0416, val_acc: 0.1884\n",
            "Epoch [21] - LR [0.001], train_loss: 2.0427, val_loss: 2.0441, val_acc: 0.1917\n",
            "Epoch [22] - LR [0.001], train_loss: 2.0407, val_loss: 2.0387, val_acc: 0.1906\n",
            "Epoch [23] - LR [0.001], train_loss: 2.0493, val_loss: 2.0416, val_acc: 0.1896\n",
            "Epoch [24] - LR [0.001], train_loss: 2.0432, val_loss: 2.0398, val_acc: 0.1858\n"
          ]
        }
      ]
    },
    {
      "cell_type": "code",
      "source": [
        "# plot losses\n",
        "plot_losses(history10)"
      ],
      "metadata": {
        "colab": {
          "base_uri": "https://localhost:8080/",
          "height": 295
        },
        "id": "j4wDIdbb3Wou",
        "outputId": "1cb711f2-ad08-4812-9c37-1d0104cb8724"
      },
      "execution_count": 219,
      "outputs": [
        {
          "output_type": "display_data",
          "data": {
            "text/plain": [
              "<Figure size 432x288 with 1 Axes>"
            ],
            "image/png": "[encoded data removed]"
          },
          "metadata": {
            "needs_background": "light"
          }
        }
      ]
    },
    {
      "cell_type": "code",
      "source": [
        "plot_scores(history10)"
      ],
      "metadata": {
        "colab": {
          "base_uri": "https://localhost:8080/",
          "height": 295
        },
        "id": "9aE4igdU3YEn",
        "outputId": "e5672877-b393-4af5-aa83-63c92aff464e"
      },
      "execution_count": 220,
      "outputs": [
        {
          "output_type": "display_data",
          "data": {
            "text/plain": [
              "<Figure size 432x288 with 1 Axes>"
            ],
            "image/png": "[encoded data removed]"
          },
          "metadata": {
            "needs_background": "light"
          }
        }
      ]
    },
    {
      "cell_type": "code",
      "source": [
        "# loss and accuracy of last epochs\n",
        "print(history10[-1])"
      ],
      "metadata": {
        "colab": {
          "base_uri": "https://localhost:8080/"
        },
        "id": "o0Rl4WSg3Zgd",
        "outputId": "5acb89f6-5f1d-4ceb-b81b-b121a860a9c4"
      },
      "execution_count": 221,
      "outputs": [
        {
          "output_type": "stream",
          "name": "stdout",
          "text": [
            "{'val_loss': 2.0397541522979736, 'val_acc': 0.18583984673023224, 'train_loss': 2.043203830718994}\n"
          ]
        }
      ]
    },
    {
      "cell_type": "markdown",
      "source": [
        "**4. Implement an equivalent feed forward network for the same task with each hidden layer containing the same number of neurons as the number of filters in each convolution layer.\n",
        "Use the ‘Adam’ optimizer to train your network on the CIFAR-10 dataset for a fixed set of 25 epochs. Compare its performance with your LeNet implementation based on the following questions:**\n",
        "\n",
        "**a. What is its performance?**\n",
        "\n",
        "The accuracy of the multilayer perceptron is around $0.1858$ but the accuracy of the LeNet is around $0.6691$.\n",
        "\n",
        "**b. How many parameters are there in this network compared to the LeNet\n",
        "implementation? Are they worth it?**\n",
        "\n",
        "Trainable params in MLP network: $31,604$\n",
        "\n",
        "Trainable params in LeNet network: $1,035,450$\n",
        "\n",
        "The number of parameters of the MLP network are much less than LeNet but its accuracy is also much less than LeNet. So, it is not worth it."
      ],
      "metadata": {
        "id": "JiMNIHCV2jQA"
      }
    }
  ]
}