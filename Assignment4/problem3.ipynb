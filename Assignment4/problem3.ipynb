{
  "nbformat": 4,
  "nbformat_minor": 0,
  "metadata": {
    "colab": {
      "provenance": [],
      "authorship_tag": "ABX9TyP8V5dMQ+Y4d8CGsAVK/PGa",
      "include_colab_link": true
    },
    "kernelspec": {
      "name": "python3",
      "display_name": "Python 3"
    },
    "language_info": {
      "name": "python"
    }
  },
  "cells": [
    {
      "cell_type": "markdown",
      "metadata": {
        "id": "view-in-github",
        "colab_type": "text"
      },
      "source": [
        "<a href=\"https://colab.research.google.com/github/Saeed-Akbari/CS5783-MachineLearning/blob/main/Assignment4/problem3.ipynb\" target=\"_parent\"><img src=\"https://colab.research.google.com/assets/colab-badge.svg\" alt=\"Open In Colab\"/></a>"
      ]
    },
    {
      "cell_type": "code",
      "execution_count": 1,
      "metadata": {
        "id": "cXfbxZECnFjg"
      },
      "outputs": [],
      "source": [
        "import numpy as np\n",
        "import pandas as pd\n",
        "from scipy.stats import mode\n",
        "import matplotlib.pyplot as plt"
      ]
    },
    {
      "cell_type": "code",
      "source": [
        "from google.colab import drive\n",
        "drive.mount('/content/drive')"
      ],
      "metadata": {
        "colab": {
          "base_uri": "https://localhost:8080/"
        },
        "id": "QQ0YPVz7nI2W",
        "outputId": "22d5465d-6e19-4fa6-bc26-f2c8d5dbadd0"
      },
      "execution_count": 2,
      "outputs": [
        {
          "output_type": "stream",
          "name": "stdout",
          "text": [
            "Mounted at /content/drive\n"
          ]
        }
      ]
    },
    {
      "cell_type": "code",
      "source": [
        "# load data\n",
        "\n",
        "# Change the paths to where you have saved the input files.\n",
        "path=\"/content/drive/MyDrive/machineLearning/Assignment4/\"\n",
        "#path=\"/content/drive/MyDrive/\"\n",
        "\n",
        "dfTrain = pd.read_excel(path+\"Asssignment4_Data.xlsx\", sheet_name= \"Train\")\n",
        "dfTest  = pd.read_excel(path+\"Asssignment4_Data.xlsx\", sheet_name= \"Test\" )"
      ],
      "metadata": {
        "id": "E5ec8pAtnI8G"
      },
      "execution_count": 3,
      "outputs": []
    },
    {
      "cell_type": "code",
      "source": [
        "# Make four numpy arrays for features and labels of the training and test sets.\n",
        "\n",
        "xtrain = dfTrain.drop([\"House ID\", \"Construction type\"], axis=1).to_numpy()\n",
        "xtest = dfTest.drop([\"House ID\", \"Construction type\"], axis=1).to_numpy()\n",
        "\n",
        "labelsTrain = dfTrain.iloc[: , -1].to_numpy()\n",
        "labelsTest = dfTest.iloc[: , -1].to_numpy()\n",
        "\n",
        "b, ytrain = np.unique(labelsTrain, return_inverse=True)\n",
        "ytest = np.zeros_like(labelsTest)\n",
        "for i in range (len(b)):\n",
        "  ytest[labelsTest==b[i]]= i"
      ],
      "metadata": {
        "id": "oOlP5e2cnNtH"
      },
      "execution_count": 4,
      "outputs": []
    },
    {
      "cell_type": "code",
      "source": [
        "# take mean and standard deviation of features of the training set for standardization\n",
        "meanX = np.mean(xtrain, axis=0)\n",
        "stdX = np.std(xtrain, axis=0)\n",
        "# standardize features of the trainig set\n",
        "xtrainSt = (xtrain - meanX) / stdX\n",
        "\n",
        "# standardize features of the test set\n",
        "xtestSt = (xtest - meanX) / stdX"
      ],
      "metadata": {
        "id": "qt18GbT_nOHW"
      },
      "execution_count": 5,
      "outputs": []
    },
    {
      "cell_type": "code",
      "source": [
        "def acc(y_pred, y_test):\n",
        "\n",
        "  accuracy = sum(y_pred == y_test) / len(y_test)\n",
        "  return accuracy"
      ],
      "metadata": {
        "id": "w_pFscpIoY0O"
      },
      "execution_count": 6,
      "outputs": []
    },
    {
      "cell_type": "code",
      "source": [
        "class KNNclassifier:\n",
        "\n",
        "    def __init__(self, k, X_train, y_train):\n",
        "        self.k = k\n",
        "        self.X_train = X_train\n",
        "        self.y_train = y_train\n",
        "\n",
        "    def predict(self, X_test):\n",
        "\n",
        "        m = self.X_train.shape[0]\n",
        "        n = X_test.shape[0]\n",
        "        y_pred = []\n",
        "\n",
        "        # Calculating distances  \n",
        "        for i in range(n):  # for every sample in X_test\n",
        "            distance = []  # To store the distances\n",
        "            for j in range(m):  # for every sample in X_train\n",
        "                d = (np.sqrt(np.sum(np.square(X_test[i,:] - self.X_train[j,:]))))  # Euclidean distance\n",
        "                distance.append((d, self.y_train[j]))    \n",
        "            distance = sorted(distance) # sorting distances in ascending order\n",
        "\n",
        "            # Getting k nearest neighbors\n",
        "            neighbors = []\n",
        "            for item in range(self.k):\n",
        "                neighbors.append(distance[item][1])  # appending K nearest neighbors\n",
        "\n",
        "            # Making predictions\n",
        "            y_pred.append(mode(neighbors)[0][0])  # For Classification\n",
        "        return y_pred"
      ],
      "metadata": {
        "id": "ZYOsURsCoHIu"
      },
      "execution_count": 7,
      "outputs": []
    },
    {
      "cell_type": "code",
      "source": [
        "# Calculating accuracy\n",
        "predictionsTest = []\n",
        "predictionsTrain = []\n",
        "accuraciesTest = []\n",
        "accuraciesTrain = []\n",
        "ks = range(1, 10)\n",
        "\n",
        "for k in ks:\n",
        "\n",
        "    bknn = KNNclassifier(k, xtrainSt, ytrain)\n",
        "    # predicting\n",
        "    y_pred_train = bknn.predict(xtrainSt)\n",
        "    y_pred_test = bknn.predict(xtestSt)\n",
        "\n",
        "    accuracyTrain = acc(y_pred_train, ytrain)\n",
        "    accuracyTest = acc(y_pred_test, ytest)\n",
        "\n",
        "    accuraciesTrain.append(accuracyTrain)\n",
        "    accuraciesTest.append(accuracyTest)\n",
        "\n",
        "    predictionsTrain.append(b[y_pred_train])\n",
        "    predictionsTest.append(b[y_pred_test])"
      ],
      "metadata": {
        "id": "e9gaxP4mrTRd"
      },
      "execution_count": 8,
      "outputs": []
    },
    {
      "cell_type": "code",
      "source": [
        "# Plotting accuracy curve\n",
        "plt.figure(figsize=(10, 5))\n",
        "plt.plot(ks, accuraciesTrain, color='b', label=\"Train\")\n",
        "plt.plot(ks, accuraciesTest, color='r', label=\"Test\")\n",
        "plt.xlabel('Number of nearest neighbors (k)', fontsize=14)\n",
        "plt.ylabel('Accuracy', fontsize=14)\n",
        "plt.title('Accuracy of the model based on the number of nearest neighbors', fontsize=18, pad=15)\n",
        "plt.legend()\n",
        "plt.show()"
      ],
      "metadata": {
        "colab": {
          "base_uri": "https://localhost:8080/",
          "height": 367
        },
        "id": "2R7TIRnVuyeG",
        "outputId": "d0dd7919-24df-4489-d6c2-a26edf442b21"
      },
      "execution_count": 9,
      "outputs": [
        {
          "output_type": "display_data",
          "data": {
            "text/plain": [
              "<Figure size 720x360 with 1 Axes>"
            ],
            "image/png": "[encoded data removed]"
          },
          "metadata": {
            "needs_background": "light"
          }
        }
      ]
    },
    {
      "cell_type": "code",
      "source": [
        "print(\"labels of the test set\", b[ytest.astype('int32')])\n",
        "print(\"The prediction with k=6\", predictionsTest[5])\n",
        "print(\"The prediction with k=4\", predictionsTest[3])"
      ],
      "metadata": {
        "colab": {
          "base_uri": "https://localhost:8080/"
        },
        "id": "_n5VFvmGwvCE",
        "outputId": "01443cb0-a1c7-4ca8-89bd-e41247c61351"
      },
      "execution_count": 10,
      "outputs": [
        {
          "output_type": "stream",
          "name": "stdout",
          "text": [
            "labels of the test set ['Apartment' 'House' 'House' 'Apartment' 'Apartment']\n",
            "The prediction with k=6 ['Apartment' 'House' 'House' 'Apartment' 'House']\n",
            "The prediction with k=4 ['Apartment' 'Apartment' 'House' 'Apartment' 'House']\n"
          ]
        }
      ]
    },
    {
      "cell_type": "markdown",
      "source": [
        "Increasing k from 1 to 5 increase the bias. Increasing k from 1 to 2 decrease the variance. The variance is constant for k from 2 to 4. Then, it starts decreasing as k increases to 5. To choose the best k, one must begin with low values for k and gradually increases k to get the best balance of bias and variance."
      ],
      "metadata": {
        "id": "XF4lpwBkqKZq"
      }
    }
  ]
}