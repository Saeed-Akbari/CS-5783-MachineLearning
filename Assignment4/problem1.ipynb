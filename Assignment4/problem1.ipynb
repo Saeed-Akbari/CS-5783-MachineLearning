{
  "nbformat": 4,
  "nbformat_minor": 0,
  "metadata": {
    "colab": {
      "provenance": [],
      "authorship_tag": "ABX9TyNqfGgPBUrag+goUImlk/HU",
      "include_colab_link": true
    },
    "kernelspec": {
      "name": "python3",
      "display_name": "Python 3"
    },
    "language_info": {
      "name": "python"
    }
  },
  "cells": [
    {
      "cell_type": "markdown",
      "metadata": {
        "id": "view-in-github",
        "colab_type": "text"
      },
      "source": [
        "<a href=\"https://colab.research.google.com/github/Saeed-Akbari/CS5783-MachineLearning/blob/main/Assignment4/problem1.ipynb\" target=\"_parent\"><img src=\"https://colab.research.google.com/assets/colab-badge.svg\" alt=\"Open In Colab\"/></a>"
      ]
    },
    {
      "cell_type": "markdown",
      "source": [
        "I will show the details of calculation some probabilities. All the probabilities calculations done in Excel is uploaded to my Github page. Finally, I calculate the probabilities using python too."
      ],
      "metadata": {
        "id": "GdKlfKIGX0T4"
      }
    },
    {
      "cell_type": "markdown",
      "source": [
        "**1. Compute and show the conditional probability distribution for each feature. Explain how you got these values and show your work.**\n",
        "Note: You are expected to do this part of the question by hand. Explain how you got the probability distribution for at least two features in detail."
      ],
      "metadata": {
        "id": "bfK2MUhdoP0b"
      }
    },
    {
      "cell_type": "markdown",
      "source": [
        "Maximum A Posterior: $P(C|\\pmb{X})\\propto P(\\pmb{X}|C) * P(C)$\n",
        "\n",
        "Naive Bayes rule: $P(X_1,X_2,...,X_n|C)=P(X_1|C)P(X_2|C)...P(X_n|C)$"
      ],
      "metadata": {
        "id": "BIhrClkFYHwn"
      }
    },
    {
      "cell_type": "markdown",
      "source": [
        "I want to show how to calculate the probability of Apartments given features. I approximate it by removing the probability of features and assuming the probabilities are independent.\n",
        "\n",
        "$P(\\textrm{Apartment}|\\pmb{X})\\propto P(\\pmb{X}|\\textrm{Apartment}) * P(\\textrm{Apartment})$\n",
        "\n",
        "$P(\\pmb{X}|\\textrm{Apartment})=P(\\textrm{Local Price}|\\textrm{Apartment})P(\\textrm{Bathrooms}|\\textrm{Apartment})...P(\\textrm{Age of home}|\\textrm{Apartment})$"
      ],
      "metadata": {
        "id": "33qTP1bGaSHX"
      }
    },
    {
      "cell_type": "markdown",
      "source": [
        "Calculations of the number of features given apartments.\n",
        "\n",
        "$\\textrm{n}(\\textrm{Local Price}|\\textrm{Apartment})=4.9176+4.5573+5.0597+14.4598+5.05+8.2464+9.0384=51.3292$\n",
        "\n",
        "$\\textrm{n}(\\textrm{Bathrooms}|\\textrm{Apartment})=1+1+1+2.5+1+1.5+1=9$\n",
        "\n",
        "$\\textrm{n}(\\textrm{Land Area}|\\textrm{Apartment})=42.727$\n",
        "\n",
        "$\\textrm{n}(\\textrm{Living area}|\\textrm{Apartment})=10.535$\n",
        "\n",
        "$\\textrm{n}(\\textrm{# Garages}|\\textrm{Apartment})=8.5$\n",
        "\n",
        "$\\textrm{n}(\\textrm{# Rooms}|\\textrm{Apartment})=48$\n",
        "\n",
        "$\\textrm{n}(\\textrm{# Bedrooms}|\\textrm{Apartment})=24$\n",
        "\n",
        "$\\textrm{n}(\\textrm{Age of home}|\\textrm{Apartment})=271$\n",
        "\n",
        "$\\textrm{n}(\\textrm{Apartment})=51.3292+9+42.727+10.535+8.5+48+24+271=465.0912$"
      ],
      "metadata": {
        "id": "SIeoqQx5ef4o"
      }
    },
    {
      "cell_type": "markdown",
      "source": [
        "Calculations of the probabilities of each feature given apartments.\n",
        "\n",
        "$P(\\textrm{Local Price}|\\textrm{Apartment})=\\frac{51.3292}{465.0912}=0.110364$\n",
        "\n",
        "$P(\\textrm{Bathrooms}|\\textrm{Apartment})=\\frac{9}{465.0912}=0.019351$\n",
        "\n",
        "$P(\\textrm{Land Area}|\\textrm{Apartment})=\\frac{42.727}{465.0912}=0.091868$\n",
        "\n",
        "$P(\\textrm{Living area}|\\textrm{Apartment})=\\frac{10.535}{465.0912}=0.022651$\n",
        "\n",
        "$P(\\textrm{# Garages}|\\textrm{Apartment})=\\frac{8.5}{465.0912}=0.018276$\n",
        "\n",
        "$P(\\textrm{# Rooms}|\\textrm{Apartment})=\\frac{48}{465.0912}=0.103206$\n",
        "\n",
        "$P(\\textrm{# Bedrooms}|\\textrm{Apartment})=\\frac{24}{465.0912}=0.051603$\n",
        "\n",
        "$P(\\textrm{Age of home}|\\textrm{Apartment})=\\frac{271}{465.0912}=0.582681$"
      ],
      "metadata": {
        "id": "Pxr2pRxigbHT"
      }
    },
    {
      "cell_type": "code",
      "execution_count": 1,
      "metadata": {
        "id": "T_3TZVQ11YDr"
      },
      "outputs": [],
      "source": [
        "import numpy as np\n",
        "import pandas as pd\n",
        "import matplotlib.pyplot as plt\n",
        "import seaborn as sns"
      ]
    },
    {
      "cell_type": "code",
      "source": [
        "from google.colab import drive\n",
        "drive.mount('/content/drive')"
      ],
      "metadata": {
        "colab": {
          "base_uri": "https://localhost:8080/"
        },
        "id": "CwTQaXE_1b1u",
        "outputId": "4494294a-799c-43d5-9f13-1f05c6261161"
      },
      "execution_count": 2,
      "outputs": [
        {
          "output_type": "stream",
          "name": "stdout",
          "text": [
            "Mounted at /content/drive\n"
          ]
        }
      ]
    },
    {
      "cell_type": "code",
      "source": [
        "# load data\n",
        "\n",
        "# Change the paths to where you have saved the input files.\n",
        "path=\"/content/drive/MyDrive/machineLearning/Assignment4/\"\n",
        "#path=\"/content/drive/MyDrive/\"\n",
        "\n",
        "dfTrain = pd.read_excel(path+\"Asssignment4_Data.xlsx\", sheet_name= \"Train\")\n",
        "dfTest  = pd.read_excel(path+\"Asssignment4_Data.xlsx\", sheet_name= \"Test\" )"
      ],
      "metadata": {
        "id": "fJi19VZl1dqO"
      },
      "execution_count": 3,
      "outputs": []
    },
    {
      "cell_type": "code",
      "source": [
        "daTrainApt = dfTrain[dfTrain['Construction type']=='Apartment']\n",
        "daTrainCon = dfTrain[dfTrain['Construction type']=='Condo']\n",
        "daTrainHou = dfTrain[dfTrain['Construction type']=='House']"
      ],
      "metadata": {
        "id": "SoQ_9Iyd1j1W"
      },
      "execution_count": 4,
      "outputs": []
    },
    {
      "cell_type": "code",
      "source": [
        "daTrainAptTa = pd.DataFrame(daTrainApt.iloc[:,1:9].sum())\n",
        "daTrainConTa = pd.DataFrame(daTrainCon.iloc[:,1:9].sum())\n",
        "daTrainHouTa = pd.DataFrame(daTrainHou.iloc[:,1:9].sum())"
      ],
      "metadata": {
        "id": "yiRBVhPN2yxf"
      },
      "execution_count": 5,
      "outputs": []
    },
    {
      "cell_type": "code",
      "source": [
        "daTrainCon"
      ],
      "metadata": {
        "colab": {
          "base_uri": "https://localhost:8080/",
          "height": 238
        },
        "id": "YG_9tQs0HGfH",
        "outputId": "dc0ca232-f443-44b8-83e5-d53f8d0e43fc"
      },
      "execution_count": 6,
      "outputs": [
        {
          "output_type": "execute_result",
          "data": {
            "text/plain": [
              "    House ID  Local Price  Bathrooms  Land Area  Living area  # Garages  \\\n",
              "2          3       4.5429        1.0      2.275        1.175        1.0   \n",
              "5          6       3.8910        1.0      4.455        0.988        1.0   \n",
              "6          7       5.8980        1.0      5.850        1.240        1.0   \n",
              "8          9      16.4202        2.5      9.800        3.420        2.0   \n",
              "13        14       5.9592        1.0      6.666        1.121        2.0   \n",
              "18        19       7.7841        1.5      7.102        1.376        1.0   \n",
              "\n",
              "    # Rooms  # Bedrooms  Age of home Construction type  \n",
              "2         6           3           40             Condo  \n",
              "5         6           3           56             Condo  \n",
              "6         7           3           51             Condo  \n",
              "8        10           5           42             Condo  \n",
              "13        6           3           32             Condo  \n",
              "18        6           3           17             Condo  "
            ],
            "text/html": [
              "\n",
              "  <div id=\"df-fbdd19a0-c541-49be-a55f-3b41d8715f84\">\n",
              "    <div class=\"colab-df-container\">\n",
              "      <div>\n",
              "<style scoped>\n",
              "    .dataframe tbody tr th:only-of-type {\n",
              "        vertical-align: middle;\n",
              "    }\n",
              "\n",
              "    .dataframe tbody tr th {\n",
              "        vertical-align: top;\n",
              "    }\n",
              "\n",
              "    .dataframe thead th {\n",
              "        text-align: right;\n",
              "    }\n",
              "</style>\n",
              "<table border=\"1\" class=\"dataframe\">\n",
              "  <thead>\n",
              "    <tr style=\"text-align: right;\">\n",
              "      <th></th>\n",
              "      <th>House ID</th>\n",
              "      <th>Local Price</th>\n",
              "      <th>Bathrooms</th>\n",
              "      <th>Land Area</th>\n",
              "      <th>Living area</th>\n",
              "      <th># Garages</th>\n",
              "      <th># Rooms</th>\n",
              "      <th># Bedrooms</th>\n",
              "      <th>Age of home</th>\n",
              "      <th>Construction type</th>\n",
              "    </tr>\n",
              "  </thead>\n",
              "  <tbody>\n",
              "    <tr>\n",
              "      <th>2</th>\n",
              "      <td>3</td>\n",
              "      <td>4.5429</td>\n",
              "      <td>1.0</td>\n",
              "      <td>2.275</td>\n",
              "      <td>1.175</td>\n",
              "      <td>1.0</td>\n",
              "      <td>6</td>\n",
              "      <td>3</td>\n",
              "      <td>40</td>\n",
              "      <td>Condo</td>\n",
              "    </tr>\n",
              "    <tr>\n",
              "      <th>5</th>\n",
              "      <td>6</td>\n",
              "      <td>3.8910</td>\n",
              "      <td>1.0</td>\n",
              "      <td>4.455</td>\n",
              "      <td>0.988</td>\n",
              "      <td>1.0</td>\n",
              "      <td>6</td>\n",
              "      <td>3</td>\n",
              "      <td>56</td>\n",
              "      <td>Condo</td>\n",
              "    </tr>\n",
              "    <tr>\n",
              "      <th>6</th>\n",
              "      <td>7</td>\n",
              "      <td>5.8980</td>\n",
              "      <td>1.0</td>\n",
              "      <td>5.850</td>\n",
              "      <td>1.240</td>\n",
              "      <td>1.0</td>\n",
              "      <td>7</td>\n",
              "      <td>3</td>\n",
              "      <td>51</td>\n",
              "      <td>Condo</td>\n",
              "    </tr>\n",
              "    <tr>\n",
              "      <th>8</th>\n",
              "      <td>9</td>\n",
              "      <td>16.4202</td>\n",
              "      <td>2.5</td>\n",
              "      <td>9.800</td>\n",
              "      <td>3.420</td>\n",
              "      <td>2.0</td>\n",
              "      <td>10</td>\n",
              "      <td>5</td>\n",
              "      <td>42</td>\n",
              "      <td>Condo</td>\n",
              "    </tr>\n",
              "    <tr>\n",
              "      <th>13</th>\n",
              "      <td>14</td>\n",
              "      <td>5.9592</td>\n",
              "      <td>1.0</td>\n",
              "      <td>6.666</td>\n",
              "      <td>1.121</td>\n",
              "      <td>2.0</td>\n",
              "      <td>6</td>\n",
              "      <td>3</td>\n",
              "      <td>32</td>\n",
              "      <td>Condo</td>\n",
              "    </tr>\n",
              "    <tr>\n",
              "      <th>18</th>\n",
              "      <td>19</td>\n",
              "      <td>7.7841</td>\n",
              "      <td>1.5</td>\n",
              "      <td>7.102</td>\n",
              "      <td>1.376</td>\n",
              "      <td>1.0</td>\n",
              "      <td>6</td>\n",
              "      <td>3</td>\n",
              "      <td>17</td>\n",
              "      <td>Condo</td>\n",
              "    </tr>\n",
              "  </tbody>\n",
              "</table>\n",
              "</div>\n",
              "      <button class=\"colab-df-convert\" onclick=\"convertToInteractive('df-fbdd19a0-c541-49be-a55f-3b41d8715f84')\"\n",
              "              title=\"Convert this dataframe to an interactive table.\"\n",
              "              style=\"display:none;\">\n",
              "        \n",
              "  <svg xmlns=\"http://www.w3.org/2000/svg\" height=\"24px\"viewBox=\"0 0 24 24\"\n",
              "       width=\"24px\">\n",
              "    <path d=\"M0 0h24v24H0V0z\" fill=\"none\"/>\n",
              "    <path d=\"M18.56 5.44l.94 2.06.94-2.06 2.06-.94-2.06-.94-.94-2.06-.94 2.06-2.06.94zm-11 1L8.5 8.5l.94-2.06 2.06-.94-2.06-.94L8.5 2.5l-.94 2.06-2.06.94zm10 10l.94 2.06.94-2.06 2.06-.94-2.06-.94-.94-2.06-.94 2.06-2.06.94z\"/><path d=\"M17.41 7.96l-1.37-1.37c-.4-.4-.92-.59-1.43-.59-.52 0-1.04.2-1.43.59L10.3 9.45l-7.72 7.72c-.78.78-.78 2.05 0 2.83L4 21.41c.39.39.9.59 1.41.59.51 0 1.02-.2 1.41-.59l7.78-7.78 2.81-2.81c.8-.78.8-2.07 0-2.86zM5.41 20L4 18.59l7.72-7.72 1.47 1.35L5.41 20z\"/>\n",
              "  </svg>\n",
              "      </button>\n",
              "      \n",
              "  <style>\n",
              "    .colab-df-container {\n",
              "      display:flex;\n",
              "      flex-wrap:wrap;\n",
              "      gap: 12px;\n",
              "    }\n",
              "\n",
              "    .colab-df-convert {\n",
              "      background-color: #E8F0FE;\n",
              "      border: none;\n",
              "      border-radius: 50%;\n",
              "      cursor: pointer;\n",
              "      display: none;\n",
              "      fill: #1967D2;\n",
              "      height: 32px;\n",
              "      padding: 0 0 0 0;\n",
              "      width: 32px;\n",
              "    }\n",
              "\n",
              "    .colab-df-convert:hover {\n",
              "      background-color: #E2EBFA;\n",
              "      box-shadow: 0px 1px 2px rgba(60, 64, 67, 0.3), 0px 1px 3px 1px rgba(60, 64, 67, 0.15);\n",
              "      fill: #174EA6;\n",
              "    }\n",
              "\n",
              "    [theme=dark] .colab-df-convert {\n",
              "      background-color: #3B4455;\n",
              "      fill: #D2E3FC;\n",
              "    }\n",
              "\n",
              "    [theme=dark] .colab-df-convert:hover {\n",
              "      background-color: #434B5C;\n",
              "      box-shadow: 0px 1px 3px 1px rgba(0, 0, 0, 0.15);\n",
              "      filter: drop-shadow(0px 1px 2px rgba(0, 0, 0, 0.3));\n",
              "      fill: #FFFFFF;\n",
              "    }\n",
              "  </style>\n",
              "\n",
              "      <script>\n",
              "        const buttonEl =\n",
              "          document.querySelector('#df-fbdd19a0-c541-49be-a55f-3b41d8715f84 button.colab-df-convert');\n",
              "        buttonEl.style.display =\n",
              "          google.colab.kernel.accessAllowed ? 'block' : 'none';\n",
              "\n",
              "        async function convertToInteractive(key) {\n",
              "          const element = document.querySelector('#df-fbdd19a0-c541-49be-a55f-3b41d8715f84');\n",
              "          const dataTable =\n",
              "            await google.colab.kernel.invokeFunction('convertToInteractive',\n",
              "                                                     [key], {});\n",
              "          if (!dataTable) return;\n",
              "\n",
              "          const docLinkHtml = 'Like what you see? Visit the ' +\n",
              "            '<a target=\"_blank\" href=https://colab.research.google.com/notebooks/data_table.ipynb>data table notebook</a>'\n",
              "            + ' to learn more about interactive tables.';\n",
              "          element.innerHTML = '';\n",
              "          dataTable['output_type'] = 'display_data';\n",
              "          await google.colab.output.renderOutput(dataTable, element);\n",
              "          const docLink = document.createElement('div');\n",
              "          docLink.innerHTML = docLinkHtml;\n",
              "          element.appendChild(docLink);\n",
              "        }\n",
              "      </script>\n",
              "    </div>\n",
              "  </div>\n",
              "  "
            ]
          },
          "metadata": {},
          "execution_count": 6
        }
      ]
    },
    {
      "cell_type": "code",
      "source": [
        "AptTot = daTrainAptTa.sum()\n",
        "AptProb = pd.DataFrame(daTrainAptTa/AptTot)\n",
        "print(\"probabilities for Apartment\", AptProb)"
      ],
      "metadata": {
        "colab": {
          "base_uri": "https://localhost:8080/"
        },
        "id": "FA5BlW-H4wJA",
        "outputId": "2bdcdbb7-e500-48a2-855b-e1812f75b1e4"
      },
      "execution_count": 7,
      "outputs": [
        {
          "output_type": "stream",
          "name": "stdout",
          "text": [
            "probabilities for Apartment                     0\n",
            "Local Price  0.110364\n",
            "Bathrooms    0.019351\n",
            "Land Area    0.091868\n",
            "Living area  0.022651\n",
            "# Garages    0.018276\n",
            "# Rooms      0.103206\n",
            "# Bedrooms   0.051603\n",
            "Age of home  0.582681\n"
          ]
        }
      ]
    },
    {
      "cell_type": "code",
      "source": [
        "ConTot = daTrainConTa.sum()\n",
        "ConProb = pd.DataFrame(daTrainConTa/ConTot)\n",
        "print(\"probabilities for Condo\", ConProb)"
      ],
      "metadata": {
        "colab": {
          "base_uri": "https://localhost:8080/"
        },
        "id": "PqJCTtIq5F9X",
        "outputId": "46399c21-32c9-4ce2-a2a2-86ef4caac541"
      },
      "execution_count": 8,
      "outputs": [
        {
          "output_type": "stream",
          "name": "stdout",
          "text": [
            "probabilities for Condo                     0\n",
            "Local Price  0.109875\n",
            "Bathrooms    0.019755\n",
            "Land Area    0.089262\n",
            "Living area  0.023014\n",
            "# Garages    0.019755\n",
            "# Rooms      0.101244\n",
            "# Bedrooms   0.049387\n",
            "Age of home  0.587707\n"
          ]
        }
      ]
    },
    {
      "cell_type": "code",
      "source": [
        "HouTot = daTrainHouTa.sum()\n",
        "HouProb = pd.DataFrame(daTrainHouTa/HouTot)\n",
        "print(\"probabilities for House\", HouProb)"
      ],
      "metadata": {
        "colab": {
          "base_uri": "https://localhost:8080/"
        },
        "id": "YkoTv6Bv5GaI",
        "outputId": "3b8b43ae-3608-401b-9889-2f22df143aeb"
      },
      "execution_count": 9,
      "outputs": [
        {
          "output_type": "stream",
          "name": "stdout",
          "text": [
            "probabilities for House                     0\n",
            "Local Price  0.097056\n",
            "Bathrooms    0.018051\n",
            "Land Area    0.111716\n",
            "Living area  0.023447\n",
            "# Garages    0.018051\n",
            "# Rooms      0.103494\n",
            "# Bedrooms   0.050544\n",
            "Age of home  0.577640\n"
          ]
        }
      ]
    },
    {
      "cell_type": "code",
      "source": [
        "AptPrior = len(daTrainApt.index)/len(dfTrain.index)\n",
        "print(\"priors for Apartment: \", AptPrior)"
      ],
      "metadata": {
        "colab": {
          "base_uri": "https://localhost:8080/"
        },
        "id": "iV7uQN2i5dBB",
        "outputId": "a4360775-2dd0-4e89-df60-bb3d3ba20024"
      },
      "execution_count": 10,
      "outputs": [
        {
          "output_type": "stream",
          "name": "stdout",
          "text": [
            "priors for Apartment:  0.35\n"
          ]
        }
      ]
    },
    {
      "cell_type": "code",
      "source": [
        "ConPrior = len(daTrainCon.index)/len(dfTrain.index)\n",
        "print(\"priors for Condo: \", ConPrior)"
      ],
      "metadata": {
        "colab": {
          "base_uri": "https://localhost:8080/"
        },
        "id": "iZh3zfZm53iB",
        "outputId": "0fe405ed-468c-4be5-ff01-44f0bf5cf7d3"
      },
      "execution_count": 11,
      "outputs": [
        {
          "output_type": "stream",
          "name": "stdout",
          "text": [
            "priors for Condo:  0.3\n"
          ]
        }
      ]
    },
    {
      "cell_type": "code",
      "source": [
        "HouPrior = len(daTrainHou.index)/len(dfTrain.index)\n",
        "print(\"priors for House: \", HouPrior)"
      ],
      "metadata": {
        "colab": {
          "base_uri": "https://localhost:8080/"
        },
        "id": "fmvUF-bK53zf",
        "outputId": "af225b22-a3ce-49eb-bd6b-a36549483fca"
      },
      "execution_count": 12,
      "outputs": [
        {
          "output_type": "stream",
          "name": "stdout",
          "text": [
            "priors for House:  0.35\n"
          ]
        }
      ]
    },
    {
      "cell_type": "markdown",
      "source": [
        "**2. Using your conditional probability table, write a Python code that will compute the probabilities for each example in the test data. Your program should output the probabilities of each class as well as the final classification based on the MAP rule.**\n",
        "Note: You should hard-code the conditional probabilities from the previous step into your\n",
        "code."
      ],
      "metadata": {
        "id": "nSzEtoesobhi"
      }
    },
    {
      "cell_type": "code",
      "source": [
        "# Calculate the probabilities with MAP rule on the training set\n",
        "\n",
        "AptPost = np.zeros((len(dfTrain.index)))\n",
        "for i in range(len(dfTrain.index)):\n",
        "  AptPost[i] = AptPrior\n",
        "  for j in range(len(AptProb.index)):\n",
        "    AptPost[i] = AptPost[i] * AptProb.iloc[j,0]**dfTrain.iloc[i,j+1]\n",
        "\n",
        "ConPost = np.zeros((len(dfTrain.index)))\n",
        "for i in range(len(dfTrain.index)):\n",
        "  ConPost[i] = ConPrior\n",
        "  for j in range(len(ConProb.index)):\n",
        "    ConPost[i] = ConPost[i] * ConProb.iloc[j,0]**dfTrain.iloc[i,j+1]\n",
        "\n",
        "HouPost = np.zeros((len(dfTrain.index)))\n",
        "for i in range(len(dfTrain.index)):\n",
        "  HouPost[i] = HouPrior\n",
        "  for j in range(len(HouProb.index)):\n",
        "    HouPost[i] = HouPost[i] * HouProb.iloc[j,0]**dfTrain.iloc[i,j+1]"
      ],
      "metadata": {
        "id": "RJ_3Ix0c6F6R"
      },
      "execution_count": 13,
      "outputs": []
    },
    {
      "cell_type": "code",
      "source": [
        "# Print the calculated probabilities with MAP rule on the training set\n",
        "\n",
        "print(\"probabilities of Apartment given features on the trainin set\", AptPost)\n",
        "print()\n",
        "print(\"probabilities of Condo given features on the trainin set\", ConPost)\n",
        "print()\n",
        "print(\"probabilities of House given features on the trainin set\", HouPost)"
      ],
      "metadata": {
        "colab": {
          "base_uri": "https://localhost:8080/"
        },
        "id": "yB55dVv5ounC",
        "outputId": "6b2cbf53-d29e-469a-d884-d209bfea5d5a"
      },
      "execution_count": 14,
      "outputs": [
        {
          "output_type": "stream",
          "name": "stdout",
          "text": [
            "probabilities of Apartment given features on the trainin set [1.73329375e-36 6.66317350e-44 1.95088191e-32 1.14377640e-37\n",
            " 1.42872587e-35 1.61586942e-37 4.10208384e-41 6.93787133e-38\n",
            " 1.34757746e-66 1.38220806e-59 6.35221799e-38 3.00317733e-34\n",
            " 1.65847406e-32 4.06533715e-38 6.89859935e-33 6.93787133e-38\n",
            " 5.75045138e-48 2.66943875e-38 2.45948111e-36 7.18554259e-41]\n",
            "\n",
            "probabilities of Condo given features on the trainin set [1.55166012e-36 7.70067498e-44 1.90103790e-32 1.19538247e-37\n",
            " 1.32604799e-35 1.69656587e-37 3.86922926e-41 4.74271059e-38\n",
            " 1.00033154e-66 7.55873515e-60 5.51473202e-38 2.49045672e-34\n",
            " 1.42331893e-32 3.49815167e-38 6.41804935e-33 4.74271059e-38\n",
            " 5.60563770e-48 2.00114312e-38 1.71049770e-36 5.18695342e-41]\n",
            "\n",
            "probabilities of House given features on the trainin set [1.12917082e-36 3.66018747e-44 1.09986170e-32 8.08087218e-38\n",
            " 1.13254573e-35 1.31191035e-37 3.57168221e-41 1.54546284e-37\n",
            " 6.59807075e-67 1.96265785e-59 7.26568493e-38 2.88612553e-34\n",
            " 1.55802581e-32 4.76652303e-38 6.04321288e-33 1.54546284e-37\n",
            " 3.09684358e-48 3.20958309e-38 2.79162333e-36 7.82737372e-41]\n"
          ]
        }
      ]
    },
    {
      "cell_type": "code",
      "source": [
        "def accuracy_score(y_true, y_pred):\n",
        "\n",
        "  \"\"\"\tscore = (y_true - y_pred) / len(y_true) \"\"\"\n",
        "\n",
        "  return round(float(sum(y_pred == y_true))/float(len(y_true)) * 100 ,2)"
      ],
      "metadata": {
        "id": "fnBRGGQc8fHI"
      },
      "execution_count": 15,
      "outputs": []
    },
    {
      "cell_type": "code",
      "source": [
        "# Calculating the accuracy of predictions on the training set\n",
        "\n",
        "labelsTrain = dfTrain.iloc[: , -1].to_numpy()\n",
        "b1, c1 = np.unique(labelsTrain, return_inverse=True)\n",
        "\n",
        "probTrain = np.vstack([AptPost,ConPost,HouPost]).argmax(axis=0)\n",
        "accTrain = accuracy_score(labelsTrain[c1], labelsTrain[probTrain])\n",
        "print(\"The accuracy of prediction on the training set (percent): \", accTrain)"
      ],
      "metadata": {
        "colab": {
          "base_uri": "https://localhost:8080/"
        },
        "id": "akpMmrWz-RZT",
        "outputId": "7dfca66e-1873-4d6d-83d2-0ba990626d67"
      },
      "execution_count": 16,
      "outputs": [
        {
          "output_type": "stream",
          "name": "stdout",
          "text": [
            "The accuracy of prediction on the training set (percent):  45.0\n"
          ]
        }
      ]
    },
    {
      "cell_type": "code",
      "source": [
        "# Calculate the probabilities with MAP rule on the test set\n",
        "\n",
        "AptPostTest = np.zeros((len(dfTest.index)))\n",
        "for i in range(len(dfTest.index)):\n",
        "  AptPostTest[i] = AptPrior\n",
        "  for j in range(len(AptProb.index)):\n",
        "    AptPostTest[i] = AptPostTest[i] * AptProb.iloc[j,0]**dfTest.iloc[i,j+1]\n",
        "\n",
        "ConPostTest = np.zeros((len(dfTest.index)))\n",
        "for i in range(len(dfTest.index)):\n",
        "  ConPostTest[i] = ConPrior\n",
        "  for j in range(len(ConProb.index)):\n",
        "    ConPostTest[i] = ConPostTest[i] * ConProb.iloc[j,0]**dfTest.iloc[i,j+1]\n",
        "\n",
        "HouPostTest = np.zeros((len(dfTest.index)))\n",
        "for i in range(len(dfTest.index)):\n",
        "  HouPostTest[i] = HouPrior\n",
        "  for j in range(len(HouProb.index)):\n",
        "    HouPostTest[i] = HouPostTest[i] * HouProb.iloc[j,0]**dfTest.iloc[i,j+1]"
      ],
      "metadata": {
        "id": "F66TgHDkCljz"
      },
      "execution_count": 17,
      "outputs": []
    },
    {
      "cell_type": "code",
      "source": [
        "# Print the calculated probabilities with MAP rule on the test set\n",
        "\n",
        "print(\"probabilities of Apartment given features on the test set\", AptPostTest)\n",
        "print()\n",
        "print(\"probabilities of Condo given features on the test set\", ConPostTest)\n",
        "print()\n",
        "print(\"probabilities of House given features on the test set\", HouPostTest)"
      ],
      "metadata": {
        "colab": {
          "base_uri": "https://localhost:8080/"
        },
        "id": "cZBluY_2pTIy",
        "outputId": "ac775a27-a48a-4296-c9fa-c07dfe65d12b"
      },
      "execution_count": 18,
      "outputs": [
        {
          "output_type": "stream",
          "name": "stdout",
          "text": [
            "probabilities of Apartment given features on the test set [4.08699466e-41 6.11248297e-52 2.11229526e-36 4.98478814e-46\n",
            " 1.08871175e-42]\n",
            "\n",
            "probabilities of Condo given features on the test set [3.66648291e-41 5.22705979e-52 1.33279553e-36 3.72423729e-46\n",
            " 9.51486011e-43]\n",
            "\n",
            "probabilities of House given features on the test set [4.27691859e-41 7.24617233e-52 3.17601901e-36 4.37193751e-46\n",
            " 4.17852019e-43]\n"
          ]
        }
      ]
    },
    {
      "cell_type": "code",
      "source": [
        "# Calculating the accuracy of predictions on the test set\n",
        "\n",
        "labelsTest = dfTest.iloc[: , -1].to_numpy()\n",
        "\n",
        "ytest = np.zeros_like(labelsTest)\n",
        "for i in range (len(b1)):\n",
        "  ytest[labelsTest==b1[i]]= i\n",
        "ytest = ytest.astype(np.int32)\n",
        "\n",
        "probTest = np.vstack([AptPostTest,ConPostTest,HouPostTest]).argmax(axis=0)\n",
        "accTest = accuracy_score(labelsTest[ytest], labelsTest[probTest])\n",
        "print(\"The accuracy of prediction on the test set (percent): \", accTest)"
      ],
      "metadata": {
        "colab": {
          "base_uri": "https://localhost:8080/"
        },
        "id": "NeXBGBEqDARY",
        "outputId": "61100fc9-5582-4d43-b883-43afab73594d"
      },
      "execution_count": 22,
      "outputs": [
        {
          "output_type": "stream",
          "name": "stdout",
          "text": [
            "The accuracy of prediction on the test set (percent):  80.0\n"
          ]
        }
      ]
    },
    {
      "cell_type": "code",
      "source": [
        "print(\"True values on the test set: \", labelsTest[ytest])\n",
        "print(\"predictions on the test set: \", labelsTest[probTest])"
      ],
      "metadata": {
        "colab": {
          "base_uri": "https://localhost:8080/"
        },
        "id": "f_-m-DQ3pOYL",
        "outputId": "2fb0a771-7380-490b-bf11-28fb7f55ac3b"
      },
      "execution_count": 25,
      "outputs": [
        {
          "output_type": "stream",
          "name": "stdout",
          "text": [
            "True values on the test set:  ['Apartment' 'House' 'House' 'Apartment' 'Apartment']\n",
            "predictions on the test set:  ['House' 'House' 'House' 'Apartment' 'Apartment']\n"
          ]
        }
      ]
    },
    {
      "cell_type": "markdown",
      "source": [
        "The accuracy of the predictions on the test set is $%80$. First example is incorrectly classified as \"House\". The rest of the examples are correctly classified."
      ],
      "metadata": {
        "id": "IQc9IgzTptva"
      }
    }
  ]
}