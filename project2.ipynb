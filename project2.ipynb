{
  "nbformat": 4,
  "nbformat_minor": 0,
  "metadata": {
    "colab": {
      "provenance": [],
      "collapsed_sections": [],
      "authorship_tag": "ABX9TyNxqmNdYVwD0Cw2q7r3tKMl",
      "include_colab_link": true
    },
    "kernelspec": {
      "name": "python3",
      "display_name": "Python 3"
    },
    "language_info": {
      "name": "python"
    }
  },
  "cells": [
    {
      "cell_type": "markdown",
      "metadata": {
        "id": "view-in-github",
        "colab_type": "text"
      },
      "source": [
        "<a href=\"https://colab.research.google.com/github/Saeed-Akbari/CS5783-MachineLearning/blob/main/project2.ipynb\" target=\"_parent\"><img src=\"https://colab.research.google.com/assets/colab-badge.svg\" alt=\"Open In Colab\"/></a>"
      ]
    },
    {
      "cell_type": "code",
      "execution_count": 1,
      "metadata": {
        "id": "P_4T9SEXkwDt"
      },
      "outputs": [],
      "source": [
        "import numpy as np\n",
        "from scipy import signal\n",
        "import matplotlib.pyplot as plt"
      ]
    },
    {
      "cell_type": "code",
      "source": [
        "def RMS(x):\n",
        "    return np.sqrt(np.mean(x**2))"
      ],
      "metadata": {
        "id": "BW4oma_jlCbx"
      },
      "execution_count": 2,
      "outputs": []
    },
    {
      "cell_type": "markdown",
      "source": [
        "Create a sine wave with a frequency of $π/4$ rad/sample. The length of the signal is 16 samples, which equals two periods of the sine wave."
      ],
      "metadata": {
        "id": "1Rq4IXRlk3vf"
      }
    },
    {
      "cell_type": "code",
      "source": [
        "n = np.arange(16)\n",
        "x = np.cos(np.pi/4*n)\n",
        "plt.figure(1)\n",
        "plt.plot(n,x)\n",
        "plt.show()"
      ],
      "metadata": {
        "colab": {
          "base_uri": "https://localhost:8080/",
          "height": 265
        },
        "id": "5TobFyvpk3L4",
        "outputId": "1481ba93-87f4-4302-e0e8-084c62c4c4be"
      },
      "execution_count": 3,
      "outputs": [
        {
          "output_type": "display_data",
          "data": {
            "text/plain": [
              "<Figure size 432x288 with 1 Axes>"
            ],
            "image/png": "[encoded data removed]"
          },
          "metadata": {
            "needs_background": "light"
          }
        }
      ]
    },
    {
      "cell_type": "code",
      "source": [
        "print(\"rms of the cosine waive = \", RMS(x))"
      ],
      "metadata": {
        "colab": {
          "base_uri": "https://localhost:8080/"
        },
        "id": "zGVzI8zfldPA",
        "outputId": "040e7bea-f9e7-40ea-972c-38c9cd042be9"
      },
      "execution_count": 4,
      "outputs": [
        {
          "output_type": "stream",
          "name": "stdout",
          "text": [
            "rms of the cosine waive =  0.7071067811865475\n"
          ]
        }
      ]
    },
    {
      "cell_type": "markdown",
      "source": [
        "The RMS value is equal to 1/√2, as expected."
      ],
      "metadata": {
        "id": "CB80IZmUlg4h"
      }
    },
    {
      "cell_type": "markdown",
      "source": [
        "Create a periodic square wave with a period of 0.1 seconds. The square wave values oscillate between −2 and 2."
      ],
      "metadata": {
        "id": "9WRLtL53m5oI"
      }
    },
    {
      "cell_type": "code",
      "source": [
        "t = np.arange(0,1,0.01)\n",
        "x = 2*signal.square(2*np.pi*10*t)\n",
        "plt.figure(1)\n",
        "plt.stem(t, x)\n",
        "plt.xlim([0, 1])\n",
        "plt.ylim([-2.5, 2.5])\n",
        "plt.show()"
      ],
      "metadata": {
        "colab": {
          "base_uri": "https://localhost:8080/",
          "height": 321
        },
        "id": "hdPvJL_Bm8JY",
        "outputId": "c867d32a-b8ef-49f0-8ec7-2e7fd60753d3"
      },
      "execution_count": 5,
      "outputs": [
        {
          "output_type": "stream",
          "name": "stderr",
          "text": [
            "/usr/local/lib/python3.7/dist-packages/ipykernel_launcher.py:4: UserWarning: In Matplotlib 3.3 individual lines on a stem plot will be added as a LineCollection instead of individual lines. This significantly improves the performance of a stem plot. To remove this warning and switch to the new behaviour, set the \"use_line_collection\" keyword argument to True.\n",
            "  after removing the cwd from sys.path.\n"
          ]
        },
        {
          "output_type": "display_data",
          "data": {
            "text/plain": [
              "<Figure size 432x288 with 1 Axes>"
            ],
            "image/png": "[encoded data removed]"
          },
          "metadata": {
            "needs_background": "light"
          }
        }
      ]
    },
    {
      "cell_type": "code",
      "source": [
        "print(\"rms of the square waive = \", RMS(x))"
      ],
      "metadata": {
        "colab": {
          "base_uri": "https://localhost:8080/"
        },
        "id": "LPIpzX3km_8R",
        "outputId": "2186c296-e9f8-4a4b-e333-5e9f06f0718a"
      },
      "execution_count": 6,
      "outputs": [
        {
          "output_type": "stream",
          "name": "stdout",
          "text": [
            "rms of the square waive =  2.0\n"
          ]
        }
      ]
    },
    {
      "cell_type": "markdown",
      "source": [
        "The RMS value agrees with the theoretical value of 2."
      ],
      "metadata": {
        "id": "qiw5N8hPnAuB"
      }
    },
    {
      "cell_type": "markdown",
      "source": [
        "Create a rectangular pulse train sampled at 1 kHz with the following parameters: the pulse is on, or equal to 1, for 0.025 seconds, and off, or equal to 0, for 0.075 seconds in each 0.1 second interval. This means the pulse period is 0.1 seconds and the pulse is on for 1/4 of that interval. This is referred to as the duty cycle. Use pulstran to create the rectangular pulse train."
      ],
      "metadata": {
        "id": "UUqztyhNnEtA"
      }
    },
    {
      "cell_type": "code",
      "source": [
        "t = np.arange(0,10,0.001)\n",
        "pulsewidth = 0.025\n",
        "pulseperiods = 0.1\n",
        "x = t % pulseperiods < pulsewidth\n",
        "plt.figure(2)\n",
        "plt.plot(t,x)\n",
        "plt.xlim([0, 1])\n",
        "plt.ylim([-0.5, 1.5])\n",
        "plt.show()"
      ],
      "metadata": {
        "colab": {
          "base_uri": "https://localhost:8080/",
          "height": 269
        },
        "id": "eYbdAIUZnG9r",
        "outputId": "ab874fd1-b5d7-459e-9cf6-5e3ff623577d"
      },
      "execution_count": 30,
      "outputs": [
        {
          "output_type": "display_data",
          "data": {
            "text/plain": [
              "<Figure size 432x288 with 1 Axes>"
            ],
            "image/png": "[encoded data removed]"
          },
          "metadata": {
            "needs_background": "light"
          }
        }
      ]
    },
    {
      "cell_type": "markdown",
      "source": [
        "Find the RMS value and compare it to the RMS of a continuous-time rectangular pulse waveform with duty cycle 1/4 and peak amplitude 1."
      ],
      "metadata": {
        "id": "YO6yILmnnRTa"
      }
    },
    {
      "cell_type": "code",
      "source": [
        "print(\"rms of the  rectangular pulse = \", RMS(x))"
      ],
      "metadata": {
        "colab": {
          "base_uri": "https://localhost:8080/"
        },
        "id": "2N87NwCVnJ_R",
        "outputId": "82d39a18-1dd9-4dfe-b67c-e5a5627a5ae9"
      },
      "execution_count": 29,
      "outputs": [
        {
          "output_type": "stream",
          "name": "stdout",
          "text": [
            "rms of the  rectangular pulse =  0.5006744775867343\n"
          ]
        }
      ]
    },
    {
      "cell_type": "code",
      "source": [
        "print(\"rms of the  rectangular pulse = \", np.sqrt(1/4))"
      ],
      "metadata": {
        "colab": {
          "base_uri": "https://localhost:8080/"
        },
        "id": "TX9q1T0hnUXi",
        "outputId": "7730e39d-8625-4dfd-d042-e506ec854985"
      },
      "execution_count": 10,
      "outputs": [
        {
          "output_type": "stream",
          "name": "stdout",
          "text": [
            "rms of the  rectangular pulse =  0.5\n"
          ]
        }
      ]
    },
    {
      "cell_type": "markdown",
      "source": [
        "The observed RMS value and the RMS value for a continuous-time rectangular pulse waveform are in good agreement."
      ],
      "metadata": {
        "id": "CCeH6ILTnKZQ"
      }
    }
  ]
}