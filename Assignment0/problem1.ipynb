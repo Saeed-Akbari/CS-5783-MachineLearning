{
  "nbformat": 4,
  "nbformat_minor": 0,
  "metadata": {
    "colab": {
      "name": "Untitled1.ipynb",
      "provenance": [],
      "collapsed_sections": [],
      "authorship_tag": "ABX9TyOXkRmD4f11k5C6wLhDHyZM",
      "include_colab_link": true
    },
    "kernelspec": {
      "name": "python3",
      "display_name": "Python 3"
    },
    "language_info": {
      "name": "python"
    }
  },
  "cells": [
    {
      "cell_type": "markdown",
      "metadata": {
        "id": "view-in-github",
        "colab_type": "text"
      },
      "source": [
        "<a href=\"https://colab.research.google.com/github/Saeed-Akbari/CS-5783-MachineLearning/blob/main/Assignment0/problem1.ipynb\" target=\"_parent\"><img src=\"https://colab.research.google.com/assets/colab-badge.svg\" alt=\"Open In Colab\"/></a>"
      ]
    },
    {
      "cell_type": "code",
      "execution_count": 1,
      "metadata": {
        "id": "kIXXfoCZQHgx"
      },
      "outputs": [],
      "source": [
        "import numpy as np\n",
        "import matplotlib.pyplot as plt\n",
        "from collections import OrderedDict\n",
        "import numpy as np"
      ]
    },
    {
      "cell_type": "code",
      "source": [
        "from google.colab import drive\n",
        "drive.mount('/content/drive')"
      ],
      "metadata": {
        "colab": {
          "base_uri": "https://localhost:8080/"
        },
        "id": "quE65dfXQ2vE",
        "outputId": "5633e6dc-6006-4a53-f8f4-2666622857fa"
      },
      "execution_count": 2,
      "outputs": [
        {
          "output_type": "stream",
          "name": "stdout",
          "text": [
            "Mounted at /content/drive\n"
          ]
        }
      ]
    },
    {
      "cell_type": "code",
      "source": [
        "# Change the path to where you have saved the text file.\n",
        "path=\"/content/drive/MyDrive/machineLearning/Assignment0/test.txt\"\n",
        "with open(path) as f:\n",
        "    lines = f.readlines()"
      ],
      "metadata": {
        "id": "nLIJXnwNQ8OU"
      },
      "execution_count": 5,
      "outputs": []
    },
    {
      "cell_type": "code",
      "source": [
        "mydict = {}\n",
        "i = 0\n",
        "for sentence in lines:\n",
        "    for letter in sentence:\n",
        "        if letter.isalpha():\n",
        "            if letter.isupper():\n",
        "                letter=letter.lower()\n",
        "            if letter in mydict.keys():\n",
        "                mydict[letter]+= 1\n",
        "            else:\n",
        "                mydict[letter] =1"
      ],
      "metadata": {
        "id": "HGmzhThTRnum"
      },
      "execution_count": 6,
      "outputs": []
    },
    {
      "cell_type": "code",
      "source": [
        "sortDict = OrderedDict(sorted(mydict.items()))\n",
        "myarr = np.array(list(sortDict.values()))\n",
        "totalFreq = np.sum(myarr)"
      ],
      "metadata": {
        "id": "4UbcGF0xRqLE"
      },
      "execution_count": 7,
      "outputs": []
    },
    {
      "cell_type": "code",
      "source": [
        "myarr = np.array(list(sortDict.values()))\n",
        "plt.bar(list(sortDict.keys()), myarr/totalFreq, color='b')\n",
        "plt.xlabel('Letters')\n",
        "plt.ylabel('Relative Frequency')\n",
        "plt.title('Normalized Histogram')\n",
        "plt.show()"
      ],
      "metadata": {
        "colab": {
          "base_uri": "https://localhost:8080/",
          "height": 295
        },
        "id": "xLeY_Ty5Rvf8",
        "outputId": "fc1ae20b-f55c-49f7-d671-9205a9e4e60f"
      },
      "execution_count": 12,
      "outputs": [
        {
          "output_type": "display_data",
          "data": {
            "text/plain": [
              "<Figure size 432x288 with 1 Axes>"
            ],
            "image/png": "[encoded data removed]"
          },
          "metadata": {
            "needs_background": "light"
          }
        }
      ]
    },
    {
      "cell_type": "code",
      "source": [
        "plt.bar(list(sortDict.keys()), sortDict.values(), color='g')\n",
        "plt.xlabel('Letters')\n",
        "plt.ylabel('Absolute Frequency')\n",
        "plt.title('Histogram')\n",
        "plt.show()"
      ],
      "metadata": {
        "colab": {
          "base_uri": "https://localhost:8080/",
          "height": 295
        },
        "id": "gpDSjVLSRyuz",
        "outputId": "8f93122d-e7c4-46a2-b346-f62950fd489c"
      },
      "execution_count": 10,
      "outputs": [
        {
          "output_type": "display_data",
          "data": {
            "text/plain": [
              "<Figure size 432x288 with 1 Axes>"
            ],
            "image/png": "[encoded data removed]"
          },
          "metadata": {
            "needs_background": "light"
          }
        }
      ]
    }
  ]
}